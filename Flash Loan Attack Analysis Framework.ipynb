{
 "cells": [
  {
   "cell_type": "markdown",
   "source": [
    "# The Flash Loan Attack Analysis (FAA) Framework"
   ],
   "metadata": {
    "collapsed": false
   }
  },
  {
   "cell_type": "markdown",
   "source": [
    "## Importing Blockchain Data"
   ],
   "metadata": {
    "collapsed": false
   }
  },
  {
   "cell_type": "code",
   "execution_count": 1,
   "outputs": [],
   "source": [
    "import pandas as pd\n",
    "from datetime import datetime"
   ],
   "metadata": {
    "collapsed": false,
    "ExecuteTime": {
     "end_time": "2023-08-23T10:52:53.332863Z",
     "start_time": "2023-08-23T10:52:52.353106600Z"
    }
   }
  },
  {
   "cell_type": "markdown",
   "source": [
    "### Overall Transaction"
   ],
   "metadata": {
    "collapsed": false
   }
  },
  {
   "cell_type": "code",
   "execution_count": 2,
   "outputs": [
    {
     "data": {
      "text/plain": "   blockNumber   timeStamp                                               hash  \\\n0     11473330  1608243881  0x8bb8dc5c7c830bac85fa48acad2505e9300a91c3ff23...   \n\n   nonce                                          blockHash  transactionIndex  \\\n0      4  0xace8f027885d93d734e046661df5e51d96d21d78d42c...                65   \n\n                                         from  \\\n0  0xebc6bd6ac2c9ad4adf4ba57e9f709b8b9cf03c40   \n\n                                           to  value      gas     gasPrice  \\\n0  0xdf8bee861227ffc5eea819c332a1c170ae3dbacb      0  3656990  89000000000   \n\n   isError  txreceipt_status       input  contractAddress  cumulativeGasUsed  \\\n0        0                 1  0xb8e7c2fa              NaN            6231822   \n\n   gasUsed  confirmations    methodId  functionName  \n0  2339018        6467692  0xb8e7c2fa           NaN  ",
      "text/html": "<div>\n<style scoped>\n    .dataframe tbody tr th:only-of-type {\n        vertical-align: middle;\n    }\n\n    .dataframe tbody tr th {\n        vertical-align: top;\n    }\n\n    .dataframe thead th {\n        text-align: right;\n    }\n</style>\n<table border=\"1\" class=\"dataframe\">\n  <thead>\n    <tr style=\"text-align: right;\">\n      <th></th>\n      <th>blockNumber</th>\n      <th>timeStamp</th>\n      <th>hash</th>\n      <th>nonce</th>\n      <th>blockHash</th>\n      <th>transactionIndex</th>\n      <th>from</th>\n      <th>to</th>\n      <th>value</th>\n      <th>gas</th>\n      <th>gasPrice</th>\n      <th>isError</th>\n      <th>txreceipt_status</th>\n      <th>input</th>\n      <th>contractAddress</th>\n      <th>cumulativeGasUsed</th>\n      <th>gasUsed</th>\n      <th>confirmations</th>\n      <th>methodId</th>\n      <th>functionName</th>\n    </tr>\n  </thead>\n  <tbody>\n    <tr>\n      <th>0</th>\n      <td>11473330</td>\n      <td>1608243881</td>\n      <td>0x8bb8dc5c7c830bac85fa48acad2505e9300a91c3ff23...</td>\n      <td>4</td>\n      <td>0xace8f027885d93d734e046661df5e51d96d21d78d42c...</td>\n      <td>65</td>\n      <td>0xebc6bd6ac2c9ad4adf4ba57e9f709b8b9cf03c40</td>\n      <td>0xdf8bee861227ffc5eea819c332a1c170ae3dbacb</td>\n      <td>0</td>\n      <td>3656990</td>\n      <td>89000000000</td>\n      <td>0</td>\n      <td>1</td>\n      <td>0xb8e7c2fa</td>\n      <td>NaN</td>\n      <td>6231822</td>\n      <td>2339018</td>\n      <td>6467692</td>\n      <td>0xb8e7c2fa</td>\n      <td>NaN</td>\n    </tr>\n  </tbody>\n</table>\n</div>"
     },
     "execution_count": 2,
     "metadata": {},
     "output_type": "execute_result"
    }
   ],
   "source": [
    "transaction_df = pd.read_csv(\"txlist_data.csv\")\n",
    "\n",
    "transaction_df"
   ],
   "metadata": {
    "collapsed": false,
    "ExecuteTime": {
     "end_time": "2023-08-23T10:52:54.724986Z",
     "start_time": "2023-08-23T10:52:54.640893500Z"
    }
   }
  },
  {
   "cell_type": "code",
   "execution_count": 3,
   "outputs": [
    {
     "name": "stdout",
     "output_type": "stream",
     "text": [
      "The date of the warp finance flash loan attack was the 17th of December 2020\n",
      "The timestamp of 1608243881 converts to datetime: 2020-12-17 22:24:41 UTC (GMT)\n"
     ]
    }
   ],
   "source": [
    "# We know from inspecting the etherscan website that this is the correct transaction, but we will still check the timestamp matches the date of the warp finance attack\n",
    "print(\"The date of the warp finance flash loan attack was the 17th of December 2020\")\n",
    "timestamp = transaction_df[\"timeStamp\"][0]\n",
    "datetime_obj = datetime.fromtimestamp(timestamp)\n",
    "print(f\"The timestamp of {timestamp} converts to datetime: {datetime_obj} UTC (GMT)\")"
   ],
   "metadata": {
    "collapsed": false,
    "ExecuteTime": {
     "end_time": "2023-08-23T10:52:55.677034600Z",
     "start_time": "2023-08-23T10:52:55.612982400Z"
    }
   }
  },
  {
   "cell_type": "markdown",
   "source": [
    "### Internal Transactions"
   ],
   "metadata": {
    "collapsed": false
   }
  },
  {
   "cell_type": "code",
   "execution_count": 4,
   "outputs": [
    {
     "data": {
      "text/plain": "   blockNumber   timeStamp                                               hash  \\\n0     11473330  1608243881  0x8bb8dc5c7c830bac85fa48acad2505e9300a91c3ff23...   \n\n                                         from  \\\n0  0xc02aaa39b223fe8d0a0e5c4f27ead9083c756cc2   \n\n                                           to                   value  \\\n0  0xdf8bee861227ffc5eea819c332a1c170ae3dbacb  1462819418141686758539   \n\n   contractAddress  input  type   gas  gasUsed           traceId  isError  \\\n0              NaN    NaN  call  2300       41  2_1_2_1_2_1_31_0        0   \n\n   errCode  \n0      NaN  ",
      "text/html": "<div>\n<style scoped>\n    .dataframe tbody tr th:only-of-type {\n        vertical-align: middle;\n    }\n\n    .dataframe tbody tr th {\n        vertical-align: top;\n    }\n\n    .dataframe thead th {\n        text-align: right;\n    }\n</style>\n<table border=\"1\" class=\"dataframe\">\n  <thead>\n    <tr style=\"text-align: right;\">\n      <th></th>\n      <th>blockNumber</th>\n      <th>timeStamp</th>\n      <th>hash</th>\n      <th>from</th>\n      <th>to</th>\n      <th>value</th>\n      <th>contractAddress</th>\n      <th>input</th>\n      <th>type</th>\n      <th>gas</th>\n      <th>gasUsed</th>\n      <th>traceId</th>\n      <th>isError</th>\n      <th>errCode</th>\n    </tr>\n  </thead>\n  <tbody>\n    <tr>\n      <th>0</th>\n      <td>11473330</td>\n      <td>1608243881</td>\n      <td>0x8bb8dc5c7c830bac85fa48acad2505e9300a91c3ff23...</td>\n      <td>0xc02aaa39b223fe8d0a0e5c4f27ead9083c756cc2</td>\n      <td>0xdf8bee861227ffc5eea819c332a1c170ae3dbacb</td>\n      <td>1462819418141686758539</td>\n      <td>NaN</td>\n      <td>NaN</td>\n      <td>call</td>\n      <td>2300</td>\n      <td>41</td>\n      <td>2_1_2_1_2_1_31_0</td>\n      <td>0</td>\n      <td>NaN</td>\n    </tr>\n  </tbody>\n</table>\n</div>"
     },
     "execution_count": 4,
     "metadata": {},
     "output_type": "execute_result"
    }
   ],
   "source": [
    "internal_transactions_df = pd.read_csv(\"txlistinternal_data.csv\")\n",
    "\n",
    "internal_transactions_df"
   ],
   "metadata": {
    "collapsed": false,
    "ExecuteTime": {
     "end_time": "2023-08-23T10:52:56.977006800Z",
     "start_time": "2023-08-23T10:52:56.919094600Z"
    }
   }
  },
  {
   "cell_type": "markdown",
   "source": [
    "### Token Transfers"
   ],
   "metadata": {
    "collapsed": false
   }
  },
  {
   "cell_type": "code",
   "execution_count": 5,
   "outputs": [
    {
     "data": {
      "text/plain": "   blockNumber   timeStamp                                               hash  \\\n0     11473330  1608243881  0x8bb8dc5c7c830bac85fa48acad2505e9300a91c3ff23...   \n1     11473330  1608243881  0x8bb8dc5c7c830bac85fa48acad2505e9300a91c3ff23...   \n2     11473330  1608243881  0x8bb8dc5c7c830bac85fa48acad2505e9300a91c3ff23...   \n3     11473330  1608243881  0x8bb8dc5c7c830bac85fa48acad2505e9300a91c3ff23...   \n4     11473330  1608243881  0x8bb8dc5c7c830bac85fa48acad2505e9300a91c3ff23...   \n\n   nonce                                          blockHash  \\\n0      4  0xace8f027885d93d734e046661df5e51d96d21d78d42c...   \n1      4  0xace8f027885d93d734e046661df5e51d96d21d78d42c...   \n2      4  0xace8f027885d93d734e046661df5e51d96d21d78d42c...   \n3      4  0xace8f027885d93d734e046661df5e51d96d21d78d42c...   \n4      4  0xace8f027885d93d734e046661df5e51d96d21d78d42c...   \n\n                                         from  \\\n0  0xbb2b8038a1640196fbe3e38816f3e67cba72d940   \n1  0xb4e16d0168e52d35cacd2c6185b44281ec28c9dc   \n2  0x0d4a11d5eeaac28ec3f61d100daf4d40471f1852   \n3  0x1e0447b19bb6ecfdae1e4ae1694b0c3659614e4e   \n4  0x1e0447b19bb6ecfdae1e4ae1694b0c3659614e4e   \n\n                              contractAddress  \\\n0  0xc02aaa39b223fe8d0a0e5c4f27ead9083c756cc2   \n1  0xc02aaa39b223fe8d0a0e5c4f27ead9083c756cc2   \n2  0xc02aaa39b223fe8d0a0e5c4f27ead9083c756cc2   \n3  0x6b175474e89094c44da98b954eedeac495271d0f   \n4  0xc02aaa39b223fe8d0a0e5c4f27ead9083c756cc2   \n\n                                           to                      value  \\\n0  0xdf8bee861227ffc5eea819c332a1c170ae3dbacb    90409013949210977199603   \n1  0xdf8bee861227ffc5eea819c332a1c170ae3dbacb    82798403238691593953288   \n2  0xdf8bee861227ffc5eea819c332a1c170ae3dbacb    96092504596377425124746   \n3  0xdf8bee861227ffc5eea819c332a1c170ae3dbacb  2900029981390875168951633   \n4  0xdf8bee861227ffc5eea819c332a1c170ae3dbacb    76436763597706555986902   \n\n        tokenName tokenSymbol  tokenDecimal  transactionIndex      gas  \\\n0   Wrapped Ether        WETH            18                65  3656990   \n1   Wrapped Ether        WETH            18                65  3656990   \n2   Wrapped Ether        WETH            18                65  3656990   \n3  Dai Stablecoin         DAI            18                65  3656990   \n4   Wrapped Ether        WETH            18                65  3656990   \n\n      gasPrice  gasUsed  cumulativeGasUsed       input  confirmations  \n0  89000000000  2339018            6231822  deprecated        6434255  \n1  89000000000  2339018            6231822  deprecated        6434255  \n2  89000000000  2339018            6231822  deprecated        6434255  \n3  89000000000  2339018            6231822  deprecated        6434255  \n4  89000000000  2339018            6231822  deprecated        6434255  ",
      "text/html": "<div>\n<style scoped>\n    .dataframe tbody tr th:only-of-type {\n        vertical-align: middle;\n    }\n\n    .dataframe tbody tr th {\n        vertical-align: top;\n    }\n\n    .dataframe thead th {\n        text-align: right;\n    }\n</style>\n<table border=\"1\" class=\"dataframe\">\n  <thead>\n    <tr style=\"text-align: right;\">\n      <th></th>\n      <th>blockNumber</th>\n      <th>timeStamp</th>\n      <th>hash</th>\n      <th>nonce</th>\n      <th>blockHash</th>\n      <th>from</th>\n      <th>contractAddress</th>\n      <th>to</th>\n      <th>value</th>\n      <th>tokenName</th>\n      <th>tokenSymbol</th>\n      <th>tokenDecimal</th>\n      <th>transactionIndex</th>\n      <th>gas</th>\n      <th>gasPrice</th>\n      <th>gasUsed</th>\n      <th>cumulativeGasUsed</th>\n      <th>input</th>\n      <th>confirmations</th>\n    </tr>\n  </thead>\n  <tbody>\n    <tr>\n      <th>0</th>\n      <td>11473330</td>\n      <td>1608243881</td>\n      <td>0x8bb8dc5c7c830bac85fa48acad2505e9300a91c3ff23...</td>\n      <td>4</td>\n      <td>0xace8f027885d93d734e046661df5e51d96d21d78d42c...</td>\n      <td>0xbb2b8038a1640196fbe3e38816f3e67cba72d940</td>\n      <td>0xc02aaa39b223fe8d0a0e5c4f27ead9083c756cc2</td>\n      <td>0xdf8bee861227ffc5eea819c332a1c170ae3dbacb</td>\n      <td>90409013949210977199603</td>\n      <td>Wrapped Ether</td>\n      <td>WETH</td>\n      <td>18</td>\n      <td>65</td>\n      <td>3656990</td>\n      <td>89000000000</td>\n      <td>2339018</td>\n      <td>6231822</td>\n      <td>deprecated</td>\n      <td>6434255</td>\n    </tr>\n    <tr>\n      <th>1</th>\n      <td>11473330</td>\n      <td>1608243881</td>\n      <td>0x8bb8dc5c7c830bac85fa48acad2505e9300a91c3ff23...</td>\n      <td>4</td>\n      <td>0xace8f027885d93d734e046661df5e51d96d21d78d42c...</td>\n      <td>0xb4e16d0168e52d35cacd2c6185b44281ec28c9dc</td>\n      <td>0xc02aaa39b223fe8d0a0e5c4f27ead9083c756cc2</td>\n      <td>0xdf8bee861227ffc5eea819c332a1c170ae3dbacb</td>\n      <td>82798403238691593953288</td>\n      <td>Wrapped Ether</td>\n      <td>WETH</td>\n      <td>18</td>\n      <td>65</td>\n      <td>3656990</td>\n      <td>89000000000</td>\n      <td>2339018</td>\n      <td>6231822</td>\n      <td>deprecated</td>\n      <td>6434255</td>\n    </tr>\n    <tr>\n      <th>2</th>\n      <td>11473330</td>\n      <td>1608243881</td>\n      <td>0x8bb8dc5c7c830bac85fa48acad2505e9300a91c3ff23...</td>\n      <td>4</td>\n      <td>0xace8f027885d93d734e046661df5e51d96d21d78d42c...</td>\n      <td>0x0d4a11d5eeaac28ec3f61d100daf4d40471f1852</td>\n      <td>0xc02aaa39b223fe8d0a0e5c4f27ead9083c756cc2</td>\n      <td>0xdf8bee861227ffc5eea819c332a1c170ae3dbacb</td>\n      <td>96092504596377425124746</td>\n      <td>Wrapped Ether</td>\n      <td>WETH</td>\n      <td>18</td>\n      <td>65</td>\n      <td>3656990</td>\n      <td>89000000000</td>\n      <td>2339018</td>\n      <td>6231822</td>\n      <td>deprecated</td>\n      <td>6434255</td>\n    </tr>\n    <tr>\n      <th>3</th>\n      <td>11473330</td>\n      <td>1608243881</td>\n      <td>0x8bb8dc5c7c830bac85fa48acad2505e9300a91c3ff23...</td>\n      <td>4</td>\n      <td>0xace8f027885d93d734e046661df5e51d96d21d78d42c...</td>\n      <td>0x1e0447b19bb6ecfdae1e4ae1694b0c3659614e4e</td>\n      <td>0x6b175474e89094c44da98b954eedeac495271d0f</td>\n      <td>0xdf8bee861227ffc5eea819c332a1c170ae3dbacb</td>\n      <td>2900029981390875168951633</td>\n      <td>Dai Stablecoin</td>\n      <td>DAI</td>\n      <td>18</td>\n      <td>65</td>\n      <td>3656990</td>\n      <td>89000000000</td>\n      <td>2339018</td>\n      <td>6231822</td>\n      <td>deprecated</td>\n      <td>6434255</td>\n    </tr>\n    <tr>\n      <th>4</th>\n      <td>11473330</td>\n      <td>1608243881</td>\n      <td>0x8bb8dc5c7c830bac85fa48acad2505e9300a91c3ff23...</td>\n      <td>4</td>\n      <td>0xace8f027885d93d734e046661df5e51d96d21d78d42c...</td>\n      <td>0x1e0447b19bb6ecfdae1e4ae1694b0c3659614e4e</td>\n      <td>0xc02aaa39b223fe8d0a0e5c4f27ead9083c756cc2</td>\n      <td>0xdf8bee861227ffc5eea819c332a1c170ae3dbacb</td>\n      <td>76436763597706555986902</td>\n      <td>Wrapped Ether</td>\n      <td>WETH</td>\n      <td>18</td>\n      <td>65</td>\n      <td>3656990</td>\n      <td>89000000000</td>\n      <td>2339018</td>\n      <td>6231822</td>\n      <td>deprecated</td>\n      <td>6434255</td>\n    </tr>\n  </tbody>\n</table>\n</div>"
     },
     "execution_count": 5,
     "metadata": {},
     "output_type": "execute_result"
    }
   ],
   "source": [
    "token_transfers_df = pd.read_csv(\"tokentx_data.csv\")\n",
    "\n",
    "token_transfers_df.head()"
   ],
   "metadata": {
    "collapsed": false,
    "ExecuteTime": {
     "end_time": "2023-08-23T10:52:58.228471800Z",
     "start_time": "2023-08-23T10:52:58.202569900Z"
    }
   }
  },
  {
   "cell_type": "code",
   "execution_count": 6,
   "outputs": [
    {
     "data": {
      "text/plain": "                                         from  \\\n0  0xbb2b8038a1640196fbe3e38816f3e67cba72d940   \n1  0xb4e16d0168e52d35cacd2c6185b44281ec28c9dc   \n2  0x0d4a11d5eeaac28ec3f61d100daf4d40471f1852   \n3  0x1e0447b19bb6ecfdae1e4ae1694b0c3659614e4e   \n4  0x1e0447b19bb6ecfdae1e4ae1694b0c3659614e4e   \n\n                              contractAddress  \\\n0  0xc02aaa39b223fe8d0a0e5c4f27ead9083c756cc2   \n1  0xc02aaa39b223fe8d0a0e5c4f27ead9083c756cc2   \n2  0xc02aaa39b223fe8d0a0e5c4f27ead9083c756cc2   \n3  0x6b175474e89094c44da98b954eedeac495271d0f   \n4  0xc02aaa39b223fe8d0a0e5c4f27ead9083c756cc2   \n\n                                           to                      value  \\\n0  0xdf8bee861227ffc5eea819c332a1c170ae3dbacb    90409013949210977199603   \n1  0xdf8bee861227ffc5eea819c332a1c170ae3dbacb    82798403238691593953288   \n2  0xdf8bee861227ffc5eea819c332a1c170ae3dbacb    96092504596377425124746   \n3  0xdf8bee861227ffc5eea819c332a1c170ae3dbacb  2900029981390875168951633   \n4  0xdf8bee861227ffc5eea819c332a1c170ae3dbacb    76436763597706555986902   \n\n  tokenSymbol  tokenDecimal  \n0        WETH            18  \n1        WETH            18  \n2        WETH            18  \n3         DAI            18  \n4        WETH            18  ",
      "text/html": "<div>\n<style scoped>\n    .dataframe tbody tr th:only-of-type {\n        vertical-align: middle;\n    }\n\n    .dataframe tbody tr th {\n        vertical-align: top;\n    }\n\n    .dataframe thead th {\n        text-align: right;\n    }\n</style>\n<table border=\"1\" class=\"dataframe\">\n  <thead>\n    <tr style=\"text-align: right;\">\n      <th></th>\n      <th>from</th>\n      <th>contractAddress</th>\n      <th>to</th>\n      <th>value</th>\n      <th>tokenSymbol</th>\n      <th>tokenDecimal</th>\n    </tr>\n  </thead>\n  <tbody>\n    <tr>\n      <th>0</th>\n      <td>0xbb2b8038a1640196fbe3e38816f3e67cba72d940</td>\n      <td>0xc02aaa39b223fe8d0a0e5c4f27ead9083c756cc2</td>\n      <td>0xdf8bee861227ffc5eea819c332a1c170ae3dbacb</td>\n      <td>90409013949210977199603</td>\n      <td>WETH</td>\n      <td>18</td>\n    </tr>\n    <tr>\n      <th>1</th>\n      <td>0xb4e16d0168e52d35cacd2c6185b44281ec28c9dc</td>\n      <td>0xc02aaa39b223fe8d0a0e5c4f27ead9083c756cc2</td>\n      <td>0xdf8bee861227ffc5eea819c332a1c170ae3dbacb</td>\n      <td>82798403238691593953288</td>\n      <td>WETH</td>\n      <td>18</td>\n    </tr>\n    <tr>\n      <th>2</th>\n      <td>0x0d4a11d5eeaac28ec3f61d100daf4d40471f1852</td>\n      <td>0xc02aaa39b223fe8d0a0e5c4f27ead9083c756cc2</td>\n      <td>0xdf8bee861227ffc5eea819c332a1c170ae3dbacb</td>\n      <td>96092504596377425124746</td>\n      <td>WETH</td>\n      <td>18</td>\n    </tr>\n    <tr>\n      <th>3</th>\n      <td>0x1e0447b19bb6ecfdae1e4ae1694b0c3659614e4e</td>\n      <td>0x6b175474e89094c44da98b954eedeac495271d0f</td>\n      <td>0xdf8bee861227ffc5eea819c332a1c170ae3dbacb</td>\n      <td>2900029981390875168951633</td>\n      <td>DAI</td>\n      <td>18</td>\n    </tr>\n    <tr>\n      <th>4</th>\n      <td>0x1e0447b19bb6ecfdae1e4ae1694b0c3659614e4e</td>\n      <td>0xc02aaa39b223fe8d0a0e5c4f27ead9083c756cc2</td>\n      <td>0xdf8bee861227ffc5eea819c332a1c170ae3dbacb</td>\n      <td>76436763597706555986902</td>\n      <td>WETH</td>\n      <td>18</td>\n    </tr>\n  </tbody>\n</table>\n</div>"
     },
     "execution_count": 6,
     "metadata": {},
     "output_type": "execute_result"
    }
   ],
   "source": [
    "# Removing columns that aren't relevant to the analysis\n",
    "columns_to_drop = [\"blockNumber\", \"timeStamp\", \"hash\", \"nonce\", \"blockHash\", \"tokenName\", \"transactionIndex\", \"gas\", \"gasPrice\", \"gasUsed\", \"cumulativeGasUsed\", \"input\", \"confirmations\"]\n",
    "\n",
    "token_transfers_df = token_transfers_df.drop(columns=columns_to_drop, axis=1)\n",
    "token_transfers_df.head()"
   ],
   "metadata": {
    "collapsed": false,
    "ExecuteTime": {
     "end_time": "2023-08-23T10:52:58.933768200Z",
     "start_time": "2023-08-23T10:52:58.890875Z"
    }
   }
  },
  {
   "cell_type": "code",
   "execution_count": 7,
   "outputs": [
    {
     "data": {
      "text/plain": "                                         from  \\\n0  0xbb2b8038a1640196fbe3e38816f3e67cba72d940   \n1  0xb4e16d0168e52d35cacd2c6185b44281ec28c9dc   \n2  0x0d4a11d5eeaac28ec3f61d100daf4d40471f1852   \n3  0x1e0447b19bb6ecfdae1e4ae1694b0c3659614e4e   \n4  0x1e0447b19bb6ecfdae1e4ae1694b0c3659614e4e   \n\n                              contractAddress  \\\n0  0xc02aaa39b223fe8d0a0e5c4f27ead9083c756cc2   \n1  0xc02aaa39b223fe8d0a0e5c4f27ead9083c756cc2   \n2  0xc02aaa39b223fe8d0a0e5c4f27ead9083c756cc2   \n3  0x6b175474e89094c44da98b954eedeac495271d0f   \n4  0xc02aaa39b223fe8d0a0e5c4f27ead9083c756cc2   \n\n                                           to  smallestDenominationQuantity  \\\n0  0xdf8bee861227ffc5eea819c332a1c170ae3dbacb                  9.040901e+22   \n1  0xdf8bee861227ffc5eea819c332a1c170ae3dbacb                  8.279840e+22   \n2  0xdf8bee861227ffc5eea819c332a1c170ae3dbacb                  9.609250e+22   \n3  0xdf8bee861227ffc5eea819c332a1c170ae3dbacb                  2.900030e+24   \n4  0xdf8bee861227ffc5eea819c332a1c170ae3dbacb                  7.643676e+22   \n\n   tokenQuantity tokenSymbol  \n0   9.040901e+04        WETH  \n1   8.279840e+04        WETH  \n2   9.609250e+04        WETH  \n3   2.900030e+06         DAI  \n4   7.643676e+04        WETH  ",
      "text/html": "<div>\n<style scoped>\n    .dataframe tbody tr th:only-of-type {\n        vertical-align: middle;\n    }\n\n    .dataframe tbody tr th {\n        vertical-align: top;\n    }\n\n    .dataframe thead th {\n        text-align: right;\n    }\n</style>\n<table border=\"1\" class=\"dataframe\">\n  <thead>\n    <tr style=\"text-align: right;\">\n      <th></th>\n      <th>from</th>\n      <th>contractAddress</th>\n      <th>to</th>\n      <th>smallestDenominationQuantity</th>\n      <th>tokenQuantity</th>\n      <th>tokenSymbol</th>\n    </tr>\n  </thead>\n  <tbody>\n    <tr>\n      <th>0</th>\n      <td>0xbb2b8038a1640196fbe3e38816f3e67cba72d940</td>\n      <td>0xc02aaa39b223fe8d0a0e5c4f27ead9083c756cc2</td>\n      <td>0xdf8bee861227ffc5eea819c332a1c170ae3dbacb</td>\n      <td>9.040901e+22</td>\n      <td>9.040901e+04</td>\n      <td>WETH</td>\n    </tr>\n    <tr>\n      <th>1</th>\n      <td>0xb4e16d0168e52d35cacd2c6185b44281ec28c9dc</td>\n      <td>0xc02aaa39b223fe8d0a0e5c4f27ead9083c756cc2</td>\n      <td>0xdf8bee861227ffc5eea819c332a1c170ae3dbacb</td>\n      <td>8.279840e+22</td>\n      <td>8.279840e+04</td>\n      <td>WETH</td>\n    </tr>\n    <tr>\n      <th>2</th>\n      <td>0x0d4a11d5eeaac28ec3f61d100daf4d40471f1852</td>\n      <td>0xc02aaa39b223fe8d0a0e5c4f27ead9083c756cc2</td>\n      <td>0xdf8bee861227ffc5eea819c332a1c170ae3dbacb</td>\n      <td>9.609250e+22</td>\n      <td>9.609250e+04</td>\n      <td>WETH</td>\n    </tr>\n    <tr>\n      <th>3</th>\n      <td>0x1e0447b19bb6ecfdae1e4ae1694b0c3659614e4e</td>\n      <td>0x6b175474e89094c44da98b954eedeac495271d0f</td>\n      <td>0xdf8bee861227ffc5eea819c332a1c170ae3dbacb</td>\n      <td>2.900030e+24</td>\n      <td>2.900030e+06</td>\n      <td>DAI</td>\n    </tr>\n    <tr>\n      <th>4</th>\n      <td>0x1e0447b19bb6ecfdae1e4ae1694b0c3659614e4e</td>\n      <td>0xc02aaa39b223fe8d0a0e5c4f27ead9083c756cc2</td>\n      <td>0xdf8bee861227ffc5eea819c332a1c170ae3dbacb</td>\n      <td>7.643676e+22</td>\n      <td>7.643676e+04</td>\n      <td>WETH</td>\n    </tr>\n  </tbody>\n</table>\n</div>"
     },
     "execution_count": 7,
     "metadata": {},
     "output_type": "execute_result"
    }
   ],
   "source": [
    "# Adding a column to show the value of the transfer in Wei and in the standard token\n",
    "token_transfers_df = token_transfers_df.rename(columns={\"value\": \"smallestDenominationQuantity\"})\n",
    "\n",
    "# Converting columns to floats (numbers are too large for ints according to OverflowError)\n",
    "token_transfers_df[\"smallestDenominationQuantity\"] = token_transfers_df[\"smallestDenominationQuantity\"].astype(float)\n",
    "token_transfers_df[\"tokenDecimal\"] = token_transfers_df[\"tokenDecimal\"].astype(float)\n",
    "\n",
    "# Creating new column\n",
    "token_transfers_df[\"tokenQuantity\"] = token_transfers_df[\"smallestDenominationQuantity\"] / (10 ** token_transfers_df[\"tokenDecimal\"])\n",
    "\n",
    "# Moving the tokenQuantity next to the smallestDenomQuantity\n",
    "new_column_position = 4\n",
    "column_names = list(token_transfers_df.columns)\n",
    "column_names.insert(new_column_position, column_names.pop(column_names.index(\"tokenQuantity\")))\n",
    "token_transfers_df = token_transfers_df[column_names]\n",
    "\n",
    "# Removing tokenDecimal as it is no longer useful\n",
    "token_transfers_df = token_transfers_df.drop(columns=\"tokenDecimal\")\n",
    "\n",
    "token_transfers_df.head()"
   ],
   "metadata": {
    "collapsed": false,
    "ExecuteTime": {
     "end_time": "2023-08-23T10:52:59.713622900Z",
     "start_time": "2023-08-23T10:52:59.678751700Z"
    }
   }
  },
  {
   "cell_type": "code",
   "execution_count": 8,
   "outputs": [
    {
     "data": {
      "text/plain": "                        from          contractAddress  \\\n0   Uniswap V2: WBTC-WETH LP            Wrapped Ether   \n1   Uniswap V2: USDC-WETH LP            Wrapped Ether   \n2   Uniswap V2: USDT-WETH LP            Wrapped Ether   \n3          dYdX: Solo Margin           Dai Stablecoin   \n4          dYdX: Solo Margin            Wrapped Ether   \n5        Attacker's Contract           Dai Stablecoin   \n6        Attacker's Contract            Wrapped Ether   \n7                       Null  Uniswap V2: WETH-DAI LP   \n8        Attacker's Contract  Uniswap V2: WETH-DAI LP   \n9        Attacker's Contract            Wrapped Ether   \n10   Uniswap V2: WETH-DAI LP           Dai Stablecoin   \n11           Warp Vault SC 1                 USD Coin   \n12           Warp Vault SC 2           Dai Stablecoin   \n13       Attacker's Contract           Dai Stablecoin   \n14   Uniswap V2: WETH-DAI LP            Wrapped Ether   \n15       Attacker's Contract           Dai Stablecoin   \n16       Attacker's Contract            Wrapped Ether   \n17       Attacker's Contract                 USD Coin   \n18    SushiSwap: USDC/ETH LP            Wrapped Ether   \n19       Attacker's Contract            Wrapped Ether   \n20       Attacker's Contract            Wrapped Ether   \n21       Attacker's Contract            Wrapped Ether   \n\n                          to  smallestDenominationQuantity  tokenQuantity  \\\n0        Attacker's Contract                  9.040901e+22   9.040901e+04   \n1        Attacker's Contract                  8.279840e+22   8.279840e+04   \n2        Attacker's Contract                  9.609250e+22   9.609250e+04   \n3        Attacker's Contract                  2.900030e+24   2.900030e+06   \n4        Attacker's Contract                  7.643676e+22   7.643676e+04   \n5    Uniswap V2: WETH-DAI LP                  2.900030e+24   2.900030e+06   \n6    Uniswap V2: WETH-DAI LP                  4.519641e+21   4.519641e+03   \n7        Attacker's Contract                  9.434934e+22   9.434934e+04   \n8              Warp Vault LP                  9.434934e+22   9.434934e+04   \n9    Uniswap V2: WETH-DAI LP                  3.412170e+23   3.412170e+05   \n10       Attacker's Contract                  4.762233e+25   4.762233e+07   \n11       Attacker's Contract                  3.917984e+12   3.917984e+06   \n12       Attacker's Contract                  3.862647e+24   3.862647e+06   \n13   Uniswap V2: WETH-DAI LP                  4.858495e+25   4.858495e+07   \n14       Attacker's Contract                  3.422529e+23   3.422529e+05   \n15         dYdX: Solo Margin                  2.900030e+24   2.900030e+06   \n16         dYdX: Solo Margin                  7.643676e+22   7.643676e+04   \n17    SushiSwap: USDC/ETH LP                  3.917984e+12   3.917984e+06   \n18       Attacker's Contract                  5.757514e+21   5.757514e+03   \n19  Uniswap V2: WBTC-WETH LP                  9.068124e+22   9.068124e+04   \n20  Uniswap V2: USDC-WETH LP                  8.304780e+22   8.304780e+04   \n21  Uniswap V2: USDT-WETH LP                  9.638178e+22   9.638178e+04   \n\n   tokenSymbol  \n0         WETH  \n1         WETH  \n2         WETH  \n3          DAI  \n4         WETH  \n5          DAI  \n6         WETH  \n7       UNI-V2  \n8       UNI-V2  \n9         WETH  \n10         DAI  \n11        USDC  \n12         DAI  \n13         DAI  \n14        WETH  \n15         DAI  \n16        WETH  \n17        USDC  \n18        WETH  \n19        WETH  \n20        WETH  \n21        WETH  ",
      "text/html": "<div>\n<style scoped>\n    .dataframe tbody tr th:only-of-type {\n        vertical-align: middle;\n    }\n\n    .dataframe tbody tr th {\n        vertical-align: top;\n    }\n\n    .dataframe thead th {\n        text-align: right;\n    }\n</style>\n<table border=\"1\" class=\"dataframe\">\n  <thead>\n    <tr style=\"text-align: right;\">\n      <th></th>\n      <th>from</th>\n      <th>contractAddress</th>\n      <th>to</th>\n      <th>smallestDenominationQuantity</th>\n      <th>tokenQuantity</th>\n      <th>tokenSymbol</th>\n    </tr>\n  </thead>\n  <tbody>\n    <tr>\n      <th>0</th>\n      <td>Uniswap V2: WBTC-WETH LP</td>\n      <td>Wrapped Ether</td>\n      <td>Attacker's Contract</td>\n      <td>9.040901e+22</td>\n      <td>9.040901e+04</td>\n      <td>WETH</td>\n    </tr>\n    <tr>\n      <th>1</th>\n      <td>Uniswap V2: USDC-WETH LP</td>\n      <td>Wrapped Ether</td>\n      <td>Attacker's Contract</td>\n      <td>8.279840e+22</td>\n      <td>8.279840e+04</td>\n      <td>WETH</td>\n    </tr>\n    <tr>\n      <th>2</th>\n      <td>Uniswap V2: USDT-WETH LP</td>\n      <td>Wrapped Ether</td>\n      <td>Attacker's Contract</td>\n      <td>9.609250e+22</td>\n      <td>9.609250e+04</td>\n      <td>WETH</td>\n    </tr>\n    <tr>\n      <th>3</th>\n      <td>dYdX: Solo Margin</td>\n      <td>Dai Stablecoin</td>\n      <td>Attacker's Contract</td>\n      <td>2.900030e+24</td>\n      <td>2.900030e+06</td>\n      <td>DAI</td>\n    </tr>\n    <tr>\n      <th>4</th>\n      <td>dYdX: Solo Margin</td>\n      <td>Wrapped Ether</td>\n      <td>Attacker's Contract</td>\n      <td>7.643676e+22</td>\n      <td>7.643676e+04</td>\n      <td>WETH</td>\n    </tr>\n    <tr>\n      <th>5</th>\n      <td>Attacker's Contract</td>\n      <td>Dai Stablecoin</td>\n      <td>Uniswap V2: WETH-DAI LP</td>\n      <td>2.900030e+24</td>\n      <td>2.900030e+06</td>\n      <td>DAI</td>\n    </tr>\n    <tr>\n      <th>6</th>\n      <td>Attacker's Contract</td>\n      <td>Wrapped Ether</td>\n      <td>Uniswap V2: WETH-DAI LP</td>\n      <td>4.519641e+21</td>\n      <td>4.519641e+03</td>\n      <td>WETH</td>\n    </tr>\n    <tr>\n      <th>7</th>\n      <td>Null</td>\n      <td>Uniswap V2: WETH-DAI LP</td>\n      <td>Attacker's Contract</td>\n      <td>9.434934e+22</td>\n      <td>9.434934e+04</td>\n      <td>UNI-V2</td>\n    </tr>\n    <tr>\n      <th>8</th>\n      <td>Attacker's Contract</td>\n      <td>Uniswap V2: WETH-DAI LP</td>\n      <td>Warp Vault LP</td>\n      <td>9.434934e+22</td>\n      <td>9.434934e+04</td>\n      <td>UNI-V2</td>\n    </tr>\n    <tr>\n      <th>9</th>\n      <td>Attacker's Contract</td>\n      <td>Wrapped Ether</td>\n      <td>Uniswap V2: WETH-DAI LP</td>\n      <td>3.412170e+23</td>\n      <td>3.412170e+05</td>\n      <td>WETH</td>\n    </tr>\n    <tr>\n      <th>10</th>\n      <td>Uniswap V2: WETH-DAI LP</td>\n      <td>Dai Stablecoin</td>\n      <td>Attacker's Contract</td>\n      <td>4.762233e+25</td>\n      <td>4.762233e+07</td>\n      <td>DAI</td>\n    </tr>\n    <tr>\n      <th>11</th>\n      <td>Warp Vault SC 1</td>\n      <td>USD Coin</td>\n      <td>Attacker's Contract</td>\n      <td>3.917984e+12</td>\n      <td>3.917984e+06</td>\n      <td>USDC</td>\n    </tr>\n    <tr>\n      <th>12</th>\n      <td>Warp Vault SC 2</td>\n      <td>Dai Stablecoin</td>\n      <td>Attacker's Contract</td>\n      <td>3.862647e+24</td>\n      <td>3.862647e+06</td>\n      <td>DAI</td>\n    </tr>\n    <tr>\n      <th>13</th>\n      <td>Attacker's Contract</td>\n      <td>Dai Stablecoin</td>\n      <td>Uniswap V2: WETH-DAI LP</td>\n      <td>4.858495e+25</td>\n      <td>4.858495e+07</td>\n      <td>DAI</td>\n    </tr>\n    <tr>\n      <th>14</th>\n      <td>Uniswap V2: WETH-DAI LP</td>\n      <td>Wrapped Ether</td>\n      <td>Attacker's Contract</td>\n      <td>3.422529e+23</td>\n      <td>3.422529e+05</td>\n      <td>WETH</td>\n    </tr>\n    <tr>\n      <th>15</th>\n      <td>Attacker's Contract</td>\n      <td>Dai Stablecoin</td>\n      <td>dYdX: Solo Margin</td>\n      <td>2.900030e+24</td>\n      <td>2.900030e+06</td>\n      <td>DAI</td>\n    </tr>\n    <tr>\n      <th>16</th>\n      <td>Attacker's Contract</td>\n      <td>Wrapped Ether</td>\n      <td>dYdX: Solo Margin</td>\n      <td>7.643676e+22</td>\n      <td>7.643676e+04</td>\n      <td>WETH</td>\n    </tr>\n    <tr>\n      <th>17</th>\n      <td>Attacker's Contract</td>\n      <td>USD Coin</td>\n      <td>SushiSwap: USDC/ETH LP</td>\n      <td>3.917984e+12</td>\n      <td>3.917984e+06</td>\n      <td>USDC</td>\n    </tr>\n    <tr>\n      <th>18</th>\n      <td>SushiSwap: USDC/ETH LP</td>\n      <td>Wrapped Ether</td>\n      <td>Attacker's Contract</td>\n      <td>5.757514e+21</td>\n      <td>5.757514e+03</td>\n      <td>WETH</td>\n    </tr>\n    <tr>\n      <th>19</th>\n      <td>Attacker's Contract</td>\n      <td>Wrapped Ether</td>\n      <td>Uniswap V2: WBTC-WETH LP</td>\n      <td>9.068124e+22</td>\n      <td>9.068124e+04</td>\n      <td>WETH</td>\n    </tr>\n    <tr>\n      <th>20</th>\n      <td>Attacker's Contract</td>\n      <td>Wrapped Ether</td>\n      <td>Uniswap V2: USDC-WETH LP</td>\n      <td>8.304780e+22</td>\n      <td>8.304780e+04</td>\n      <td>WETH</td>\n    </tr>\n    <tr>\n      <th>21</th>\n      <td>Attacker's Contract</td>\n      <td>Wrapped Ether</td>\n      <td>Uniswap V2: USDT-WETH LP</td>\n      <td>9.638178e+22</td>\n      <td>9.638178e+04</td>\n      <td>WETH</td>\n    </tr>\n  </tbody>\n</table>\n</div>"
     },
     "execution_count": 8,
     "metadata": {},
     "output_type": "execute_result"
    }
   ],
   "source": [
    "# Creating a dictionary to translate hex addresses into known tokens, DApps, and contracts\n",
    "address_dictionary = {\n",
    "    \"0xeBc6bD6aC2C9AD4adf4BA57E9F709b8B9CF03C40\": \"Attacker\",\n",
    "    \"0xdF8BEE861227FFC5EEA819C332A1C170Ae3dbACb\": \"Attacker's Contract\",\n",
    "    \"0xBb2b8038a1640196FbE3e38816F3e67Cba72D940\": \"Uniswap V2: WBTC-WETH LP\",\n",
    "    \"0xB4e16d0168e52d35CaCD2c6185b44281Ec28C9Dc\": \"Uniswap V2: USDC-WETH LP\",\n",
    "    \"0x0d4a11d5EEaaC28EC3F61d100daF4d40471f1852\": \"Uniswap V2: USDT-WETH LP\",\n",
    "    \"0xA478c2975Ab1Ea89e8196811F51A7B7Ade33eB11\": \"Uniswap V2: WETH-DAI LP\",\n",
    "    \"0x1E0447b19BB6EcFdAe1e4AE1694b0C3659614e4e\": \"dYdX: Solo Margin\",\n",
    "    \"0x0000000000000000000000000000000000000000\": \"Null\",  # Used by UniSwap for LP token minting\n",
    "    \"0x13db1CB418573f4c3A2ea36486F0E421bC0D2427\": \"Warp Vault LP\",\n",
    "    \"0xae465FD39B519602eE28F062037F7B9c41FDc8cF\": \"Warp Vault SC 1\",\n",
    "    \"0x6046c3Ab74e6cE761d218B9117d5c63200f4b406\": \"Warp Vault SC 2\",\n",
    "    \"0x397FF1542f962076d0BFE58eA045FfA2d347ACa0\": \"SushiSwap: USDC/ETH LP\",\n",
    "    \"0xC02aaA39b223FE8D0A0e5C4F27eAD9083C756Cc2\": \"Wrapped Ether\",\n",
    "    \"0x6B175474E89094C44Da98b954EedeAC495271d0F\": \"Dai Stablecoin\",\n",
    "    \"0xA0b86991c6218b36c1d19D4a2e9Eb0cE3606eB48\": \"USD Coin\"\n",
    "}\n",
    "\n",
    "# Converting dictionary keys to lowercase\n",
    "address_dictionary = {key.lower(): value for key, value in address_dictionary.items()}\n",
    "\n",
    "# Replacing addresses with corresponding public names from the dictionary\n",
    "token_transfers_df = token_transfers_df.replace(address_dictionary)\n",
    "\n",
    "token_transfers_df"
   ],
   "metadata": {
    "collapsed": false,
    "ExecuteTime": {
     "end_time": "2023-08-23T10:53:00.517565700Z",
     "start_time": "2023-08-23T10:53:00.490414500Z"
    }
   }
  },
  {
   "cell_type": "markdown",
   "source": [
    "## Damage Model Formulation (Warp Finance)"
   ],
   "metadata": {
    "collapsed": false
   }
  },
  {
   "cell_type": "markdown",
   "source": [
    "### Defining Constants"
   ],
   "metadata": {
    "collapsed": false
   }
  },
  {
   "cell_type": "code",
   "execution_count": 34,
   "outputs": [
    {
     "name": "stdout",
     "output_type": "stream",
     "text": [
      "F_0: DAI borrowed from dYdX = 2900029.981390875\n",
      "F_1_dydx: WETH borrowed from dYdX = 76436.76359770655\n",
      "F_1_uni: WETH borrowed from UniSwap = 269299.92178428\n",
      "F_1: WETH borrowed from Uniswap and dYdX= 345736.68538198655\n",
      "\n"
     ]
    }
   ],
   "source": [
    "# The quantity of DAI borrowed from dYdX\n",
    "F_0 = token_transfers_df.loc[(token_transfers_df[\"from\"] == \"dYdX: Solo Margin\") & (token_transfers_df[\"tokenSymbol\"] == \"DAI\") & (token_transfers_df[\"to\"] == \"Attacker's Contract\"), \"tokenQuantity\"].iloc[0]\n",
    "print(f\"F_0: DAI borrowed from dYdX = {F_0}\")\n",
    "\n",
    "# The quantity of WETH borrowed from dYdX\n",
    "F_1_dydx = token_transfers_df.loc[(token_transfers_df[\"from\"] == \"dYdX: Solo Margin\") & (token_transfers_df[\"tokenSymbol\"] == \"WETH\"), \"tokenQuantity\"].iloc[0]\n",
    "print(f\"F_1_dydx: WETH borrowed from dYdX = {F_1_dydx}\")\n",
    "\n",
    "# The quantity of WETH borrowed from UniSwap\n",
    "F_1_uni = token_transfers_df.loc[(token_transfers_df[\"from\"] == \"Uniswap V2: WBTC-WETH LP\") & (token_transfers_df[\"tokenSymbol\"] == \"WETH\") & (token_transfers_df[\"to\"] == \"Attacker's Contract\"), \"tokenQuantity\"].iloc[0]\\\n",
    "    + token_transfers_df.loc[(token_transfers_df[\"from\"] == \"Uniswap V2: USDC-WETH LP\") & (token_transfers_df[\"tokenSymbol\"] == \"WETH\") & (token_transfers_df[\"to\"] == \"Attacker's Contract\"), \"tokenQuantity\"].iloc[0]\\\n",
    "    + token_transfers_df.loc[(token_transfers_df[\"from\"] == \"Uniswap V2: USDT-WETH LP\") & (token_transfers_df[\"tokenSymbol\"] == \"WETH\") & (token_transfers_df[\"to\"] == \"Attacker's Contract\"), \"tokenQuantity\"].iloc[0]\n",
    "print(f\"F_1_uni: WETH borrowed from UniSwap = {F_1_uni}\")\n",
    "\n",
    "# The quantity of WETH borrowed from Uniswap and dYdX\n",
    "F_1 = F_1_uni + F_1_dydx\n",
    "print(f\"F_1: WETH borrowed from Uniswap and dYdX= {F_1}\\n\")"
   ],
   "metadata": {
    "collapsed": false,
    "ExecuteTime": {
     "end_time": "2023-08-23T14:18:30.803563100Z",
     "start_time": "2023-08-23T14:18:30.795235300Z"
    }
   }
  },
  {
   "cell_type": "code",
   "execution_count": 35,
   "outputs": [],
   "source": [
    "# The quantity of DAI in the pool before providing liquidity\n",
    "r_0 = 58010988.362646327044546669  # Used Etherscan account balance checker (ETH) at block 11473329 not 11473330 as we want the value before the attack has taken place\n",
    "\n",
    "# The quantity of WETH in the pool before providing liquidity\n",
    "r_1 = 90409.013949210977199604  # Used Etherscan account balance checker (ETH) at block 11473329 not 11473330 as we want the value before the attack has taken place\n",
    "\n",
    "# The quantity of DAI provided to the Uniswap WETH-DAI pool\n",
    "s_0 = F_0\n",
    "\n",
    "# The quantity of WETH-DAI LP tokens before providing liquidity\n",
    "lp = 1887324.80  # The endpoint needed to do this is Etherscan PRO API only\n",
    "\n",
    "# Time Weighted Average Price of DAI retrieved from the DAI-USDC Uniswap pool\n",
    "twap_0 = 1  # TODO: Use Uniswap TheGraph to find this\n",
    "\n",
    "# Time Weighted Average Price of WETH retrieved from the WETH-USDC Uniswap pool\n",
    "twap_1 = 585  # TODO: Use Uniswap TheGraph to find this\n",
    "\n",
    "# The amount of DAI available in the Warp Finance vault\n",
    "V_dai = 3862646.608579660094744529 # Used Etherscan account balance checker (ETH) at block 11473329 not 11473330 as we want the value before the attack has taken place\n",
    "\n",
    "# The amount of USDC available in the Warp Finance vault\n",
    "V_usdc = 3917983.816718  # Used Etherscan account balance checker (ETH) at block 11473329 not 11473330 as we want the value before the attack has taken place\n",
    "\n",
    "# The quantity of WETH in the USDC-WETH SushiSwap pool\n",
    "r_weth = 110167.374111420695655184  # Used Etherscan account balance checker (ETH) at block 11473329 not 11473330 as we want the value before the attack has taken place\n",
    "\n",
    "# The quantity of USDC in the USDC-WETH SushiSwap pool\n",
    "r_usdc = 70837678.781592 # Used Etherscan account balance checker (ETH) at block 11473329 not 11473330 as we want the value before the attack has taken place"
   ],
   "metadata": {
    "collapsed": false,
    "ExecuteTime": {
     "end_time": "2023-08-23T14:18:31.275818500Z",
     "start_time": "2023-08-23T14:18:31.253875200Z"
    }
   }
  },
  {
   "cell_type": "markdown",
   "source": [
    "### Defining the Damage Function"
   ],
   "metadata": {
    "collapsed": false
   }
  },
  {
   "cell_type": "code",
   "execution_count": 50,
   "outputs": [],
   "source": [
    "def damage_model(model, F_0, F_1, r_0, r_1, s_0, lp, twap_0, twap_1, V_dai, V_usdc, r_weth, r_usdc):\n",
    "    # The quantity of WETH provided to the WETH-DAI pool\n",
    "    s_1 = (r_1 / r_0) * s_0\n",
    "    #print(f\"s_1 = {s_1}\")\n",
    "\n",
    "    # The quantity of WETH-DAI LP tokens minted upon providing liquidity, which were then all used as collateral\n",
    "    D = lp * (F_0 / r_0)\n",
    "    #print(f\"D = {D}\")\n",
    "\n",
    "    # The quantity of WETH-DAI LP tokens after providing liquidity\n",
    "    LP = lp + D\n",
    "    #print(f\"LP = {LP}\")\n",
    "\n",
    "    # The quantity of DAI in the pool after providing liquidity (i.e. the reserve)\n",
    "    R_0 = r_0 + s_0\n",
    "    #print(f\"R_0 = {R_0}\")\n",
    "\n",
    "    # The quantity of WETH in the pool after providing liquidity (i.e. the reserve)\n",
    "    R_1 = r_1 + s_1\n",
    "    #print(f\"R_1 = {R_1}\")\n",
    "\n",
    "    # LP price calculation\n",
    "    if model == \"Warp Finance\":\n",
    "        # The LP token price calculated using the TWAP of DAI and WETH and their real time reserves\n",
    "        P_LP = (R_0 * twap_0 + R_1 * twap_1) / LP\n",
    "    elif model == \"Fair Reserve\":\n",
    "        k = r_0 * r_1\n",
    "        P_LP =  (2 * (k * twap_1 * twap_0) ** 0.5) / LP\n",
    "    #print(f\"P_LP = {P_LP}\")\n",
    "\n",
    "    # The Warp finance borrowing limit when the LP token is used as collateral\n",
    "    B = (P_LP * D) / 1.5\n",
    "    #print(f\"B = {B}\")\n",
    "\n",
    "    # The remaining WETH after supplying liquidity (s_1) that is then exchanged for DAI\n",
    "    In_1 = F_1 - s_1\n",
    "    #print(f\"In_1 = {In_1}\")\n",
    "\n",
    "    # The DAI received in exchange for all the remaining WETH at a 0.3% fee\n",
    "    Out_0 = (R_0 / (R_1 + 0.997 * In_1)) * 0.997 * In_1\n",
    "    #print(f\"Out_0 = {Out_0}\")\n",
    "\n",
    "    # The new reserve quantity of DAI tokens in the WETH-DAI liquidity pool\n",
    "    R_0_new = R_0 - Out_0\n",
    "    #print(f\"R_0_new = {R_0_new}\")\n",
    "\n",
    "    # The new reserve quantity of WETH tokens in the WETH-DAI liquidity pool\n",
    "    R_1_new = R_1 + In_1\n",
    "    #print(f\"R_1_new = {R_1_new}\")\n",
    "\n",
    "    # Calculating the new value of the LP token\n",
    "    if model == \"Warp Finance\":\n",
    "        # The new value of the LP token based on the new reserve quantities\n",
    "        P_LP_new = (R_0_new * twap_0 + R_1_new * twap_1) / LP\n",
    "    elif model == \"Fair Reserve\":\n",
    "        P_LP_new =  P_LP\n",
    "    #print(f\"P_LP_new = {P_LP_new}\")\n",
    "\n",
    "    # The new borrow limit on the Warp Finance protocol based on this new, apparent LP value\n",
    "    B_new = (P_LP_new * D) / 1.5\n",
    "    #print(f\"B_new = {B_new}\")\n",
    "\n",
    "    # The amount of DAI borrowed using all LP tokens at this false value as collateral\n",
    "    B_dai = min(B_new, V_dai)\n",
    "    #print(f\"B_dai = {B_dai}\")\n",
    "\n",
    "    # The amount of USDC the attacker can borrow using the LP as collateral after clearing out the DAI vault\n",
    "    B_usdc = min(B_new - B_dai, V_usdc)\n",
    "    #print(f\"B_usdc = {B_usdc}\")\n",
    "\n",
    "    # The quantity of DAI remaining after repaying the dYdX flash loan for the attacker to exchange for WETH\n",
    "    In_0 = Out_0 + B_dai - F_0\n",
    "    #print(f\"In_0 = {In_0}\")\n",
    "\n",
    "    # The quantity of WETH received in exchange for this remaining DAI with a 0.3% fee on Uniswap\n",
    "    Out_weth_us = (R_1_new / (R_0_new + 0.997 * In_0)) * 0.997 * In_0\n",
    "    #print(f\"Out_weth_us = {Out_weth_us}\")\n",
    "\n",
    "     # The quantity of WETH received in exchange for USDC with a 0.3% fee on SushiSwap\n",
    "    Out_weth_ss = (r_weth / (r_usdc + 0.997 * B_usdc)) * 0.997 * B_usdc\n",
    "    #print(f\"Out_weth_ss = {Out_weth_ss}\")\n",
    "\n",
    "    # The quantity of WETH borrowed from UniSwap by the attacker\n",
    "    # If borrowing in total less than dYdX has available, attacker would only use dYdX and F_1_uni would be 0. Writing like this allows iteration through F_1 quantities for plotting later\n",
    "    F_1_uni = max(F_1 - F_1_dydx, 0)\n",
    "    #print(f\"F_1_uni = {F_1_uni}\")\n",
    "\n",
    "    # Calculating the fee charged by UniSwap\n",
    "    c = F_1_uni * 0.00301114\n",
    "    #print(f\"c = {c}\")\n",
    "\n",
    "    # The profit gained by the attacker\n",
    "    profit = Out_weth_us + Out_weth_ss - F_1 - c\n",
    "    #print(f\"profit = {profit}\")\n",
    "\n",
    "    # The damage caused to Warp Finance pre liquidation of LP tokens\n",
    "    pre_dmg = B_dai + B_usdc\n",
    "    #print(f\"pre damage = {pre_dmg}\")\n",
    "\n",
    "    # The damage caused to Warp Finance post liquidation of LP tokens\n",
    "    post_dmg = pre_dmg - D*P_LP\n",
    "    #print(f\"post damage = {post_dmg}\")\n",
    "\n",
    "    return s_1, D, LP, R_0, R_1, P_LP, B, In_1, Out_0, R_0_new, R_1_new, P_LP_new, B_new, B_dai, B_usdc, In_0, Out_weth_us, Out_weth_ss, c, profit, pre_dmg, post_dmg"
   ],
   "metadata": {
    "collapsed": false,
    "ExecuteTime": {
     "end_time": "2023-08-23T14:27:03.614281700Z",
     "start_time": "2023-08-23T14:27:03.556236200Z"
    }
   }
  },
  {
   "cell_type": "markdown",
   "source": [
    "## Damage Model Validation (Warp Finance)"
   ],
   "metadata": {
    "collapsed": false
   }
  },
  {
   "cell_type": "code",
   "execution_count": 51,
   "outputs": [],
   "source": [
    "s_1, D, LP, R_0, R_1, P_LP, B, In_1, Out_0, R_0_new, R_1_new, P_LP_new, B_new, B_dai, B_usdc, In_0, Out_weth_us, Out_weth_ss, c, profit_warp, pre_dmg, post_dmg = damage_model(\"Warp Finance\", F_0, F_1, r_0, r_1, s_0, lp, twap_0, twap_1, V_dai, V_usdc, r_weth, r_usdc)"
   ],
   "metadata": {
    "collapsed": false,
    "ExecuteTime": {
     "end_time": "2023-08-23T14:27:04.977018600Z",
     "start_time": "2023-08-23T14:27:04.974023Z"
    }
   }
  },
  {
   "cell_type": "code",
   "execution_count": 52,
   "outputs": [],
   "source": [
    "# Defining a function to check that each variable is within 0.01% of the real world data\n",
    "def is_valid(var_str, var, true_var):\n",
    "    diff = abs(true_var - var)\n",
    "    if true_var * 1.0001 >= var >= true_var * 0.9999:\n",
    "        print(f\"VALID: The calculated value of {var_str} is within 0.01% of the transaction data value, the difference between them is {diff}\\n\")\n",
    "    else:\n",
    "        print(f\"INVALID: The calculated value of {var_str} is not within 0.01% of the true value, the difference between them is {diff}\\n\")"
   ],
   "metadata": {
    "collapsed": false,
    "ExecuteTime": {
     "end_time": "2023-08-23T14:27:05.756227300Z",
     "start_time": "2023-08-23T14:27:05.671722700Z"
    }
   }
  },
  {
   "cell_type": "code",
   "execution_count": 53,
   "outputs": [
    {
     "name": "stdout",
     "output_type": "stream",
     "text": [
      "VALID: The calculated value of s_0 is within 0.01% of the transaction data value, the difference between them is 0.0\n",
      "\n",
      "VALID: The calculated value of s_1 is within 0.01% of the transaction data value, the difference between them is 0.0\n",
      "\n",
      "VALID: The calculated value of D is within 0.01% of the transaction data value, the difference between them is 0.00017081147234421223\n",
      "\n"
     ]
    }
   ],
   "source": [
    "# Validating the calculated quantity of DAI provided to the Uniswap WETH-DAI pool\n",
    "data = token_transfers_df.loc[(token_transfers_df[\"from\"] == \"Attacker's Contract\") & (token_transfers_df[\"tokenSymbol\"] == \"DAI\") & (token_transfers_df[\"to\"] == \"Uniswap V2: WETH-DAI LP\"), \"tokenQuantity\"].iloc[0]\n",
    "is_valid(\"s_0\", s_0, data)\n",
    "\n",
    "# Validating the calculated quantity of WETH provided to the Uniswap WETH-DAI pool\n",
    "data = token_transfers_df.loc[(token_transfers_df[\"from\"] == \"Attacker's Contract\") & (token_transfers_df[\"tokenSymbol\"] == \"WETH\") & (token_transfers_df[\"to\"] == \"Uniswap V2: WETH-DAI LP\"), \"tokenQuantity\"].iloc[0]\n",
    "is_valid(\"s_1\", s_1, data)\n",
    "\n",
    "# Validating the calculated quantity of Uniswap LP tokens received by the attacker\n",
    "data = token_transfers_df.loc[(token_transfers_df[\"from\"] == \"Null\") & (token_transfers_df[\"tokenSymbol\"] == \"UNI-V2\") & (token_transfers_df[\"to\"] == \"Attacker's Contract\"), \"tokenQuantity\"].iloc[0]\n",
    "is_valid(\"D\", D, data)\n"
   ],
   "metadata": {
    "collapsed": false,
    "ExecuteTime": {
     "end_time": "2023-08-23T14:27:06.443438600Z",
     "start_time": "2023-08-23T14:27:06.381038400Z"
    }
   }
  },
  {
   "cell_type": "code",
   "execution_count": 54,
   "outputs": [
    {
     "name": "stdout",
     "output_type": "stream",
     "text": [
      "VALID: The calculated value of In_1 is within 0.01% of the transaction data value, the difference between them is 5.820766091346741e-11\n",
      "\n",
      "VALID: The calculated value of Out_0 is within 0.01% of the transaction data value, the difference between them is 7.450580596923828e-09\n",
      "\n"
     ]
    }
   ],
   "source": [
    "# Validating the calculated quantity of WETH exchanged for DAI using the WETH-DAI Uniswap LP\n",
    "data = token_transfers_df.loc[(token_transfers_df[\"from\"] == \"Attacker's Contract\") & (token_transfers_df[\"tokenSymbol\"] == \"WETH\") & (token_transfers_df[\"to\"] == \"Uniswap V2: WETH-DAI LP\"), \"tokenQuantity\"].iloc[1]\n",
    "is_valid(\"In_1\", In_1, data)\n",
    "\n",
    "# Validating the calculated quantity of DAI received in exchange for the WETH using the WETH-DAI Uniswap LP\n",
    "data = token_transfers_df.loc[(token_transfers_df[\"from\"] == \"Uniswap V2: WETH-DAI LP\") & (token_transfers_df[\"tokenSymbol\"] == \"DAI\") & (token_transfers_df[\"to\"] == \"Attacker's Contract\"), \"tokenQuantity\"].iloc[0]\n",
    "is_valid(\"Out_0\", Out_0, data)"
   ],
   "metadata": {
    "collapsed": false,
    "ExecuteTime": {
     "end_time": "2023-08-23T14:27:07.091622400Z",
     "start_time": "2023-08-23T14:27:07.026208Z"
    }
   }
  },
  {
   "cell_type": "code",
   "execution_count": 55,
   "outputs": [
    {
     "name": "stdout",
     "output_type": "stream",
     "text": [
      "VALID: The calculated value of B_usdc is within 0.01% of the transaction data value, the difference between them is 9.997747838497162e-07\n",
      "\n",
      "VALID: The calculated value of B_dai is within 0.01% of the transaction data value, the difference between them is 0.0\n",
      "\n"
     ]
    }
   ],
   "source": [
    "# Validating the calculated quantity of USDC received from the Warp Finance loan\n",
    "data = token_transfers_df.loc[(token_transfers_df[\"from\"] == \"Warp Vault SC 1\") & (token_transfers_df[\"tokenSymbol\"] == \"USDC\") & (token_transfers_df[\"to\"] == \"Attacker's Contract\"), \"tokenQuantity\"].iloc[0]\n",
    "is_valid(\"B_usdc\", B_usdc, data)\n",
    "\n",
    "# Validating the calculated quantity of DAI received from the Warp Finance loan\n",
    "data = token_transfers_df.loc[(token_transfers_df[\"from\"] == \"Warp Vault SC 2\") & (token_transfers_df[\"tokenSymbol\"] == \"DAI\") & (token_transfers_df[\"to\"] == \"Attacker's Contract\"), \"tokenQuantity\"].iloc[0]\n",
    "is_valid(\"B_dai\", B_dai, data)"
   ],
   "metadata": {
    "collapsed": false,
    "ExecuteTime": {
     "end_time": "2023-08-23T14:27:07.746310600Z",
     "start_time": "2023-08-23T14:27:07.694996700Z"
    }
   }
  },
  {
   "cell_type": "code",
   "execution_count": 56,
   "outputs": [
    {
     "name": "stdout",
     "output_type": "stream",
     "text": [
      "VALID: The calculated value of In_0 is within 0.01% of the transaction data value, the difference between them is 1.4901161193847656e-08\n",
      "\n",
      "VALID: The calculated value of Out_weth_us is within 0.01% of the transaction data value, the difference between them is 5.820766091346741e-11\n",
      "\n",
      "VALID: The calculated value of Out_weth_ss is within 0.01% of the transaction data value, the difference between them is 1.393345883116126e-09\n",
      "\n"
     ]
    }
   ],
   "source": [
    "# Validating the calculated quantity of DAI exchanged for WETH using the WETH-DAI Uniswap LP\n",
    "data = token_transfers_df.loc[(token_transfers_df[\"from\"] == \"Attacker's Contract\") & (token_transfers_df[\"tokenSymbol\"] == \"DAI\") & (token_transfers_df[\"to\"] == \"Uniswap V2: WETH-DAI LP\"), \"tokenQuantity\"].iloc[1]\n",
    "is_valid(\"In_0\", In_0, data)\n",
    "\n",
    "# Validating the calculated quantity of WETH received in exchange for the DAI using the WETH-DAI Uniswap LP\n",
    "data = token_transfers_df.loc[(token_transfers_df[\"from\"] == \"Uniswap V2: WETH-DAI LP\") & (token_transfers_df[\"tokenSymbol\"] == \"WETH\") & (token_transfers_df[\"to\"] == \"Attacker's Contract\"), \"tokenQuantity\"].iloc[0]\n",
    "is_valid(\"Out_weth_us\", Out_weth_us, data)\n",
    "\n",
    "# Validating the calculated quantity of WETH received for the remaining USDC (post uniswap loan repayment) from SushiSwap\n",
    "data = token_transfers_df.loc[(token_transfers_df[\"from\"] == \"SushiSwap: USDC/ETH LP\") & (token_transfers_df[\"tokenSymbol\"] == \"WETH\") & (token_transfers_df[\"to\"] == \"Attacker's Contract\"), \"tokenQuantity\"].iloc[0]\n",
    "is_valid(\"Out_weth_ss\", Out_weth_ss, data)"
   ],
   "metadata": {
    "collapsed": false,
    "ExecuteTime": {
     "end_time": "2023-08-23T14:27:08.334982700Z",
     "start_time": "2023-08-23T14:27:08.254291700Z"
    }
   }
  },
  {
   "cell_type": "code",
   "execution_count": 57,
   "outputs": [
    {
     "name": "stdout",
     "output_type": "stream",
     "text": [
      "VALID: The calculated value of profit is within 0.01% of the transaction data value, the difference between them is 1.127353243646212e-06\n",
      "\n",
      "VALID: The calculated value of pre-liquidation damage is within 0.01% of the transaction data value, the difference between them is 1.000240445137024e-06\n",
      "\n",
      "VALID: The calculated value of post-liquidation damage is within 0.01% of the transaction data value, the difference between them is 0.010035977698862553\n",
      "\n"
     ]
    }
   ],
   "source": [
    "# Validating the total profit made by the attacker\n",
    "data = int(internal_transactions_df[\"value\"].iloc[0]) / 10 ** 18\n",
    "is_valid(\"profit\", profit_warp, data)\n",
    "\n",
    "# Validating the total damage caused by the attacker before liquidation\n",
    "data = token_transfers_df.loc[(token_transfers_df[\"from\"] == \"Warp Vault SC 1\") & (token_transfers_df[\"to\"] == \"Attacker's Contract\"), \"tokenQuantity\"].iloc[0] + token_transfers_df.loc[(token_transfers_df[\"from\"] == \"Warp Vault SC 2\") & (token_transfers_df[\"to\"] == \"Attacker's Contract\"), \"tokenQuantity\"].iloc[0]\n",
    "is_valid(\"pre-liquidation damage\", pre_dmg, data)\n",
    "\n",
    "# Validating the total damage caused by the attacker after liquidation\n",
    "data -= token_transfers_df.loc[(token_transfers_df[\"from\"] == \"Null\") & (token_transfers_df[\"to\"] == \"Attacker's Contract\"), \"tokenQuantity\"].iloc[0] * P_LP  # data is still the same as the previous check, no need to refetch it\n",
    "is_valid(\"post-liquidation damage\", post_dmg, data)"
   ],
   "metadata": {
    "collapsed": false,
    "ExecuteTime": {
     "end_time": "2023-08-23T14:27:08.906545200Z",
     "start_time": "2023-08-23T14:27:08.831715700Z"
    }
   }
  },
  {
   "cell_type": "markdown",
   "source": [],
   "metadata": {
    "collapsed": false
   }
  },
  {
   "cell_type": "markdown",
   "source": [],
   "metadata": {
    "collapsed": false
   }
  },
  {
   "cell_type": "markdown",
   "source": [
    "## Fair Reserve Damage Model Simulation (Mitigation Test)"
   ],
   "metadata": {
    "collapsed": false
   }
  },
  {
   "cell_type": "code",
   "execution_count": 58,
   "outputs": [
    {
     "data": {
      "text/plain": "<Figure size 1000x600 with 1 Axes>",
      "image/png": "[encoded data removed]"
     },
     "metadata": {},
     "output_type": "display_data"
    }
   ],
   "source": [
    "import matplotlib.pyplot as plt\n",
    "\n",
    "# Define a range of F_1 values from 0 to 500,000\n",
    "F_1_values = range(0, 500000)\n",
    "\n",
    "# Initialize empty lists to store dmg values for both models\n",
    "profit_values_warp = []\n",
    "profit_values_fair = []\n",
    "\n",
    "# Loop through the F_1 values and calculate dmg for each value for both models\n",
    "for F_1_value in F_1_values:\n",
    "    # Calculate dmg for \"Warp Finance\" model\n",
    "    s_1, D, LP, R_0, R_1, P_LP, B, In_1, Out_0, R_0_new, R_1_new, P_LP_new, B_new, B_dai, B_usdc, In_0, Out_weth_us, Out_weth_ss, c, profit_warp, pre_warp, post_warp = damage_model(\"Warp Finance\", F_0, F_1_value, r_0, r_1, s_0, lp, twap_0, twap_1, V_dai, V_usdc, r_weth, r_usdc)\n",
    "    profit_values_warp.append(profit_warp)\n",
    "\n",
    "    # Calculate dmg for \"Fair Reserve\" model\n",
    "    s_1, D, LP, R_0, R_1, P_LP, B, In_1, Out_0, R_0_new, R_1_new, P_LP_new, B_new, B_dai, B_usdc, In_0, Out_weth_us, Out_weth_ss, c, profit_fair, pre_fair, post_fair = damage_model(\"Fair Reserve\", F_0, F_1_value, r_0, r_1, s_0, lp, twap_0, twap_1, V_dai, V_usdc, r_weth, r_usdc)\n",
    "    profit_values_fair.append(profit_fair)\n",
    "\n",
    "# Plot the DMG vs F_1 continuous line plot for both models\n",
    "plt.figure(figsize=(10, 6))\n",
    "plt.plot(F_1_values, profit_values_warp, color=\"b\", label=\"Warp Finance\")\n",
    "plt.plot(F_1_values, profit_values_fair, color=\"r\", label=\"Fair Reserve\")\n",
    "plt.xlabel(\"Flash Loan Size (WETH)\", fontsize=16)\n",
    "plt.ylabel(\"Attacker Profit (WETH)\", fontsize=16)\n",
    "plt.legend(fontsize=14, loc=\"center right\")\n",
    "\n",
    "# Add horizontal line at y = 0 to make the x-axis more distinct across 0\n",
    "plt.axhline(0, color=\"black\", linewidth=0.5, linestyle=\"-\")\n",
    "\n",
    "# Find the index of the maximum value in dmg_values_warp\n",
    "max_index_warp = profit_values_warp.index(max(profit_values_warp))\n",
    "\n",
    "# Annotate the maximum point below the line\n",
    "plt.annotate(f\"Maximum: {F_1_values[max_index_warp]:.2f},\\n {max(profit_values_warp):.2f}\",\n",
    "             xy=(F_1_values[max_index_warp], max(profit_values_warp)),\n",
    "             xytext=(F_1_values[max_index_warp] - 150000, max(profit_values_warp) - 500),\n",
    "             arrowprops=dict(facecolor=\"black\", shrink=0.05, width=0.5, headwidth=6),\n",
    "             fontsize=14,\n",
    "             horizontalalignment=\"center\")\n",
    "\n",
    "plt.annotate(\"Actual: 345736.69,\\n 1462.82\",\n",
    "             xy=(345736.68538198655, 1462.819418141686758539),\n",
    "             xytext=(345736.68538198655, 1462.819418141686758539 - 1750),\n",
    "             arrowprops=dict(facecolor=\"black\", shrink=0.05, width=0.5, headwidth=6),\n",
    "             fontsize=14,\n",
    "             horizontalalignment=\"center\")\n",
    "\n",
    "plt.grid()\n",
    "plt.show()"
   ],
   "metadata": {
    "collapsed": false,
    "ExecuteTime": {
     "end_time": "2023-08-23T14:27:15.868786900Z",
     "start_time": "2023-08-23T14:27:11.468224900Z"
    }
   }
  },
  {
   "cell_type": "markdown",
   "source": [
    "## Internal Parameter Adjustment"
   ],
   "metadata": {
    "collapsed": false
   }
  },
  {
   "cell_type": "code",
   "execution_count": null,
   "outputs": [],
   "source": [],
   "metadata": {
    "collapsed": false
   }
  },
  {
   "cell_type": "markdown",
   "source": [
    "## External Parameter Adjustment"
   ],
   "metadata": {
    "collapsed": false
   }
  },
  {
   "cell_type": "code",
   "execution_count": null,
   "outputs": [],
   "source": [],
   "metadata": {
    "collapsed": false
   }
  }
 ],
 "metadata": {
  "kernelspec": {
   "display_name": "Python 3",
   "language": "python",
   "name": "python3"
  },
  "language_info": {
   "codemirror_mode": {
    "name": "ipython",
    "version": 2
   },
   "file_extension": ".py",
   "mimetype": "text/x-python",
   "name": "python",
   "nbconvert_exporter": "python",
   "pygments_lexer": "ipython2",
   "version": "2.7.6"
  }
 },
 "nbformat": 4,
 "nbformat_minor": 0
}
