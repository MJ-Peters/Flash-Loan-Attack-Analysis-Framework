{
 "cells": [
  {
   "cell_type": "markdown",
   "source": [
    "# The Flash Loan Attack Analysis (FAA) Framework"
   ],
   "metadata": {
    "collapsed": false
   }
  },
  {
   "cell_type": "markdown",
   "source": [
    "## Importing Blockchain Data"
   ],
   "metadata": {
    "collapsed": false
   }
  },
  {
   "cell_type": "code",
   "execution_count": 5,
   "outputs": [],
   "source": [
    "import pandas as pd\n",
    "from datetime import datetime"
   ],
   "metadata": {
    "collapsed": false,
    "ExecuteTime": {
     "end_time": "2023-08-13T12:33:39.609284100Z",
     "start_time": "2023-08-13T12:33:38.807778900Z"
    }
   }
  },
  {
   "cell_type": "markdown",
   "source": [
    "### Overall Transaction"
   ],
   "metadata": {
    "collapsed": false
   }
  },
  {
   "cell_type": "code",
   "execution_count": 6,
   "outputs": [
    {
     "data": {
      "text/plain": "   blockNumber   timeStamp                                               hash  \\\n0     11473330  1608243881  0x8bb8dc5c7c830bac85fa48acad2505e9300a91c3ff23...   \n\n   nonce                                          blockHash  transactionIndex  \\\n0      4  0xace8f027885d93d734e046661df5e51d96d21d78d42c...                65   \n\n                                         from  \\\n0  0xebc6bd6ac2c9ad4adf4ba57e9f709b8b9cf03c40   \n\n                                           to  value      gas     gasPrice  \\\n0  0xdf8bee861227ffc5eea819c332a1c170ae3dbacb      0  3656990  89000000000   \n\n   isError  txreceipt_status       input  contractAddress  cumulativeGasUsed  \\\n0        0                 1  0xb8e7c2fa              NaN            6231822   \n\n   gasUsed  confirmations    methodId  functionName  \n0  2339018        6412857  0xb8e7c2fa           NaN  ",
      "text/html": "<div>\n<style scoped>\n    .dataframe tbody tr th:only-of-type {\n        vertical-align: middle;\n    }\n\n    .dataframe tbody tr th {\n        vertical-align: top;\n    }\n\n    .dataframe thead th {\n        text-align: right;\n    }\n</style>\n<table border=\"1\" class=\"dataframe\">\n  <thead>\n    <tr style=\"text-align: right;\">\n      <th></th>\n      <th>blockNumber</th>\n      <th>timeStamp</th>\n      <th>hash</th>\n      <th>nonce</th>\n      <th>blockHash</th>\n      <th>transactionIndex</th>\n      <th>from</th>\n      <th>to</th>\n      <th>value</th>\n      <th>gas</th>\n      <th>gasPrice</th>\n      <th>isError</th>\n      <th>txreceipt_status</th>\n      <th>input</th>\n      <th>contractAddress</th>\n      <th>cumulativeGasUsed</th>\n      <th>gasUsed</th>\n      <th>confirmations</th>\n      <th>methodId</th>\n      <th>functionName</th>\n    </tr>\n  </thead>\n  <tbody>\n    <tr>\n      <th>0</th>\n      <td>11473330</td>\n      <td>1608243881</td>\n      <td>0x8bb8dc5c7c830bac85fa48acad2505e9300a91c3ff23...</td>\n      <td>4</td>\n      <td>0xace8f027885d93d734e046661df5e51d96d21d78d42c...</td>\n      <td>65</td>\n      <td>0xebc6bd6ac2c9ad4adf4ba57e9f709b8b9cf03c40</td>\n      <td>0xdf8bee861227ffc5eea819c332a1c170ae3dbacb</td>\n      <td>0</td>\n      <td>3656990</td>\n      <td>89000000000</td>\n      <td>0</td>\n      <td>1</td>\n      <td>0xb8e7c2fa</td>\n      <td>NaN</td>\n      <td>6231822</td>\n      <td>2339018</td>\n      <td>6412857</td>\n      <td>0xb8e7c2fa</td>\n      <td>NaN</td>\n    </tr>\n  </tbody>\n</table>\n</div>"
     },
     "execution_count": 6,
     "metadata": {},
     "output_type": "execute_result"
    }
   ],
   "source": [
    "transaction_df = pd.read_csv(\"txlist_data.csv\")\n",
    "\n",
    "transaction_df"
   ],
   "metadata": {
    "collapsed": false,
    "ExecuteTime": {
     "end_time": "2023-08-13T12:33:41.067086500Z",
     "start_time": "2023-08-13T12:33:40.960714800Z"
    }
   }
  },
  {
   "cell_type": "code",
   "execution_count": 7,
   "outputs": [
    {
     "name": "stdout",
     "output_type": "stream",
     "text": [
      "The date of the warp finance flash loan attack was the 17th of December 2020\n",
      "The timestamp of 1608243881 converts to datetime: 2020-12-17 22:24:41 UTC (GMT)\n"
     ]
    }
   ],
   "source": [
    "# We know from inspecting the etherscan website that this is the correct transaction, but we will still check the timestamp matches the date of the warp finance attack\n",
    "print(\"The date of the warp finance flash loan attack was the 17th of December 2020\")\n",
    "timestamp = transaction_df[\"timeStamp\"][0]\n",
    "datetime_obj = datetime.fromtimestamp(timestamp)\n",
    "print(f\"The timestamp of {timestamp} converts to datetime: {datetime_obj} UTC (GMT)\")"
   ],
   "metadata": {
    "collapsed": false,
    "ExecuteTime": {
     "end_time": "2023-08-13T12:33:41.926230500Z",
     "start_time": "2023-08-13T12:33:41.910575900Z"
    }
   }
  },
  {
   "cell_type": "markdown",
   "source": [
    "### Internal Transactions"
   ],
   "metadata": {
    "collapsed": false
   }
  },
  {
   "cell_type": "code",
   "execution_count": 8,
   "outputs": [
    {
     "data": {
      "text/plain": "   blockNumber   timeStamp                                               hash  \\\n0     11473330  1608243881  0x8bb8dc5c7c830bac85fa48acad2505e9300a91c3ff23...   \n\n                                         from  \\\n0  0xc02aaa39b223fe8d0a0e5c4f27ead9083c756cc2   \n\n                                           to                   value  \\\n0  0xdf8bee861227ffc5eea819c332a1c170ae3dbacb  1462819418141686758539   \n\n   contractAddress  input  type   gas  gasUsed           traceId  isError  \\\n0              NaN    NaN  call  2300       41  2_1_2_1_2_1_31_0        0   \n\n   errCode  \n0      NaN  ",
      "text/html": "<div>\n<style scoped>\n    .dataframe tbody tr th:only-of-type {\n        vertical-align: middle;\n    }\n\n    .dataframe tbody tr th {\n        vertical-align: top;\n    }\n\n    .dataframe thead th {\n        text-align: right;\n    }\n</style>\n<table border=\"1\" class=\"dataframe\">\n  <thead>\n    <tr style=\"text-align: right;\">\n      <th></th>\n      <th>blockNumber</th>\n      <th>timeStamp</th>\n      <th>hash</th>\n      <th>from</th>\n      <th>to</th>\n      <th>value</th>\n      <th>contractAddress</th>\n      <th>input</th>\n      <th>type</th>\n      <th>gas</th>\n      <th>gasUsed</th>\n      <th>traceId</th>\n      <th>isError</th>\n      <th>errCode</th>\n    </tr>\n  </thead>\n  <tbody>\n    <tr>\n      <th>0</th>\n      <td>11473330</td>\n      <td>1608243881</td>\n      <td>0x8bb8dc5c7c830bac85fa48acad2505e9300a91c3ff23...</td>\n      <td>0xc02aaa39b223fe8d0a0e5c4f27ead9083c756cc2</td>\n      <td>0xdf8bee861227ffc5eea819c332a1c170ae3dbacb</td>\n      <td>1462819418141686758539</td>\n      <td>NaN</td>\n      <td>NaN</td>\n      <td>call</td>\n      <td>2300</td>\n      <td>41</td>\n      <td>2_1_2_1_2_1_31_0</td>\n      <td>0</td>\n      <td>NaN</td>\n    </tr>\n  </tbody>\n</table>\n</div>"
     },
     "execution_count": 8,
     "metadata": {},
     "output_type": "execute_result"
    }
   ],
   "source": [
    "internal_transactions_df = pd.read_csv(\"txlistinternal_data.csv\")\n",
    "\n",
    "internal_transactions_df"
   ],
   "metadata": {
    "collapsed": false,
    "ExecuteTime": {
     "end_time": "2023-08-13T12:33:43.458380200Z",
     "start_time": "2023-08-13T12:33:43.419778600Z"
    }
   }
  },
  {
   "cell_type": "markdown",
   "source": [
    "### Token Transfers"
   ],
   "metadata": {
    "collapsed": false
   }
  },
  {
   "cell_type": "code",
   "execution_count": 45,
   "outputs": [
    {
     "data": {
      "text/plain": "   blockNumber   timeStamp                                               hash  \\\n0     11473330  1608243881  0x8bb8dc5c7c830bac85fa48acad2505e9300a91c3ff23...   \n1     11473330  1608243881  0x8bb8dc5c7c830bac85fa48acad2505e9300a91c3ff23...   \n2     11473330  1608243881  0x8bb8dc5c7c830bac85fa48acad2505e9300a91c3ff23...   \n3     11473330  1608243881  0x8bb8dc5c7c830bac85fa48acad2505e9300a91c3ff23...   \n4     11473330  1608243881  0x8bb8dc5c7c830bac85fa48acad2505e9300a91c3ff23...   \n\n   nonce                                          blockHash  \\\n0      4  0xace8f027885d93d734e046661df5e51d96d21d78d42c...   \n1      4  0xace8f027885d93d734e046661df5e51d96d21d78d42c...   \n2      4  0xace8f027885d93d734e046661df5e51d96d21d78d42c...   \n3      4  0xace8f027885d93d734e046661df5e51d96d21d78d42c...   \n4      4  0xace8f027885d93d734e046661df5e51d96d21d78d42c...   \n\n                                         from  \\\n0  0xbb2b8038a1640196fbe3e38816f3e67cba72d940   \n1  0xb4e16d0168e52d35cacd2c6185b44281ec28c9dc   \n2  0x0d4a11d5eeaac28ec3f61d100daf4d40471f1852   \n3  0x1e0447b19bb6ecfdae1e4ae1694b0c3659614e4e   \n4  0x1e0447b19bb6ecfdae1e4ae1694b0c3659614e4e   \n\n                              contractAddress  \\\n0  0xc02aaa39b223fe8d0a0e5c4f27ead9083c756cc2   \n1  0xc02aaa39b223fe8d0a0e5c4f27ead9083c756cc2   \n2  0xc02aaa39b223fe8d0a0e5c4f27ead9083c756cc2   \n3  0x6b175474e89094c44da98b954eedeac495271d0f   \n4  0xc02aaa39b223fe8d0a0e5c4f27ead9083c756cc2   \n\n                                           to                      value  \\\n0  0xdf8bee861227ffc5eea819c332a1c170ae3dbacb    90409013949210977199603   \n1  0xdf8bee861227ffc5eea819c332a1c170ae3dbacb    82798403238691593953288   \n2  0xdf8bee861227ffc5eea819c332a1c170ae3dbacb    96092504596377425124746   \n3  0xdf8bee861227ffc5eea819c332a1c170ae3dbacb  2900029981390875168951633   \n4  0xdf8bee861227ffc5eea819c332a1c170ae3dbacb    76436763597706555986902   \n\n        tokenName tokenSymbol  tokenDecimal  transactionIndex      gas  \\\n0   Wrapped Ether        WETH            18                65  3656990   \n1   Wrapped Ether        WETH            18                65  3656990   \n2   Wrapped Ether        WETH            18                65  3656990   \n3  Dai Stablecoin         DAI            18                65  3656990   \n4   Wrapped Ether        WETH            18                65  3656990   \n\n      gasPrice  gasUsed  cumulativeGasUsed       input  confirmations  \n0  89000000000  2339018            6231822  deprecated        6412857  \n1  89000000000  2339018            6231822  deprecated        6412857  \n2  89000000000  2339018            6231822  deprecated        6412857  \n3  89000000000  2339018            6231822  deprecated        6412857  \n4  89000000000  2339018            6231822  deprecated        6412857  ",
      "text/html": "<div>\n<style scoped>\n    .dataframe tbody tr th:only-of-type {\n        vertical-align: middle;\n    }\n\n    .dataframe tbody tr th {\n        vertical-align: top;\n    }\n\n    .dataframe thead th {\n        text-align: right;\n    }\n</style>\n<table border=\"1\" class=\"dataframe\">\n  <thead>\n    <tr style=\"text-align: right;\">\n      <th></th>\n      <th>blockNumber</th>\n      <th>timeStamp</th>\n      <th>hash</th>\n      <th>nonce</th>\n      <th>blockHash</th>\n      <th>from</th>\n      <th>contractAddress</th>\n      <th>to</th>\n      <th>value</th>\n      <th>tokenName</th>\n      <th>tokenSymbol</th>\n      <th>tokenDecimal</th>\n      <th>transactionIndex</th>\n      <th>gas</th>\n      <th>gasPrice</th>\n      <th>gasUsed</th>\n      <th>cumulativeGasUsed</th>\n      <th>input</th>\n      <th>confirmations</th>\n    </tr>\n  </thead>\n  <tbody>\n    <tr>\n      <th>0</th>\n      <td>11473330</td>\n      <td>1608243881</td>\n      <td>0x8bb8dc5c7c830bac85fa48acad2505e9300a91c3ff23...</td>\n      <td>4</td>\n      <td>0xace8f027885d93d734e046661df5e51d96d21d78d42c...</td>\n      <td>0xbb2b8038a1640196fbe3e38816f3e67cba72d940</td>\n      <td>0xc02aaa39b223fe8d0a0e5c4f27ead9083c756cc2</td>\n      <td>0xdf8bee861227ffc5eea819c332a1c170ae3dbacb</td>\n      <td>90409013949210977199603</td>\n      <td>Wrapped Ether</td>\n      <td>WETH</td>\n      <td>18</td>\n      <td>65</td>\n      <td>3656990</td>\n      <td>89000000000</td>\n      <td>2339018</td>\n      <td>6231822</td>\n      <td>deprecated</td>\n      <td>6412857</td>\n    </tr>\n    <tr>\n      <th>1</th>\n      <td>11473330</td>\n      <td>1608243881</td>\n      <td>0x8bb8dc5c7c830bac85fa48acad2505e9300a91c3ff23...</td>\n      <td>4</td>\n      <td>0xace8f027885d93d734e046661df5e51d96d21d78d42c...</td>\n      <td>0xb4e16d0168e52d35cacd2c6185b44281ec28c9dc</td>\n      <td>0xc02aaa39b223fe8d0a0e5c4f27ead9083c756cc2</td>\n      <td>0xdf8bee861227ffc5eea819c332a1c170ae3dbacb</td>\n      <td>82798403238691593953288</td>\n      <td>Wrapped Ether</td>\n      <td>WETH</td>\n      <td>18</td>\n      <td>65</td>\n      <td>3656990</td>\n      <td>89000000000</td>\n      <td>2339018</td>\n      <td>6231822</td>\n      <td>deprecated</td>\n      <td>6412857</td>\n    </tr>\n    <tr>\n      <th>2</th>\n      <td>11473330</td>\n      <td>1608243881</td>\n      <td>0x8bb8dc5c7c830bac85fa48acad2505e9300a91c3ff23...</td>\n      <td>4</td>\n      <td>0xace8f027885d93d734e046661df5e51d96d21d78d42c...</td>\n      <td>0x0d4a11d5eeaac28ec3f61d100daf4d40471f1852</td>\n      <td>0xc02aaa39b223fe8d0a0e5c4f27ead9083c756cc2</td>\n      <td>0xdf8bee861227ffc5eea819c332a1c170ae3dbacb</td>\n      <td>96092504596377425124746</td>\n      <td>Wrapped Ether</td>\n      <td>WETH</td>\n      <td>18</td>\n      <td>65</td>\n      <td>3656990</td>\n      <td>89000000000</td>\n      <td>2339018</td>\n      <td>6231822</td>\n      <td>deprecated</td>\n      <td>6412857</td>\n    </tr>\n    <tr>\n      <th>3</th>\n      <td>11473330</td>\n      <td>1608243881</td>\n      <td>0x8bb8dc5c7c830bac85fa48acad2505e9300a91c3ff23...</td>\n      <td>4</td>\n      <td>0xace8f027885d93d734e046661df5e51d96d21d78d42c...</td>\n      <td>0x1e0447b19bb6ecfdae1e4ae1694b0c3659614e4e</td>\n      <td>0x6b175474e89094c44da98b954eedeac495271d0f</td>\n      <td>0xdf8bee861227ffc5eea819c332a1c170ae3dbacb</td>\n      <td>2900029981390875168951633</td>\n      <td>Dai Stablecoin</td>\n      <td>DAI</td>\n      <td>18</td>\n      <td>65</td>\n      <td>3656990</td>\n      <td>89000000000</td>\n      <td>2339018</td>\n      <td>6231822</td>\n      <td>deprecated</td>\n      <td>6412857</td>\n    </tr>\n    <tr>\n      <th>4</th>\n      <td>11473330</td>\n      <td>1608243881</td>\n      <td>0x8bb8dc5c7c830bac85fa48acad2505e9300a91c3ff23...</td>\n      <td>4</td>\n      <td>0xace8f027885d93d734e046661df5e51d96d21d78d42c...</td>\n      <td>0x1e0447b19bb6ecfdae1e4ae1694b0c3659614e4e</td>\n      <td>0xc02aaa39b223fe8d0a0e5c4f27ead9083c756cc2</td>\n      <td>0xdf8bee861227ffc5eea819c332a1c170ae3dbacb</td>\n      <td>76436763597706555986902</td>\n      <td>Wrapped Ether</td>\n      <td>WETH</td>\n      <td>18</td>\n      <td>65</td>\n      <td>3656990</td>\n      <td>89000000000</td>\n      <td>2339018</td>\n      <td>6231822</td>\n      <td>deprecated</td>\n      <td>6412857</td>\n    </tr>\n  </tbody>\n</table>\n</div>"
     },
     "execution_count": 45,
     "metadata": {},
     "output_type": "execute_result"
    }
   ],
   "source": [
    "token_transfers_df = pd.read_csv(\"tokentx_data.csv\")\n",
    "\n",
    "token_transfers_df.head()"
   ],
   "metadata": {
    "collapsed": false,
    "ExecuteTime": {
     "end_time": "2023-08-13T13:29:28.810620100Z",
     "start_time": "2023-08-13T13:29:28.773247200Z"
    }
   }
  },
  {
   "cell_type": "code",
   "execution_count": 46,
   "outputs": [
    {
     "data": {
      "text/plain": "                                         from  \\\n0  0xbb2b8038a1640196fbe3e38816f3e67cba72d940   \n1  0xb4e16d0168e52d35cacd2c6185b44281ec28c9dc   \n2  0x0d4a11d5eeaac28ec3f61d100daf4d40471f1852   \n3  0x1e0447b19bb6ecfdae1e4ae1694b0c3659614e4e   \n4  0x1e0447b19bb6ecfdae1e4ae1694b0c3659614e4e   \n\n                              contractAddress  \\\n0  0xc02aaa39b223fe8d0a0e5c4f27ead9083c756cc2   \n1  0xc02aaa39b223fe8d0a0e5c4f27ead9083c756cc2   \n2  0xc02aaa39b223fe8d0a0e5c4f27ead9083c756cc2   \n3  0x6b175474e89094c44da98b954eedeac495271d0f   \n4  0xc02aaa39b223fe8d0a0e5c4f27ead9083c756cc2   \n\n                                           to                      value  \\\n0  0xdf8bee861227ffc5eea819c332a1c170ae3dbacb    90409013949210977199603   \n1  0xdf8bee861227ffc5eea819c332a1c170ae3dbacb    82798403238691593953288   \n2  0xdf8bee861227ffc5eea819c332a1c170ae3dbacb    96092504596377425124746   \n3  0xdf8bee861227ffc5eea819c332a1c170ae3dbacb  2900029981390875168951633   \n4  0xdf8bee861227ffc5eea819c332a1c170ae3dbacb    76436763597706555986902   \n\n  tokenSymbol  tokenDecimal  \n0        WETH            18  \n1        WETH            18  \n2        WETH            18  \n3         DAI            18  \n4        WETH            18  ",
      "text/html": "<div>\n<style scoped>\n    .dataframe tbody tr th:only-of-type {\n        vertical-align: middle;\n    }\n\n    .dataframe tbody tr th {\n        vertical-align: top;\n    }\n\n    .dataframe thead th {\n        text-align: right;\n    }\n</style>\n<table border=\"1\" class=\"dataframe\">\n  <thead>\n    <tr style=\"text-align: right;\">\n      <th></th>\n      <th>from</th>\n      <th>contractAddress</th>\n      <th>to</th>\n      <th>value</th>\n      <th>tokenSymbol</th>\n      <th>tokenDecimal</th>\n    </tr>\n  </thead>\n  <tbody>\n    <tr>\n      <th>0</th>\n      <td>0xbb2b8038a1640196fbe3e38816f3e67cba72d940</td>\n      <td>0xc02aaa39b223fe8d0a0e5c4f27ead9083c756cc2</td>\n      <td>0xdf8bee861227ffc5eea819c332a1c170ae3dbacb</td>\n      <td>90409013949210977199603</td>\n      <td>WETH</td>\n      <td>18</td>\n    </tr>\n    <tr>\n      <th>1</th>\n      <td>0xb4e16d0168e52d35cacd2c6185b44281ec28c9dc</td>\n      <td>0xc02aaa39b223fe8d0a0e5c4f27ead9083c756cc2</td>\n      <td>0xdf8bee861227ffc5eea819c332a1c170ae3dbacb</td>\n      <td>82798403238691593953288</td>\n      <td>WETH</td>\n      <td>18</td>\n    </tr>\n    <tr>\n      <th>2</th>\n      <td>0x0d4a11d5eeaac28ec3f61d100daf4d40471f1852</td>\n      <td>0xc02aaa39b223fe8d0a0e5c4f27ead9083c756cc2</td>\n      <td>0xdf8bee861227ffc5eea819c332a1c170ae3dbacb</td>\n      <td>96092504596377425124746</td>\n      <td>WETH</td>\n      <td>18</td>\n    </tr>\n    <tr>\n      <th>3</th>\n      <td>0x1e0447b19bb6ecfdae1e4ae1694b0c3659614e4e</td>\n      <td>0x6b175474e89094c44da98b954eedeac495271d0f</td>\n      <td>0xdf8bee861227ffc5eea819c332a1c170ae3dbacb</td>\n      <td>2900029981390875168951633</td>\n      <td>DAI</td>\n      <td>18</td>\n    </tr>\n    <tr>\n      <th>4</th>\n      <td>0x1e0447b19bb6ecfdae1e4ae1694b0c3659614e4e</td>\n      <td>0xc02aaa39b223fe8d0a0e5c4f27ead9083c756cc2</td>\n      <td>0xdf8bee861227ffc5eea819c332a1c170ae3dbacb</td>\n      <td>76436763597706555986902</td>\n      <td>WETH</td>\n      <td>18</td>\n    </tr>\n  </tbody>\n</table>\n</div>"
     },
     "execution_count": 46,
     "metadata": {},
     "output_type": "execute_result"
    }
   ],
   "source": [
    "# Removing columns that aren't relevant to the analysis\n",
    "columns_to_drop = [\"blockNumber\", \"timeStamp\", \"hash\", \"nonce\", \"blockHash\", \"tokenName\", \"transactionIndex\", \"gas\", \"gasPrice\", \"gasUsed\", \"cumulativeGasUsed\", \"input\", \"confirmations\"]\n",
    "\n",
    "token_transfers_df = token_transfers_df.drop(columns=columns_to_drop, axis=1)\n",
    "token_transfers_df.head()"
   ],
   "metadata": {
    "collapsed": false,
    "ExecuteTime": {
     "end_time": "2023-08-13T13:29:30.149018600Z",
     "start_time": "2023-08-13T13:29:30.126557Z"
    }
   }
  },
  {
   "cell_type": "code",
   "execution_count": 47,
   "outputs": [
    {
     "data": {
      "text/plain": "                                         from  \\\n0  0xbb2b8038a1640196fbe3e38816f3e67cba72d940   \n1  0xb4e16d0168e52d35cacd2c6185b44281ec28c9dc   \n2  0x0d4a11d5eeaac28ec3f61d100daf4d40471f1852   \n3  0x1e0447b19bb6ecfdae1e4ae1694b0c3659614e4e   \n4  0x1e0447b19bb6ecfdae1e4ae1694b0c3659614e4e   \n\n                              contractAddress  \\\n0  0xc02aaa39b223fe8d0a0e5c4f27ead9083c756cc2   \n1  0xc02aaa39b223fe8d0a0e5c4f27ead9083c756cc2   \n2  0xc02aaa39b223fe8d0a0e5c4f27ead9083c756cc2   \n3  0x6b175474e89094c44da98b954eedeac495271d0f   \n4  0xc02aaa39b223fe8d0a0e5c4f27ead9083c756cc2   \n\n                                           to  smallestDenominationQuantity  \\\n0  0xdf8bee861227ffc5eea819c332a1c170ae3dbacb                  9.040901e+22   \n1  0xdf8bee861227ffc5eea819c332a1c170ae3dbacb                  8.279840e+22   \n2  0xdf8bee861227ffc5eea819c332a1c170ae3dbacb                  9.609250e+22   \n3  0xdf8bee861227ffc5eea819c332a1c170ae3dbacb                  2.900030e+24   \n4  0xdf8bee861227ffc5eea819c332a1c170ae3dbacb                  7.643676e+22   \n\n   tokenQuantity tokenSymbol  \n0   9.040901e+04        WETH  \n1   8.279840e+04        WETH  \n2   9.609250e+04        WETH  \n3   2.900030e+06         DAI  \n4   7.643676e+04        WETH  ",
      "text/html": "<div>\n<style scoped>\n    .dataframe tbody tr th:only-of-type {\n        vertical-align: middle;\n    }\n\n    .dataframe tbody tr th {\n        vertical-align: top;\n    }\n\n    .dataframe thead th {\n        text-align: right;\n    }\n</style>\n<table border=\"1\" class=\"dataframe\">\n  <thead>\n    <tr style=\"text-align: right;\">\n      <th></th>\n      <th>from</th>\n      <th>contractAddress</th>\n      <th>to</th>\n      <th>smallestDenominationQuantity</th>\n      <th>tokenQuantity</th>\n      <th>tokenSymbol</th>\n    </tr>\n  </thead>\n  <tbody>\n    <tr>\n      <th>0</th>\n      <td>0xbb2b8038a1640196fbe3e38816f3e67cba72d940</td>\n      <td>0xc02aaa39b223fe8d0a0e5c4f27ead9083c756cc2</td>\n      <td>0xdf8bee861227ffc5eea819c332a1c170ae3dbacb</td>\n      <td>9.040901e+22</td>\n      <td>9.040901e+04</td>\n      <td>WETH</td>\n    </tr>\n    <tr>\n      <th>1</th>\n      <td>0xb4e16d0168e52d35cacd2c6185b44281ec28c9dc</td>\n      <td>0xc02aaa39b223fe8d0a0e5c4f27ead9083c756cc2</td>\n      <td>0xdf8bee861227ffc5eea819c332a1c170ae3dbacb</td>\n      <td>8.279840e+22</td>\n      <td>8.279840e+04</td>\n      <td>WETH</td>\n    </tr>\n    <tr>\n      <th>2</th>\n      <td>0x0d4a11d5eeaac28ec3f61d100daf4d40471f1852</td>\n      <td>0xc02aaa39b223fe8d0a0e5c4f27ead9083c756cc2</td>\n      <td>0xdf8bee861227ffc5eea819c332a1c170ae3dbacb</td>\n      <td>9.609250e+22</td>\n      <td>9.609250e+04</td>\n      <td>WETH</td>\n    </tr>\n    <tr>\n      <th>3</th>\n      <td>0x1e0447b19bb6ecfdae1e4ae1694b0c3659614e4e</td>\n      <td>0x6b175474e89094c44da98b954eedeac495271d0f</td>\n      <td>0xdf8bee861227ffc5eea819c332a1c170ae3dbacb</td>\n      <td>2.900030e+24</td>\n      <td>2.900030e+06</td>\n      <td>DAI</td>\n    </tr>\n    <tr>\n      <th>4</th>\n      <td>0x1e0447b19bb6ecfdae1e4ae1694b0c3659614e4e</td>\n      <td>0xc02aaa39b223fe8d0a0e5c4f27ead9083c756cc2</td>\n      <td>0xdf8bee861227ffc5eea819c332a1c170ae3dbacb</td>\n      <td>7.643676e+22</td>\n      <td>7.643676e+04</td>\n      <td>WETH</td>\n    </tr>\n  </tbody>\n</table>\n</div>"
     },
     "execution_count": 47,
     "metadata": {},
     "output_type": "execute_result"
    }
   ],
   "source": [
    "# Adding a column to show the value of the transfer in Wei and in the standard token\n",
    "token_transfers_df = token_transfers_df.rename(columns={\"value\": \"smallestDenominationQuantity\"})\n",
    "\n",
    "# Converting columns to floats (numbers are too large for ints according to OverflowError)\n",
    "token_transfers_df[\"smallestDenominationQuantity\"] = token_transfers_df[\"smallestDenominationQuantity\"].astype(float)\n",
    "token_transfers_df[\"tokenDecimal\"] = token_transfers_df[\"tokenDecimal\"].astype(float)\n",
    "\n",
    "# Creating new column\n",
    "token_transfers_df[\"tokenQuantity\"] = token_transfers_df[\"smallestDenominationQuantity\"] / (10 ** token_transfers_df[\"tokenDecimal\"])\n",
    "\n",
    "# Moving the tokenQuantity next to the smallestDenomQuantity\n",
    "new_column_position = 4\n",
    "column_names = list(token_transfers_df.columns)\n",
    "column_names.insert(new_column_position, column_names.pop(column_names.index(\"tokenQuantity\")))\n",
    "token_transfers_df = token_transfers_df[column_names]\n",
    "\n",
    "# Removing tokenDecimal as it is no longer useful\n",
    "token_transfers_df = token_transfers_df.drop(columns=\"tokenDecimal\")\n",
    "\n",
    "token_transfers_df.head()"
   ],
   "metadata": {
    "collapsed": false,
    "ExecuteTime": {
     "end_time": "2023-08-13T13:29:31.006848600Z",
     "start_time": "2023-08-13T13:29:30.984543100Z"
    }
   }
  },
  {
   "cell_type": "code",
   "execution_count": 48,
   "outputs": [
    {
     "data": {
      "text/plain": "                        from          contractAddress  \\\n0   Uniswap V2: WBTC-WETH LP            Wrapped Ether   \n1   Uniswap V2: USDC-WETH LP            Wrapped Ether   \n2   Uniswap V2: USDT-WETH LP            Wrapped Ether   \n3          dYdX: Solo Margin           Dai Stablecoin   \n4          dYdX: Solo Margin            Wrapped Ether   \n5        Attacker's Contract           Dai Stablecoin   \n6        Attacker's Contract            Wrapped Ether   \n7                       Null  Uniswap V2: WETH-DAI LP   \n8        Attacker's Contract  Uniswap V2: WETH-DAI LP   \n9        Attacker's Contract            Wrapped Ether   \n10   Uniswap V2: WETH-DAI LP           Dai Stablecoin   \n11           Warp Vault SC 1                 USD Coin   \n12           Warp Vault SC 2           Dai Stablecoin   \n13       Attacker's Contract           Dai Stablecoin   \n14   Uniswap V2: WETH-DAI LP            Wrapped Ether   \n15       Attacker's Contract           Dai Stablecoin   \n16       Attacker's Contract            Wrapped Ether   \n17       Attacker's Contract                 USD Coin   \n18    SushiSwap: USDC/ETH LP            Wrapped Ether   \n19       Attacker's Contract            Wrapped Ether   \n20       Attacker's Contract            Wrapped Ether   \n21       Attacker's Contract            Wrapped Ether   \n\n                          to  smallestDenominationQuantity  tokenQuantity  \\\n0        Attacker's Contract                  9.040901e+22   9.040901e+04   \n1        Attacker's Contract                  8.279840e+22   8.279840e+04   \n2        Attacker's Contract                  9.609250e+22   9.609250e+04   \n3        Attacker's Contract                  2.900030e+24   2.900030e+06   \n4        Attacker's Contract                  7.643676e+22   7.643676e+04   \n5    Uniswap V2: WETH-DAI LP                  2.900030e+24   2.900030e+06   \n6    Uniswap V2: WETH-DAI LP                  4.519641e+21   4.519641e+03   \n7        Attacker's Contract                  9.434934e+22   9.434934e+04   \n8              Warp Vault LP                  9.434934e+22   9.434934e+04   \n9    Uniswap V2: WETH-DAI LP                  3.412170e+23   3.412170e+05   \n10       Attacker's Contract                  4.762233e+25   4.762233e+07   \n11       Attacker's Contract                  3.917984e+12   3.917984e+06   \n12       Attacker's Contract                  3.862647e+24   3.862647e+06   \n13   Uniswap V2: WETH-DAI LP                  4.858495e+25   4.858495e+07   \n14       Attacker's Contract                  3.422529e+23   3.422529e+05   \n15         dYdX: Solo Margin                  2.900030e+24   2.900030e+06   \n16         dYdX: Solo Margin                  7.643676e+22   7.643676e+04   \n17    SushiSwap: USDC/ETH LP                  3.917984e+12   3.917984e+06   \n18       Attacker's Contract                  5.757514e+21   5.757514e+03   \n19  Uniswap V2: WBTC-WETH LP                  9.068124e+22   9.068124e+04   \n20  Uniswap V2: USDC-WETH LP                  8.304780e+22   8.304780e+04   \n21  Uniswap V2: USDT-WETH LP                  9.638178e+22   9.638178e+04   \n\n   tokenSymbol  \n0         WETH  \n1         WETH  \n2         WETH  \n3          DAI  \n4         WETH  \n5          DAI  \n6         WETH  \n7       UNI-V2  \n8       UNI-V2  \n9         WETH  \n10         DAI  \n11        USDC  \n12         DAI  \n13         DAI  \n14        WETH  \n15         DAI  \n16        WETH  \n17        USDC  \n18        WETH  \n19        WETH  \n20        WETH  \n21        WETH  ",
      "text/html": "<div>\n<style scoped>\n    .dataframe tbody tr th:only-of-type {\n        vertical-align: middle;\n    }\n\n    .dataframe tbody tr th {\n        vertical-align: top;\n    }\n\n    .dataframe thead th {\n        text-align: right;\n    }\n</style>\n<table border=\"1\" class=\"dataframe\">\n  <thead>\n    <tr style=\"text-align: right;\">\n      <th></th>\n      <th>from</th>\n      <th>contractAddress</th>\n      <th>to</th>\n      <th>smallestDenominationQuantity</th>\n      <th>tokenQuantity</th>\n      <th>tokenSymbol</th>\n    </tr>\n  </thead>\n  <tbody>\n    <tr>\n      <th>0</th>\n      <td>Uniswap V2: WBTC-WETH LP</td>\n      <td>Wrapped Ether</td>\n      <td>Attacker's Contract</td>\n      <td>9.040901e+22</td>\n      <td>9.040901e+04</td>\n      <td>WETH</td>\n    </tr>\n    <tr>\n      <th>1</th>\n      <td>Uniswap V2: USDC-WETH LP</td>\n      <td>Wrapped Ether</td>\n      <td>Attacker's Contract</td>\n      <td>8.279840e+22</td>\n      <td>8.279840e+04</td>\n      <td>WETH</td>\n    </tr>\n    <tr>\n      <th>2</th>\n      <td>Uniswap V2: USDT-WETH LP</td>\n      <td>Wrapped Ether</td>\n      <td>Attacker's Contract</td>\n      <td>9.609250e+22</td>\n      <td>9.609250e+04</td>\n      <td>WETH</td>\n    </tr>\n    <tr>\n      <th>3</th>\n      <td>dYdX: Solo Margin</td>\n      <td>Dai Stablecoin</td>\n      <td>Attacker's Contract</td>\n      <td>2.900030e+24</td>\n      <td>2.900030e+06</td>\n      <td>DAI</td>\n    </tr>\n    <tr>\n      <th>4</th>\n      <td>dYdX: Solo Margin</td>\n      <td>Wrapped Ether</td>\n      <td>Attacker's Contract</td>\n      <td>7.643676e+22</td>\n      <td>7.643676e+04</td>\n      <td>WETH</td>\n    </tr>\n    <tr>\n      <th>5</th>\n      <td>Attacker's Contract</td>\n      <td>Dai Stablecoin</td>\n      <td>Uniswap V2: WETH-DAI LP</td>\n      <td>2.900030e+24</td>\n      <td>2.900030e+06</td>\n      <td>DAI</td>\n    </tr>\n    <tr>\n      <th>6</th>\n      <td>Attacker's Contract</td>\n      <td>Wrapped Ether</td>\n      <td>Uniswap V2: WETH-DAI LP</td>\n      <td>4.519641e+21</td>\n      <td>4.519641e+03</td>\n      <td>WETH</td>\n    </tr>\n    <tr>\n      <th>7</th>\n      <td>Null</td>\n      <td>Uniswap V2: WETH-DAI LP</td>\n      <td>Attacker's Contract</td>\n      <td>9.434934e+22</td>\n      <td>9.434934e+04</td>\n      <td>UNI-V2</td>\n    </tr>\n    <tr>\n      <th>8</th>\n      <td>Attacker's Contract</td>\n      <td>Uniswap V2: WETH-DAI LP</td>\n      <td>Warp Vault LP</td>\n      <td>9.434934e+22</td>\n      <td>9.434934e+04</td>\n      <td>UNI-V2</td>\n    </tr>\n    <tr>\n      <th>9</th>\n      <td>Attacker's Contract</td>\n      <td>Wrapped Ether</td>\n      <td>Uniswap V2: WETH-DAI LP</td>\n      <td>3.412170e+23</td>\n      <td>3.412170e+05</td>\n      <td>WETH</td>\n    </tr>\n    <tr>\n      <th>10</th>\n      <td>Uniswap V2: WETH-DAI LP</td>\n      <td>Dai Stablecoin</td>\n      <td>Attacker's Contract</td>\n      <td>4.762233e+25</td>\n      <td>4.762233e+07</td>\n      <td>DAI</td>\n    </tr>\n    <tr>\n      <th>11</th>\n      <td>Warp Vault SC 1</td>\n      <td>USD Coin</td>\n      <td>Attacker's Contract</td>\n      <td>3.917984e+12</td>\n      <td>3.917984e+06</td>\n      <td>USDC</td>\n    </tr>\n    <tr>\n      <th>12</th>\n      <td>Warp Vault SC 2</td>\n      <td>Dai Stablecoin</td>\n      <td>Attacker's Contract</td>\n      <td>3.862647e+24</td>\n      <td>3.862647e+06</td>\n      <td>DAI</td>\n    </tr>\n    <tr>\n      <th>13</th>\n      <td>Attacker's Contract</td>\n      <td>Dai Stablecoin</td>\n      <td>Uniswap V2: WETH-DAI LP</td>\n      <td>4.858495e+25</td>\n      <td>4.858495e+07</td>\n      <td>DAI</td>\n    </tr>\n    <tr>\n      <th>14</th>\n      <td>Uniswap V2: WETH-DAI LP</td>\n      <td>Wrapped Ether</td>\n      <td>Attacker's Contract</td>\n      <td>3.422529e+23</td>\n      <td>3.422529e+05</td>\n      <td>WETH</td>\n    </tr>\n    <tr>\n      <th>15</th>\n      <td>Attacker's Contract</td>\n      <td>Dai Stablecoin</td>\n      <td>dYdX: Solo Margin</td>\n      <td>2.900030e+24</td>\n      <td>2.900030e+06</td>\n      <td>DAI</td>\n    </tr>\n    <tr>\n      <th>16</th>\n      <td>Attacker's Contract</td>\n      <td>Wrapped Ether</td>\n      <td>dYdX: Solo Margin</td>\n      <td>7.643676e+22</td>\n      <td>7.643676e+04</td>\n      <td>WETH</td>\n    </tr>\n    <tr>\n      <th>17</th>\n      <td>Attacker's Contract</td>\n      <td>USD Coin</td>\n      <td>SushiSwap: USDC/ETH LP</td>\n      <td>3.917984e+12</td>\n      <td>3.917984e+06</td>\n      <td>USDC</td>\n    </tr>\n    <tr>\n      <th>18</th>\n      <td>SushiSwap: USDC/ETH LP</td>\n      <td>Wrapped Ether</td>\n      <td>Attacker's Contract</td>\n      <td>5.757514e+21</td>\n      <td>5.757514e+03</td>\n      <td>WETH</td>\n    </tr>\n    <tr>\n      <th>19</th>\n      <td>Attacker's Contract</td>\n      <td>Wrapped Ether</td>\n      <td>Uniswap V2: WBTC-WETH LP</td>\n      <td>9.068124e+22</td>\n      <td>9.068124e+04</td>\n      <td>WETH</td>\n    </tr>\n    <tr>\n      <th>20</th>\n      <td>Attacker's Contract</td>\n      <td>Wrapped Ether</td>\n      <td>Uniswap V2: USDC-WETH LP</td>\n      <td>8.304780e+22</td>\n      <td>8.304780e+04</td>\n      <td>WETH</td>\n    </tr>\n    <tr>\n      <th>21</th>\n      <td>Attacker's Contract</td>\n      <td>Wrapped Ether</td>\n      <td>Uniswap V2: USDT-WETH LP</td>\n      <td>9.638178e+22</td>\n      <td>9.638178e+04</td>\n      <td>WETH</td>\n    </tr>\n  </tbody>\n</table>\n</div>"
     },
     "execution_count": 48,
     "metadata": {},
     "output_type": "execute_result"
    }
   ],
   "source": [
    "# Creating a dictionary to translate hex addresses into known tokens, DApps, and contracts\n",
    "address_dictionary = {\n",
    "    \"0xeBc6bD6aC2C9AD4adf4BA57E9F709b8B9CF03C40\": \"Attacker\",\n",
    "    \"0xdF8BEE861227FFC5EEA819C332A1C170Ae3dbACb\": \"Attacker's Contract\",\n",
    "    \"0xBb2b8038a1640196FbE3e38816F3e67Cba72D940\": \"Uniswap V2: WBTC-WETH LP\",\n",
    "    \"0xB4e16d0168e52d35CaCD2c6185b44281Ec28C9Dc\": \"Uniswap V2: USDC-WETH LP\",\n",
    "    \"0x0d4a11d5EEaaC28EC3F61d100daF4d40471f1852\": \"Uniswap V2: USDT-WETH LP\",\n",
    "    \"0xA478c2975Ab1Ea89e8196811F51A7B7Ade33eB11\": \"Uniswap V2: WETH-DAI LP\",\n",
    "    \"0x1E0447b19BB6EcFdAe1e4AE1694b0C3659614e4e\": \"dYdX: Solo Margin\",\n",
    "    \"0x0000000000000000000000000000000000000000\": \"Null\",\n",
    "    \"0x13db1CB418573f4c3A2ea36486F0E421bC0D2427\": \"Warp Vault LP\",\n",
    "    \"0xae465FD39B519602eE28F062037F7B9c41FDc8cF\": \"Warp Vault SC 1\",\n",
    "    \"0x6046c3Ab74e6cE761d218B9117d5c63200f4b406\": \"Warp Vault SC 2\",\n",
    "    \"0x397FF1542f962076d0BFE58eA045FfA2d347ACa0\": \"SushiSwap: USDC/ETH LP\",\n",
    "    \"0xC02aaA39b223FE8D0A0e5C4F27eAD9083C756Cc2\": \"Wrapped Ether\",\n",
    "    \"0x6B175474E89094C44Da98b954EedeAC495271d0F\": \"Dai Stablecoin\",\n",
    "    \"0xA0b86991c6218b36c1d19D4a2e9Eb0cE3606eB48\": \"USD Coin\"\n",
    "}\n",
    "\n",
    "# Converting dictionary keys to lowercase\n",
    "address_dictionary = {key.lower(): value for key, value in address_dictionary.items()}\n",
    "\n",
    "# Replacing addresses with corresponding public names from the dictionary\n",
    "token_transfers_df = token_transfers_df.replace(address_dictionary)\n",
    "\n",
    "token_transfers_df"
   ],
   "metadata": {
    "collapsed": false,
    "ExecuteTime": {
     "end_time": "2023-08-13T13:29:32.013178Z",
     "start_time": "2023-08-13T13:29:31.990282900Z"
    }
   }
  },
  {
   "cell_type": "markdown",
   "source": [
    "## Damage Model Formulation (Warp Finance)"
   ],
   "metadata": {
    "collapsed": false
   }
  },
  {
   "cell_type": "code",
   "execution_count": 60,
   "outputs": [
    {
     "name": "stdout",
     "output_type": "stream",
     "text": [
      "DAI borrowed from dYdX = 2900029.981390875\n",
      "\n",
      "Quantity of DAI in the Uniswap WETH-DAI liquidity pool prior to providing WETH-DAI liquidity = 58010988.36\n",
      "Quantity of WETH in the Uniswap WETH-DAI liquidity pool prior to providing WETH-DAI liquidity = 90409.01\n",
      "\n",
      "Quantity of DAI supplied to the Uniswap WETH-DAI liquidity pool = 2900029.981390875\n",
      "Quantity of WETH supplied to the Uniswap WETH-DAI liquidity pool = 4519.640968031723\n",
      "\n",
      "Quantity of WETH-DAI LP tokens in the pool prior to providing WETH-DAI liquidity = 1887324.8\n",
      "Quantity of WETH-DAI LP tokens minted upon providing WETH-DAI liquidity = 94349.34069140098\n",
      "Quantity of WETH-DAI LP tokens in the pool after providing WETH-DAI liquidity = 1981674.140691401\n",
      "\n",
      "Quantity of DAI in the Uniswap WETH-DAI liquidity pool after providing WETH-DAI liquidity = 60911018.34139088\n",
      "Quantity of WETH in the Uniswap WETH-DAI liquidity pool after providing WETH-DAI liquidity = 94928.65096803172\n"
     ]
    }
   ],
   "source": [
    "# The quantity of DAI borrowed from dYdX\n",
    "F0 = token_transfers_df.loc[(token_transfers_df[\"from\"] == \"dYdX: Solo Margin\") & (token_transfers_df[\"tokenSymbol\"] == \"DAI\"), \"tokenQuantity\"].iloc[0]\n",
    "print(f\"DAI borrowed from dYdX = {F0}\\n\")\n",
    "\n",
    "# The quantity of DAI in the pool before providing liquidity\n",
    "r0 = 58010988.36  # TODO: Use Uniswap TheGraph to find this\n",
    "print(f\"Quantity of DAI in the Uniswap WETH-DAI liquidity pool prior to providing WETH-DAI liquidity = {r0}\")\n",
    "\n",
    "# The quantity of WETH in the pool before providing liquidity\n",
    "r1 = 90409.01  # TODO: Use Uniswap TheGraph to find this\n",
    "print(f\"Quantity of WETH in the Uniswap WETH-DAI liquidity pool prior to providing WETH-DAI liquidity = {r1}\\n\")\n",
    "\n",
    "# The quantity of DAI provided to the Uniswap WETH-DAI pool\n",
    "s0 = F0\n",
    "print(f\"Quantity of DAI supplied to the Uniswap WETH-DAI liquidity pool = {s0}\")\n",
    "\n",
    "# The quantity amount of WETH provided to the WETH-DAI pool\n",
    "s1 = (r1 / r0) * s0\n",
    "print(f\"Quantity of WETH supplied to the Uniswap WETH-DAI liquidity pool = {s1}\\n\")\n",
    "\n",
    "# The quantity of WETH-DAI LP tokens before providing liquidity\n",
    "lp = 1887324.80  # TODO: Use Uniswap TheGraph to find this\n",
    "print(f\"Quantity of WETH-DAI LP tokens in the pool prior to providing WETH-DAI liquidity = {lp}\")\n",
    "\n",
    "# The quantity of WETH-DAI LP tokens minted upon providing liquidity\n",
    "D = lp * (F0 / r0)\n",
    "print(f\"Quantity of WETH-DAI LP tokens minted upon providing WETH-DAI liquidity = {D}\")\n",
    "\n",
    "# The quantity of WETH-DAI LP tokens after providing liquidity\n",
    "LP = lp + D\n",
    "print(f\"Quantity of WETH-DAI LP tokens in the pool after providing WETH-DAI liquidity = {LP}\\n\")\n",
    "\n",
    "# The quantity of DAI in the pool after providing liquidity\n",
    "R0 = r0 + s0\n",
    "print(f\"Quantity of DAI in the Uniswap WETH-DAI liquidity pool after providing WETH-DAI liquidity = {R0}\")\n",
    "\n",
    "# The quantity of DAI in the pool after providing liquidity\n",
    "R1 = r1 + s1\n",
    "print(f\"Quantity of WETH in the Uniswap WETH-DAI liquidity pool after providing WETH-DAI liquidity = {R1}\")"
   ],
   "metadata": {
    "collapsed": false,
    "ExecuteTime": {
     "end_time": "2023-08-13T14:01:17.913181800Z",
     "start_time": "2023-08-13T14:01:17.906039100Z"
    }
   }
  },
  {
   "cell_type": "markdown",
   "source": [
    "## Damage Model Validation (Warp Finance)"
   ],
   "metadata": {
    "collapsed": false
   }
  },
  {
   "cell_type": "code",
   "execution_count": null,
   "outputs": [],
   "source": [],
   "metadata": {
    "collapsed": false
   }
  },
  {
   "cell_type": "markdown",
   "source": [
    "## Damage Model Formulation (Fair Reserve)"
   ],
   "metadata": {
    "collapsed": false
   }
  },
  {
   "cell_type": "code",
   "execution_count": null,
   "outputs": [],
   "source": [],
   "metadata": {
    "collapsed": false
   }
  },
  {
   "cell_type": "markdown",
   "source": [
    "## Mitigation Test"
   ],
   "metadata": {
    "collapsed": false
   }
  },
  {
   "cell_type": "code",
   "execution_count": null,
   "outputs": [],
   "source": [],
   "metadata": {
    "collapsed": false
   }
  },
  {
   "cell_type": "markdown",
   "source": [
    "## Internal Parameter Adjustment"
   ],
   "metadata": {
    "collapsed": false
   }
  },
  {
   "cell_type": "code",
   "execution_count": null,
   "outputs": [],
   "source": [],
   "metadata": {
    "collapsed": false
   }
  },
  {
   "cell_type": "markdown",
   "source": [
    "## External Parameter Adjustment"
   ],
   "metadata": {
    "collapsed": false
   }
  },
  {
   "cell_type": "code",
   "execution_count": null,
   "outputs": [],
   "source": [],
   "metadata": {
    "collapsed": false
   }
  }
 ],
 "metadata": {
  "kernelspec": {
   "display_name": "Python 3",
   "language": "python",
   "name": "python3"
  },
  "language_info": {
   "codemirror_mode": {
    "name": "ipython",
    "version": 2
   },
   "file_extension": ".py",
   "mimetype": "text/x-python",
   "name": "python",
   "nbconvert_exporter": "python",
   "pygments_lexer": "ipython2",
   "version": "2.7.6"
  }
 },
 "nbformat": 4,
 "nbformat_minor": 0
}
