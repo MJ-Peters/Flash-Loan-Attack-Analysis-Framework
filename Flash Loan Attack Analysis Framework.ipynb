{
 "cells": [
  {
   "cell_type": "markdown",
   "source": [
    "# The Flash Loan Attack Analysis (FAA) Framework"
   ],
   "metadata": {
    "collapsed": false
   }
  },
  {
   "cell_type": "markdown",
   "source": [
    "## Importing Blockchain Data"
   ],
   "metadata": {
    "collapsed": false
   }
  },
  {
   "cell_type": "code",
   "execution_count": 10,
   "outputs": [],
   "source": [
    "import pandas as pd\n",
    "from datetime import datetime"
   ],
   "metadata": {
    "collapsed": false,
    "ExecuteTime": {
     "end_time": "2023-08-11T10:08:16.351055400Z",
     "start_time": "2023-08-11T10:08:16.326498800Z"
    }
   }
  },
  {
   "cell_type": "markdown",
   "source": [
    "### Overall Transaction"
   ],
   "metadata": {
    "collapsed": false
   }
  },
  {
   "cell_type": "code",
   "execution_count": 11,
   "outputs": [
    {
     "data": {
      "text/plain": "   blockNumber   timeStamp                                               hash  \\\n0     11473330  1608243881  0x8bb8dc5c7c830bac85fa48acad2505e9300a91c3ff23...   \n\n   nonce                                          blockHash  transactionIndex  \\\n0      4  0xace8f027885d93d734e046661df5e51d96d21d78d42c...                65   \n\n                                         from  \\\n0  0xebc6bd6ac2c9ad4adf4ba57e9f709b8b9cf03c40   \n\n                                           to  value      gas     gasPrice  \\\n0  0xdf8bee861227ffc5eea819c332a1c170ae3dbacb      0  3656990  89000000000   \n\n   isError  txreceipt_status       input  contractAddress  cumulativeGasUsed  \\\n0        0                 1  0xb8e7c2fa              NaN            6231822   \n\n   gasUsed  confirmations    methodId  functionName  \n0  2339018        6412857  0xb8e7c2fa           NaN  ",
      "text/html": "<div>\n<style scoped>\n    .dataframe tbody tr th:only-of-type {\n        vertical-align: middle;\n    }\n\n    .dataframe tbody tr th {\n        vertical-align: top;\n    }\n\n    .dataframe thead th {\n        text-align: right;\n    }\n</style>\n<table border=\"1\" class=\"dataframe\">\n  <thead>\n    <tr style=\"text-align: right;\">\n      <th></th>\n      <th>blockNumber</th>\n      <th>timeStamp</th>\n      <th>hash</th>\n      <th>nonce</th>\n      <th>blockHash</th>\n      <th>transactionIndex</th>\n      <th>from</th>\n      <th>to</th>\n      <th>value</th>\n      <th>gas</th>\n      <th>gasPrice</th>\n      <th>isError</th>\n      <th>txreceipt_status</th>\n      <th>input</th>\n      <th>contractAddress</th>\n      <th>cumulativeGasUsed</th>\n      <th>gasUsed</th>\n      <th>confirmations</th>\n      <th>methodId</th>\n      <th>functionName</th>\n    </tr>\n  </thead>\n  <tbody>\n    <tr>\n      <th>0</th>\n      <td>11473330</td>\n      <td>1608243881</td>\n      <td>0x8bb8dc5c7c830bac85fa48acad2505e9300a91c3ff23...</td>\n      <td>4</td>\n      <td>0xace8f027885d93d734e046661df5e51d96d21d78d42c...</td>\n      <td>65</td>\n      <td>0xebc6bd6ac2c9ad4adf4ba57e9f709b8b9cf03c40</td>\n      <td>0xdf8bee861227ffc5eea819c332a1c170ae3dbacb</td>\n      <td>0</td>\n      <td>3656990</td>\n      <td>89000000000</td>\n      <td>0</td>\n      <td>1</td>\n      <td>0xb8e7c2fa</td>\n      <td>NaN</td>\n      <td>6231822</td>\n      <td>2339018</td>\n      <td>6412857</td>\n      <td>0xb8e7c2fa</td>\n      <td>NaN</td>\n    </tr>\n  </tbody>\n</table>\n</div>"
     },
     "execution_count": 11,
     "metadata": {},
     "output_type": "execute_result"
    }
   ],
   "source": [
    "transaction_df = pd.read_csv(\"txlist_data.csv\")\n",
    "\n",
    "transaction_df"
   ],
   "metadata": {
    "collapsed": false,
    "ExecuteTime": {
     "end_time": "2023-08-11T10:08:18.081332400Z",
     "start_time": "2023-08-11T10:08:18.060328900Z"
    }
   }
  },
  {
   "cell_type": "code",
   "execution_count": 14,
   "outputs": [
    {
     "name": "stdout",
     "output_type": "stream",
     "text": [
      "The date of the warp finance flash loan attack was the 17th of December 2020\n",
      "The timestamp of 1608243881 converts to datetime: 2020-12-17 22:24:41 UTC (GMT)\n"
     ]
    }
   ],
   "source": [
    "# We know from inspecting the etherscan website that this is the correct transaction, but we will still check the timestamp matches the date of the warp finance attack\n",
    "print(\"The date of the warp finance flash loan attack was the 17th of December 2020\")\n",
    "timestamp = transaction_df[\"timeStamp\"][0]\n",
    "datetime_obj = datetime.fromtimestamp(timestamp)\n",
    "print(f\"The timestamp of {timestamp} converts to datetime: {datetime_obj} UTC (GMT)\")"
   ],
   "metadata": {
    "collapsed": false,
    "ExecuteTime": {
     "end_time": "2023-08-11T10:12:25.403809300Z",
     "start_time": "2023-08-11T10:12:25.389264800Z"
    }
   }
  },
  {
   "cell_type": "markdown",
   "source": [
    "### Internal Transactions"
   ],
   "metadata": {
    "collapsed": false
   }
  },
  {
   "cell_type": "code",
   "execution_count": 9,
   "outputs": [
    {
     "data": {
      "text/plain": "   blockNumber   timeStamp                                               hash  \\\n0     11473330  1608243881  0x8bb8dc5c7c830bac85fa48acad2505e9300a91c3ff23...   \n\n                                         from  \\\n0  0xc02aaa39b223fe8d0a0e5c4f27ead9083c756cc2   \n\n                                           to                   value  \\\n0  0xdf8bee861227ffc5eea819c332a1c170ae3dbacb  1462819418141686758539   \n\n   contractAddress  input  type   gas  gasUsed           traceId  isError  \\\n0              NaN    NaN  call  2300       41  2_1_2_1_2_1_31_0        0   \n\n   errCode  \n0      NaN  ",
      "text/html": "<div>\n<style scoped>\n    .dataframe tbody tr th:only-of-type {\n        vertical-align: middle;\n    }\n\n    .dataframe tbody tr th {\n        vertical-align: top;\n    }\n\n    .dataframe thead th {\n        text-align: right;\n    }\n</style>\n<table border=\"1\" class=\"dataframe\">\n  <thead>\n    <tr style=\"text-align: right;\">\n      <th></th>\n      <th>blockNumber</th>\n      <th>timeStamp</th>\n      <th>hash</th>\n      <th>from</th>\n      <th>to</th>\n      <th>value</th>\n      <th>contractAddress</th>\n      <th>input</th>\n      <th>type</th>\n      <th>gas</th>\n      <th>gasUsed</th>\n      <th>traceId</th>\n      <th>isError</th>\n      <th>errCode</th>\n    </tr>\n  </thead>\n  <tbody>\n    <tr>\n      <th>0</th>\n      <td>11473330</td>\n      <td>1608243881</td>\n      <td>0x8bb8dc5c7c830bac85fa48acad2505e9300a91c3ff23...</td>\n      <td>0xc02aaa39b223fe8d0a0e5c4f27ead9083c756cc2</td>\n      <td>0xdf8bee861227ffc5eea819c332a1c170ae3dbacb</td>\n      <td>1462819418141686758539</td>\n      <td>NaN</td>\n      <td>NaN</td>\n      <td>call</td>\n      <td>2300</td>\n      <td>41</td>\n      <td>2_1_2_1_2_1_31_0</td>\n      <td>0</td>\n      <td>NaN</td>\n    </tr>\n  </tbody>\n</table>\n</div>"
     },
     "execution_count": 9,
     "metadata": {},
     "output_type": "execute_result"
    }
   ],
   "source": [
    "internal_transactions_df = pd.read_csv(\"txlistinternal_data.csv\")\n",
    "\n",
    "internal_transactions_df"
   ],
   "metadata": {
    "collapsed": false,
    "ExecuteTime": {
     "end_time": "2023-08-11T09:56:32.345661800Z",
     "start_time": "2023-08-11T09:56:32.321505Z"
    }
   }
  },
  {
   "cell_type": "markdown",
   "source": [
    "### Token Transfers"
   ],
   "metadata": {
    "collapsed": false
   }
  },
  {
   "cell_type": "code",
   "execution_count": 48,
   "outputs": [
    {
     "data": {
      "text/plain": "    blockNumber   timeStamp  \\\n0      11473330  1608243881   \n1      11473330  1608243881   \n2      11473330  1608243881   \n3      11473330  1608243881   \n4      11473330  1608243881   \n5      11473330  1608243881   \n6      11473330  1608243881   \n7      11473330  1608243881   \n8      11473330  1608243881   \n9      11473330  1608243881   \n10     11473330  1608243881   \n11     11473330  1608243881   \n12     11473330  1608243881   \n13     11473330  1608243881   \n14     11473330  1608243881   \n15     11473330  1608243881   \n16     11473330  1608243881   \n17     11473330  1608243881   \n18     11473330  1608243881   \n19     11473330  1608243881   \n20     11473330  1608243881   \n21     11473330  1608243881   \n\n                                                 hash  nonce  \\\n0   0x8bb8dc5c7c830bac85fa48acad2505e9300a91c3ff23...      4   \n1   0x8bb8dc5c7c830bac85fa48acad2505e9300a91c3ff23...      4   \n2   0x8bb8dc5c7c830bac85fa48acad2505e9300a91c3ff23...      4   \n3   0x8bb8dc5c7c830bac85fa48acad2505e9300a91c3ff23...      4   \n4   0x8bb8dc5c7c830bac85fa48acad2505e9300a91c3ff23...      4   \n5   0x8bb8dc5c7c830bac85fa48acad2505e9300a91c3ff23...      4   \n6   0x8bb8dc5c7c830bac85fa48acad2505e9300a91c3ff23...      4   \n7   0x8bb8dc5c7c830bac85fa48acad2505e9300a91c3ff23...      4   \n8   0x8bb8dc5c7c830bac85fa48acad2505e9300a91c3ff23...      4   \n9   0x8bb8dc5c7c830bac85fa48acad2505e9300a91c3ff23...      4   \n10  0x8bb8dc5c7c830bac85fa48acad2505e9300a91c3ff23...      4   \n11  0x8bb8dc5c7c830bac85fa48acad2505e9300a91c3ff23...      4   \n12  0x8bb8dc5c7c830bac85fa48acad2505e9300a91c3ff23...      4   \n13  0x8bb8dc5c7c830bac85fa48acad2505e9300a91c3ff23...      4   \n14  0x8bb8dc5c7c830bac85fa48acad2505e9300a91c3ff23...      4   \n15  0x8bb8dc5c7c830bac85fa48acad2505e9300a91c3ff23...      4   \n16  0x8bb8dc5c7c830bac85fa48acad2505e9300a91c3ff23...      4   \n17  0x8bb8dc5c7c830bac85fa48acad2505e9300a91c3ff23...      4   \n18  0x8bb8dc5c7c830bac85fa48acad2505e9300a91c3ff23...      4   \n19  0x8bb8dc5c7c830bac85fa48acad2505e9300a91c3ff23...      4   \n20  0x8bb8dc5c7c830bac85fa48acad2505e9300a91c3ff23...      4   \n21  0x8bb8dc5c7c830bac85fa48acad2505e9300a91c3ff23...      4   \n\n                                            blockHash  \\\n0   0xace8f027885d93d734e046661df5e51d96d21d78d42c...   \n1   0xace8f027885d93d734e046661df5e51d96d21d78d42c...   \n2   0xace8f027885d93d734e046661df5e51d96d21d78d42c...   \n3   0xace8f027885d93d734e046661df5e51d96d21d78d42c...   \n4   0xace8f027885d93d734e046661df5e51d96d21d78d42c...   \n5   0xace8f027885d93d734e046661df5e51d96d21d78d42c...   \n6   0xace8f027885d93d734e046661df5e51d96d21d78d42c...   \n7   0xace8f027885d93d734e046661df5e51d96d21d78d42c...   \n8   0xace8f027885d93d734e046661df5e51d96d21d78d42c...   \n9   0xace8f027885d93d734e046661df5e51d96d21d78d42c...   \n10  0xace8f027885d93d734e046661df5e51d96d21d78d42c...   \n11  0xace8f027885d93d734e046661df5e51d96d21d78d42c...   \n12  0xace8f027885d93d734e046661df5e51d96d21d78d42c...   \n13  0xace8f027885d93d734e046661df5e51d96d21d78d42c...   \n14  0xace8f027885d93d734e046661df5e51d96d21d78d42c...   \n15  0xace8f027885d93d734e046661df5e51d96d21d78d42c...   \n16  0xace8f027885d93d734e046661df5e51d96d21d78d42c...   \n17  0xace8f027885d93d734e046661df5e51d96d21d78d42c...   \n18  0xace8f027885d93d734e046661df5e51d96d21d78d42c...   \n19  0xace8f027885d93d734e046661df5e51d96d21d78d42c...   \n20  0xace8f027885d93d734e046661df5e51d96d21d78d42c...   \n21  0xace8f027885d93d734e046661df5e51d96d21d78d42c...   \n\n                                          from  \\\n0   0xbb2b8038a1640196fbe3e38816f3e67cba72d940   \n1   0xb4e16d0168e52d35cacd2c6185b44281ec28c9dc   \n2   0x0d4a11d5eeaac28ec3f61d100daf4d40471f1852   \n3   0x1e0447b19bb6ecfdae1e4ae1694b0c3659614e4e   \n4   0x1e0447b19bb6ecfdae1e4ae1694b0c3659614e4e   \n5   0xdf8bee861227ffc5eea819c332a1c170ae3dbacb   \n6   0xdf8bee861227ffc5eea819c332a1c170ae3dbacb   \n7   0x0000000000000000000000000000000000000000   \n8   0xdf8bee861227ffc5eea819c332a1c170ae3dbacb   \n9   0xdf8bee861227ffc5eea819c332a1c170ae3dbacb   \n10  0xa478c2975ab1ea89e8196811f51a7b7ade33eb11   \n11  0xae465fd39b519602ee28f062037f7b9c41fdc8cf   \n12  0x6046c3ab74e6ce761d218b9117d5c63200f4b406   \n13  0xdf8bee861227ffc5eea819c332a1c170ae3dbacb   \n14  0xa478c2975ab1ea89e8196811f51a7b7ade33eb11   \n15  0xdf8bee861227ffc5eea819c332a1c170ae3dbacb   \n16  0xdf8bee861227ffc5eea819c332a1c170ae3dbacb   \n17  0xdf8bee861227ffc5eea819c332a1c170ae3dbacb   \n18  0x397ff1542f962076d0bfe58ea045ffa2d347aca0   \n19  0xdf8bee861227ffc5eea819c332a1c170ae3dbacb   \n20  0xdf8bee861227ffc5eea819c332a1c170ae3dbacb   \n21  0xdf8bee861227ffc5eea819c332a1c170ae3dbacb   \n\n                               contractAddress  \\\n0   0xc02aaa39b223fe8d0a0e5c4f27ead9083c756cc2   \n1   0xc02aaa39b223fe8d0a0e5c4f27ead9083c756cc2   \n2   0xc02aaa39b223fe8d0a0e5c4f27ead9083c756cc2   \n3   0x6b175474e89094c44da98b954eedeac495271d0f   \n4   0xc02aaa39b223fe8d0a0e5c4f27ead9083c756cc2   \n5   0x6b175474e89094c44da98b954eedeac495271d0f   \n6   0xc02aaa39b223fe8d0a0e5c4f27ead9083c756cc2   \n7   0xa478c2975ab1ea89e8196811f51a7b7ade33eb11   \n8   0xa478c2975ab1ea89e8196811f51a7b7ade33eb11   \n9   0xc02aaa39b223fe8d0a0e5c4f27ead9083c756cc2   \n10  0x6b175474e89094c44da98b954eedeac495271d0f   \n11  0xa0b86991c6218b36c1d19d4a2e9eb0ce3606eb48   \n12  0x6b175474e89094c44da98b954eedeac495271d0f   \n13  0x6b175474e89094c44da98b954eedeac495271d0f   \n14  0xc02aaa39b223fe8d0a0e5c4f27ead9083c756cc2   \n15  0x6b175474e89094c44da98b954eedeac495271d0f   \n16  0xc02aaa39b223fe8d0a0e5c4f27ead9083c756cc2   \n17  0xa0b86991c6218b36c1d19d4a2e9eb0ce3606eb48   \n18  0xc02aaa39b223fe8d0a0e5c4f27ead9083c756cc2   \n19  0xc02aaa39b223fe8d0a0e5c4f27ead9083c756cc2   \n20  0xc02aaa39b223fe8d0a0e5c4f27ead9083c756cc2   \n21  0xc02aaa39b223fe8d0a0e5c4f27ead9083c756cc2   \n\n                                            to                       value  \\\n0   0xdf8bee861227ffc5eea819c332a1c170ae3dbacb     90409013949210977199603   \n1   0xdf8bee861227ffc5eea819c332a1c170ae3dbacb     82798403238691593953288   \n2   0xdf8bee861227ffc5eea819c332a1c170ae3dbacb     96092504596377425124746   \n3   0xdf8bee861227ffc5eea819c332a1c170ae3dbacb   2900029981390875168951633   \n4   0xdf8bee861227ffc5eea819c332a1c170ae3dbacb     76436763597706555986902   \n5   0xa478c2975ab1ea89e8196811f51a7b7ade33eb11   2900029981390875168951633   \n6   0xa478c2975ab1ea89e8196811f51a7b7ade33eb11      4519641165250735182062   \n7   0xdf8bee861227ffc5eea819c332a1c170ae3dbacb     94349340516285530671934   \n8   0x13db1cb418573f4c3a2ea36486f0e421bc0d2427     94349340516285530671934   \n9   0xa478c2975ab1ea89e8196811f51a7b7ade33eb11    341217044216735817082477   \n10  0xdf8bee861227ffc5eea819c332a1c170ae3dbacb  47622330544853730446361677   \n11  0xdf8bee861227ffc5eea819c332a1c170ae3dbacb               3917983816717   \n12  0xdf8bee861227ffc5eea819c332a1c170ae3dbacb   3862646608579660094744528   \n13  0xa478c2975ab1ea89e8196811f51a7b7ade33eb11  48584947172042515372154570   \n14  0xdf8bee861227ffc5eea819c332a1c170ae3dbacb    342252890746324624810982   \n15  0x1e0447b19bb6ecfdae1e4ae1694b0c3659614e4e   2900029981390875168951635   \n16  0x1e0447b19bb6ecfdae1e4ae1694b0c3659614e4e     76436763597706555986904   \n17  0x397ff1542f962076d0bfe58ea045ffa2d347aca0               3917983816717   \n18  0xdf8bee861227ffc5eea819c332a1c170ae3dbacb      5757513819156454200929   \n19  0xbb2b8038a1640196fbe3e38816f3e67cba72d940     90681240991058610131201   \n20  0xb4e16d0168e52d35cacd2c6185b44281ec28c9dc     83047798448407668735147   \n21  0x0d4a11d5eeaac28ec3f61d100daf4d40471f1852     96381782110166557400120   \n\n         tokenName tokenSymbol  tokenDecimal  transactionIndex      gas  \\\n0    Wrapped Ether        WETH            18                65  3656990   \n1    Wrapped Ether        WETH            18                65  3656990   \n2    Wrapped Ether        WETH            18                65  3656990   \n3   Dai Stablecoin         DAI            18                65  3656990   \n4    Wrapped Ether        WETH            18                65  3656990   \n5   Dai Stablecoin         DAI            18                65  3656990   \n6    Wrapped Ether        WETH            18                65  3656990   \n7       Uniswap V2      UNI-V2            18                65  3656990   \n8       Uniswap V2      UNI-V2            18                65  3656990   \n9    Wrapped Ether        WETH            18                65  3656990   \n10  Dai Stablecoin         DAI            18                65  3656990   \n11        USD Coin        USDC             6                65  3656990   \n12  Dai Stablecoin         DAI            18                65  3656990   \n13  Dai Stablecoin         DAI            18                65  3656990   \n14   Wrapped Ether        WETH            18                65  3656990   \n15  Dai Stablecoin         DAI            18                65  3656990   \n16   Wrapped Ether        WETH            18                65  3656990   \n17        USD Coin        USDC             6                65  3656990   \n18   Wrapped Ether        WETH            18                65  3656990   \n19   Wrapped Ether        WETH            18                65  3656990   \n20   Wrapped Ether        WETH            18                65  3656990   \n21   Wrapped Ether        WETH            18                65  3656990   \n\n       gasPrice  gasUsed  cumulativeGasUsed       input  confirmations  \n0   89000000000  2339018            6231822  deprecated        6412857  \n1   89000000000  2339018            6231822  deprecated        6412857  \n2   89000000000  2339018            6231822  deprecated        6412857  \n3   89000000000  2339018            6231822  deprecated        6412857  \n4   89000000000  2339018            6231822  deprecated        6412857  \n5   89000000000  2339018            6231822  deprecated        6412857  \n6   89000000000  2339018            6231822  deprecated        6412857  \n7   89000000000  2339018            6231822  deprecated        6412857  \n8   89000000000  2339018            6231822  deprecated        6412857  \n9   89000000000  2339018            6231822  deprecated        6412857  \n10  89000000000  2339018            6231822  deprecated        6412857  \n11  89000000000  2339018            6231822  deprecated        6412857  \n12  89000000000  2339018            6231822  deprecated        6412857  \n13  89000000000  2339018            6231822  deprecated        6412857  \n14  89000000000  2339018            6231822  deprecated        6412857  \n15  89000000000  2339018            6231822  deprecated        6412857  \n16  89000000000  2339018            6231822  deprecated        6412857  \n17  89000000000  2339018            6231822  deprecated        6412857  \n18  89000000000  2339018            6231822  deprecated        6412857  \n19  89000000000  2339018            6231822  deprecated        6412857  \n20  89000000000  2339018            6231822  deprecated        6412857  \n21  89000000000  2339018            6231822  deprecated        6412857  ",
      "text/html": "<div>\n<style scoped>\n    .dataframe tbody tr th:only-of-type {\n        vertical-align: middle;\n    }\n\n    .dataframe tbody tr th {\n        vertical-align: top;\n    }\n\n    .dataframe thead th {\n        text-align: right;\n    }\n</style>\n<table border=\"1\" class=\"dataframe\">\n  <thead>\n    <tr style=\"text-align: right;\">\n      <th></th>\n      <th>blockNumber</th>\n      <th>timeStamp</th>\n      <th>hash</th>\n      <th>nonce</th>\n      <th>blockHash</th>\n      <th>from</th>\n      <th>contractAddress</th>\n      <th>to</th>\n      <th>value</th>\n      <th>tokenName</th>\n      <th>tokenSymbol</th>\n      <th>tokenDecimal</th>\n      <th>transactionIndex</th>\n      <th>gas</th>\n      <th>gasPrice</th>\n      <th>gasUsed</th>\n      <th>cumulativeGasUsed</th>\n      <th>input</th>\n      <th>confirmations</th>\n    </tr>\n  </thead>\n  <tbody>\n    <tr>\n      <th>0</th>\n      <td>11473330</td>\n      <td>1608243881</td>\n      <td>0x8bb8dc5c7c830bac85fa48acad2505e9300a91c3ff23...</td>\n      <td>4</td>\n      <td>0xace8f027885d93d734e046661df5e51d96d21d78d42c...</td>\n      <td>0xbb2b8038a1640196fbe3e38816f3e67cba72d940</td>\n      <td>0xc02aaa39b223fe8d0a0e5c4f27ead9083c756cc2</td>\n      <td>0xdf8bee861227ffc5eea819c332a1c170ae3dbacb</td>\n      <td>90409013949210977199603</td>\n      <td>Wrapped Ether</td>\n      <td>WETH</td>\n      <td>18</td>\n      <td>65</td>\n      <td>3656990</td>\n      <td>89000000000</td>\n      <td>2339018</td>\n      <td>6231822</td>\n      <td>deprecated</td>\n      <td>6412857</td>\n    </tr>\n    <tr>\n      <th>1</th>\n      <td>11473330</td>\n      <td>1608243881</td>\n      <td>0x8bb8dc5c7c830bac85fa48acad2505e9300a91c3ff23...</td>\n      <td>4</td>\n      <td>0xace8f027885d93d734e046661df5e51d96d21d78d42c...</td>\n      <td>0xb4e16d0168e52d35cacd2c6185b44281ec28c9dc</td>\n      <td>0xc02aaa39b223fe8d0a0e5c4f27ead9083c756cc2</td>\n      <td>0xdf8bee861227ffc5eea819c332a1c170ae3dbacb</td>\n      <td>82798403238691593953288</td>\n      <td>Wrapped Ether</td>\n      <td>WETH</td>\n      <td>18</td>\n      <td>65</td>\n      <td>3656990</td>\n      <td>89000000000</td>\n      <td>2339018</td>\n      <td>6231822</td>\n      <td>deprecated</td>\n      <td>6412857</td>\n    </tr>\n    <tr>\n      <th>2</th>\n      <td>11473330</td>\n      <td>1608243881</td>\n      <td>0x8bb8dc5c7c830bac85fa48acad2505e9300a91c3ff23...</td>\n      <td>4</td>\n      <td>0xace8f027885d93d734e046661df5e51d96d21d78d42c...</td>\n      <td>0x0d4a11d5eeaac28ec3f61d100daf4d40471f1852</td>\n      <td>0xc02aaa39b223fe8d0a0e5c4f27ead9083c756cc2</td>\n      <td>0xdf8bee861227ffc5eea819c332a1c170ae3dbacb</td>\n      <td>96092504596377425124746</td>\n      <td>Wrapped Ether</td>\n      <td>WETH</td>\n      <td>18</td>\n      <td>65</td>\n      <td>3656990</td>\n      <td>89000000000</td>\n      <td>2339018</td>\n      <td>6231822</td>\n      <td>deprecated</td>\n      <td>6412857</td>\n    </tr>\n    <tr>\n      <th>3</th>\n      <td>11473330</td>\n      <td>1608243881</td>\n      <td>0x8bb8dc5c7c830bac85fa48acad2505e9300a91c3ff23...</td>\n      <td>4</td>\n      <td>0xace8f027885d93d734e046661df5e51d96d21d78d42c...</td>\n      <td>0x1e0447b19bb6ecfdae1e4ae1694b0c3659614e4e</td>\n      <td>0x6b175474e89094c44da98b954eedeac495271d0f</td>\n      <td>0xdf8bee861227ffc5eea819c332a1c170ae3dbacb</td>\n      <td>2900029981390875168951633</td>\n      <td>Dai Stablecoin</td>\n      <td>DAI</td>\n      <td>18</td>\n      <td>65</td>\n      <td>3656990</td>\n      <td>89000000000</td>\n      <td>2339018</td>\n      <td>6231822</td>\n      <td>deprecated</td>\n      <td>6412857</td>\n    </tr>\n    <tr>\n      <th>4</th>\n      <td>11473330</td>\n      <td>1608243881</td>\n      <td>0x8bb8dc5c7c830bac85fa48acad2505e9300a91c3ff23...</td>\n      <td>4</td>\n      <td>0xace8f027885d93d734e046661df5e51d96d21d78d42c...</td>\n      <td>0x1e0447b19bb6ecfdae1e4ae1694b0c3659614e4e</td>\n      <td>0xc02aaa39b223fe8d0a0e5c4f27ead9083c756cc2</td>\n      <td>0xdf8bee861227ffc5eea819c332a1c170ae3dbacb</td>\n      <td>76436763597706555986902</td>\n      <td>Wrapped Ether</td>\n      <td>WETH</td>\n      <td>18</td>\n      <td>65</td>\n      <td>3656990</td>\n      <td>89000000000</td>\n      <td>2339018</td>\n      <td>6231822</td>\n      <td>deprecated</td>\n      <td>6412857</td>\n    </tr>\n    <tr>\n      <th>5</th>\n      <td>11473330</td>\n      <td>1608243881</td>\n      <td>0x8bb8dc5c7c830bac85fa48acad2505e9300a91c3ff23...</td>\n      <td>4</td>\n      <td>0xace8f027885d93d734e046661df5e51d96d21d78d42c...</td>\n      <td>0xdf8bee861227ffc5eea819c332a1c170ae3dbacb</td>\n      <td>0x6b175474e89094c44da98b954eedeac495271d0f</td>\n      <td>0xa478c2975ab1ea89e8196811f51a7b7ade33eb11</td>\n      <td>2900029981390875168951633</td>\n      <td>Dai Stablecoin</td>\n      <td>DAI</td>\n      <td>18</td>\n      <td>65</td>\n      <td>3656990</td>\n      <td>89000000000</td>\n      <td>2339018</td>\n      <td>6231822</td>\n      <td>deprecated</td>\n      <td>6412857</td>\n    </tr>\n    <tr>\n      <th>6</th>\n      <td>11473330</td>\n      <td>1608243881</td>\n      <td>0x8bb8dc5c7c830bac85fa48acad2505e9300a91c3ff23...</td>\n      <td>4</td>\n      <td>0xace8f027885d93d734e046661df5e51d96d21d78d42c...</td>\n      <td>0xdf8bee861227ffc5eea819c332a1c170ae3dbacb</td>\n      <td>0xc02aaa39b223fe8d0a0e5c4f27ead9083c756cc2</td>\n      <td>0xa478c2975ab1ea89e8196811f51a7b7ade33eb11</td>\n      <td>4519641165250735182062</td>\n      <td>Wrapped Ether</td>\n      <td>WETH</td>\n      <td>18</td>\n      <td>65</td>\n      <td>3656990</td>\n      <td>89000000000</td>\n      <td>2339018</td>\n      <td>6231822</td>\n      <td>deprecated</td>\n      <td>6412857</td>\n    </tr>\n    <tr>\n      <th>7</th>\n      <td>11473330</td>\n      <td>1608243881</td>\n      <td>0x8bb8dc5c7c830bac85fa48acad2505e9300a91c3ff23...</td>\n      <td>4</td>\n      <td>0xace8f027885d93d734e046661df5e51d96d21d78d42c...</td>\n      <td>0x0000000000000000000000000000000000000000</td>\n      <td>0xa478c2975ab1ea89e8196811f51a7b7ade33eb11</td>\n      <td>0xdf8bee861227ffc5eea819c332a1c170ae3dbacb</td>\n      <td>94349340516285530671934</td>\n      <td>Uniswap V2</td>\n      <td>UNI-V2</td>\n      <td>18</td>\n      <td>65</td>\n      <td>3656990</td>\n      <td>89000000000</td>\n      <td>2339018</td>\n      <td>6231822</td>\n      <td>deprecated</td>\n      <td>6412857</td>\n    </tr>\n    <tr>\n      <th>8</th>\n      <td>11473330</td>\n      <td>1608243881</td>\n      <td>0x8bb8dc5c7c830bac85fa48acad2505e9300a91c3ff23...</td>\n      <td>4</td>\n      <td>0xace8f027885d93d734e046661df5e51d96d21d78d42c...</td>\n      <td>0xdf8bee861227ffc5eea819c332a1c170ae3dbacb</td>\n      <td>0xa478c2975ab1ea89e8196811f51a7b7ade33eb11</td>\n      <td>0x13db1cb418573f4c3a2ea36486f0e421bc0d2427</td>\n      <td>94349340516285530671934</td>\n      <td>Uniswap V2</td>\n      <td>UNI-V2</td>\n      <td>18</td>\n      <td>65</td>\n      <td>3656990</td>\n      <td>89000000000</td>\n      <td>2339018</td>\n      <td>6231822</td>\n      <td>deprecated</td>\n      <td>6412857</td>\n    </tr>\n    <tr>\n      <th>9</th>\n      <td>11473330</td>\n      <td>1608243881</td>\n      <td>0x8bb8dc5c7c830bac85fa48acad2505e9300a91c3ff23...</td>\n      <td>4</td>\n      <td>0xace8f027885d93d734e046661df5e51d96d21d78d42c...</td>\n      <td>0xdf8bee861227ffc5eea819c332a1c170ae3dbacb</td>\n      <td>0xc02aaa39b223fe8d0a0e5c4f27ead9083c756cc2</td>\n      <td>0xa478c2975ab1ea89e8196811f51a7b7ade33eb11</td>\n      <td>341217044216735817082477</td>\n      <td>Wrapped Ether</td>\n      <td>WETH</td>\n      <td>18</td>\n      <td>65</td>\n      <td>3656990</td>\n      <td>89000000000</td>\n      <td>2339018</td>\n      <td>6231822</td>\n      <td>deprecated</td>\n      <td>6412857</td>\n    </tr>\n    <tr>\n      <th>10</th>\n      <td>11473330</td>\n      <td>1608243881</td>\n      <td>0x8bb8dc5c7c830bac85fa48acad2505e9300a91c3ff23...</td>\n      <td>4</td>\n      <td>0xace8f027885d93d734e046661df5e51d96d21d78d42c...</td>\n      <td>0xa478c2975ab1ea89e8196811f51a7b7ade33eb11</td>\n      <td>0x6b175474e89094c44da98b954eedeac495271d0f</td>\n      <td>0xdf8bee861227ffc5eea819c332a1c170ae3dbacb</td>\n      <td>47622330544853730446361677</td>\n      <td>Dai Stablecoin</td>\n      <td>DAI</td>\n      <td>18</td>\n      <td>65</td>\n      <td>3656990</td>\n      <td>89000000000</td>\n      <td>2339018</td>\n      <td>6231822</td>\n      <td>deprecated</td>\n      <td>6412857</td>\n    </tr>\n    <tr>\n      <th>11</th>\n      <td>11473330</td>\n      <td>1608243881</td>\n      <td>0x8bb8dc5c7c830bac85fa48acad2505e9300a91c3ff23...</td>\n      <td>4</td>\n      <td>0xace8f027885d93d734e046661df5e51d96d21d78d42c...</td>\n      <td>0xae465fd39b519602ee28f062037f7b9c41fdc8cf</td>\n      <td>0xa0b86991c6218b36c1d19d4a2e9eb0ce3606eb48</td>\n      <td>0xdf8bee861227ffc5eea819c332a1c170ae3dbacb</td>\n      <td>3917983816717</td>\n      <td>USD Coin</td>\n      <td>USDC</td>\n      <td>6</td>\n      <td>65</td>\n      <td>3656990</td>\n      <td>89000000000</td>\n      <td>2339018</td>\n      <td>6231822</td>\n      <td>deprecated</td>\n      <td>6412857</td>\n    </tr>\n    <tr>\n      <th>12</th>\n      <td>11473330</td>\n      <td>1608243881</td>\n      <td>0x8bb8dc5c7c830bac85fa48acad2505e9300a91c3ff23...</td>\n      <td>4</td>\n      <td>0xace8f027885d93d734e046661df5e51d96d21d78d42c...</td>\n      <td>0x6046c3ab74e6ce761d218b9117d5c63200f4b406</td>\n      <td>0x6b175474e89094c44da98b954eedeac495271d0f</td>\n      <td>0xdf8bee861227ffc5eea819c332a1c170ae3dbacb</td>\n      <td>3862646608579660094744528</td>\n      <td>Dai Stablecoin</td>\n      <td>DAI</td>\n      <td>18</td>\n      <td>65</td>\n      <td>3656990</td>\n      <td>89000000000</td>\n      <td>2339018</td>\n      <td>6231822</td>\n      <td>deprecated</td>\n      <td>6412857</td>\n    </tr>\n    <tr>\n      <th>13</th>\n      <td>11473330</td>\n      <td>1608243881</td>\n      <td>0x8bb8dc5c7c830bac85fa48acad2505e9300a91c3ff23...</td>\n      <td>4</td>\n      <td>0xace8f027885d93d734e046661df5e51d96d21d78d42c...</td>\n      <td>0xdf8bee861227ffc5eea819c332a1c170ae3dbacb</td>\n      <td>0x6b175474e89094c44da98b954eedeac495271d0f</td>\n      <td>0xa478c2975ab1ea89e8196811f51a7b7ade33eb11</td>\n      <td>48584947172042515372154570</td>\n      <td>Dai Stablecoin</td>\n      <td>DAI</td>\n      <td>18</td>\n      <td>65</td>\n      <td>3656990</td>\n      <td>89000000000</td>\n      <td>2339018</td>\n      <td>6231822</td>\n      <td>deprecated</td>\n      <td>6412857</td>\n    </tr>\n    <tr>\n      <th>14</th>\n      <td>11473330</td>\n      <td>1608243881</td>\n      <td>0x8bb8dc5c7c830bac85fa48acad2505e9300a91c3ff23...</td>\n      <td>4</td>\n      <td>0xace8f027885d93d734e046661df5e51d96d21d78d42c...</td>\n      <td>0xa478c2975ab1ea89e8196811f51a7b7ade33eb11</td>\n      <td>0xc02aaa39b223fe8d0a0e5c4f27ead9083c756cc2</td>\n      <td>0xdf8bee861227ffc5eea819c332a1c170ae3dbacb</td>\n      <td>342252890746324624810982</td>\n      <td>Wrapped Ether</td>\n      <td>WETH</td>\n      <td>18</td>\n      <td>65</td>\n      <td>3656990</td>\n      <td>89000000000</td>\n      <td>2339018</td>\n      <td>6231822</td>\n      <td>deprecated</td>\n      <td>6412857</td>\n    </tr>\n    <tr>\n      <th>15</th>\n      <td>11473330</td>\n      <td>1608243881</td>\n      <td>0x8bb8dc5c7c830bac85fa48acad2505e9300a91c3ff23...</td>\n      <td>4</td>\n      <td>0xace8f027885d93d734e046661df5e51d96d21d78d42c...</td>\n      <td>0xdf8bee861227ffc5eea819c332a1c170ae3dbacb</td>\n      <td>0x6b175474e89094c44da98b954eedeac495271d0f</td>\n      <td>0x1e0447b19bb6ecfdae1e4ae1694b0c3659614e4e</td>\n      <td>2900029981390875168951635</td>\n      <td>Dai Stablecoin</td>\n      <td>DAI</td>\n      <td>18</td>\n      <td>65</td>\n      <td>3656990</td>\n      <td>89000000000</td>\n      <td>2339018</td>\n      <td>6231822</td>\n      <td>deprecated</td>\n      <td>6412857</td>\n    </tr>\n    <tr>\n      <th>16</th>\n      <td>11473330</td>\n      <td>1608243881</td>\n      <td>0x8bb8dc5c7c830bac85fa48acad2505e9300a91c3ff23...</td>\n      <td>4</td>\n      <td>0xace8f027885d93d734e046661df5e51d96d21d78d42c...</td>\n      <td>0xdf8bee861227ffc5eea819c332a1c170ae3dbacb</td>\n      <td>0xc02aaa39b223fe8d0a0e5c4f27ead9083c756cc2</td>\n      <td>0x1e0447b19bb6ecfdae1e4ae1694b0c3659614e4e</td>\n      <td>76436763597706555986904</td>\n      <td>Wrapped Ether</td>\n      <td>WETH</td>\n      <td>18</td>\n      <td>65</td>\n      <td>3656990</td>\n      <td>89000000000</td>\n      <td>2339018</td>\n      <td>6231822</td>\n      <td>deprecated</td>\n      <td>6412857</td>\n    </tr>\n    <tr>\n      <th>17</th>\n      <td>11473330</td>\n      <td>1608243881</td>\n      <td>0x8bb8dc5c7c830bac85fa48acad2505e9300a91c3ff23...</td>\n      <td>4</td>\n      <td>0xace8f027885d93d734e046661df5e51d96d21d78d42c...</td>\n      <td>0xdf8bee861227ffc5eea819c332a1c170ae3dbacb</td>\n      <td>0xa0b86991c6218b36c1d19d4a2e9eb0ce3606eb48</td>\n      <td>0x397ff1542f962076d0bfe58ea045ffa2d347aca0</td>\n      <td>3917983816717</td>\n      <td>USD Coin</td>\n      <td>USDC</td>\n      <td>6</td>\n      <td>65</td>\n      <td>3656990</td>\n      <td>89000000000</td>\n      <td>2339018</td>\n      <td>6231822</td>\n      <td>deprecated</td>\n      <td>6412857</td>\n    </tr>\n    <tr>\n      <th>18</th>\n      <td>11473330</td>\n      <td>1608243881</td>\n      <td>0x8bb8dc5c7c830bac85fa48acad2505e9300a91c3ff23...</td>\n      <td>4</td>\n      <td>0xace8f027885d93d734e046661df5e51d96d21d78d42c...</td>\n      <td>0x397ff1542f962076d0bfe58ea045ffa2d347aca0</td>\n      <td>0xc02aaa39b223fe8d0a0e5c4f27ead9083c756cc2</td>\n      <td>0xdf8bee861227ffc5eea819c332a1c170ae3dbacb</td>\n      <td>5757513819156454200929</td>\n      <td>Wrapped Ether</td>\n      <td>WETH</td>\n      <td>18</td>\n      <td>65</td>\n      <td>3656990</td>\n      <td>89000000000</td>\n      <td>2339018</td>\n      <td>6231822</td>\n      <td>deprecated</td>\n      <td>6412857</td>\n    </tr>\n    <tr>\n      <th>19</th>\n      <td>11473330</td>\n      <td>1608243881</td>\n      <td>0x8bb8dc5c7c830bac85fa48acad2505e9300a91c3ff23...</td>\n      <td>4</td>\n      <td>0xace8f027885d93d734e046661df5e51d96d21d78d42c...</td>\n      <td>0xdf8bee861227ffc5eea819c332a1c170ae3dbacb</td>\n      <td>0xc02aaa39b223fe8d0a0e5c4f27ead9083c756cc2</td>\n      <td>0xbb2b8038a1640196fbe3e38816f3e67cba72d940</td>\n      <td>90681240991058610131201</td>\n      <td>Wrapped Ether</td>\n      <td>WETH</td>\n      <td>18</td>\n      <td>65</td>\n      <td>3656990</td>\n      <td>89000000000</td>\n      <td>2339018</td>\n      <td>6231822</td>\n      <td>deprecated</td>\n      <td>6412857</td>\n    </tr>\n    <tr>\n      <th>20</th>\n      <td>11473330</td>\n      <td>1608243881</td>\n      <td>0x8bb8dc5c7c830bac85fa48acad2505e9300a91c3ff23...</td>\n      <td>4</td>\n      <td>0xace8f027885d93d734e046661df5e51d96d21d78d42c...</td>\n      <td>0xdf8bee861227ffc5eea819c332a1c170ae3dbacb</td>\n      <td>0xc02aaa39b223fe8d0a0e5c4f27ead9083c756cc2</td>\n      <td>0xb4e16d0168e52d35cacd2c6185b44281ec28c9dc</td>\n      <td>83047798448407668735147</td>\n      <td>Wrapped Ether</td>\n      <td>WETH</td>\n      <td>18</td>\n      <td>65</td>\n      <td>3656990</td>\n      <td>89000000000</td>\n      <td>2339018</td>\n      <td>6231822</td>\n      <td>deprecated</td>\n      <td>6412857</td>\n    </tr>\n    <tr>\n      <th>21</th>\n      <td>11473330</td>\n      <td>1608243881</td>\n      <td>0x8bb8dc5c7c830bac85fa48acad2505e9300a91c3ff23...</td>\n      <td>4</td>\n      <td>0xace8f027885d93d734e046661df5e51d96d21d78d42c...</td>\n      <td>0xdf8bee861227ffc5eea819c332a1c170ae3dbacb</td>\n      <td>0xc02aaa39b223fe8d0a0e5c4f27ead9083c756cc2</td>\n      <td>0x0d4a11d5eeaac28ec3f61d100daf4d40471f1852</td>\n      <td>96381782110166557400120</td>\n      <td>Wrapped Ether</td>\n      <td>WETH</td>\n      <td>18</td>\n      <td>65</td>\n      <td>3656990</td>\n      <td>89000000000</td>\n      <td>2339018</td>\n      <td>6231822</td>\n      <td>deprecated</td>\n      <td>6412857</td>\n    </tr>\n  </tbody>\n</table>\n</div>"
     },
     "execution_count": 48,
     "metadata": {},
     "output_type": "execute_result"
    }
   ],
   "source": [
    "token_transfers_df = pd.read_csv(\"tokentx_data.csv\")\n",
    "\n",
    "token_transfers_df"
   ],
   "metadata": {
    "collapsed": false,
    "ExecuteTime": {
     "end_time": "2023-08-11T10:59:40.153827300Z",
     "start_time": "2023-08-11T10:59:40.128036400Z"
    }
   }
  },
  {
   "cell_type": "code",
   "execution_count": 49,
   "outputs": [
    {
     "data": {
      "text/plain": "                                          from  \\\n0   0xbb2b8038a1640196fbe3e38816f3e67cba72d940   \n1   0xb4e16d0168e52d35cacd2c6185b44281ec28c9dc   \n2   0x0d4a11d5eeaac28ec3f61d100daf4d40471f1852   \n3   0x1e0447b19bb6ecfdae1e4ae1694b0c3659614e4e   \n4   0x1e0447b19bb6ecfdae1e4ae1694b0c3659614e4e   \n5   0xdf8bee861227ffc5eea819c332a1c170ae3dbacb   \n6   0xdf8bee861227ffc5eea819c332a1c170ae3dbacb   \n7   0x0000000000000000000000000000000000000000   \n8   0xdf8bee861227ffc5eea819c332a1c170ae3dbacb   \n9   0xdf8bee861227ffc5eea819c332a1c170ae3dbacb   \n10  0xa478c2975ab1ea89e8196811f51a7b7ade33eb11   \n11  0xae465fd39b519602ee28f062037f7b9c41fdc8cf   \n12  0x6046c3ab74e6ce761d218b9117d5c63200f4b406   \n13  0xdf8bee861227ffc5eea819c332a1c170ae3dbacb   \n14  0xa478c2975ab1ea89e8196811f51a7b7ade33eb11   \n15  0xdf8bee861227ffc5eea819c332a1c170ae3dbacb   \n16  0xdf8bee861227ffc5eea819c332a1c170ae3dbacb   \n17  0xdf8bee861227ffc5eea819c332a1c170ae3dbacb   \n18  0x397ff1542f962076d0bfe58ea045ffa2d347aca0   \n19  0xdf8bee861227ffc5eea819c332a1c170ae3dbacb   \n20  0xdf8bee861227ffc5eea819c332a1c170ae3dbacb   \n21  0xdf8bee861227ffc5eea819c332a1c170ae3dbacb   \n\n                               contractAddress  \\\n0   0xc02aaa39b223fe8d0a0e5c4f27ead9083c756cc2   \n1   0xc02aaa39b223fe8d0a0e5c4f27ead9083c756cc2   \n2   0xc02aaa39b223fe8d0a0e5c4f27ead9083c756cc2   \n3   0x6b175474e89094c44da98b954eedeac495271d0f   \n4   0xc02aaa39b223fe8d0a0e5c4f27ead9083c756cc2   \n5   0x6b175474e89094c44da98b954eedeac495271d0f   \n6   0xc02aaa39b223fe8d0a0e5c4f27ead9083c756cc2   \n7   0xa478c2975ab1ea89e8196811f51a7b7ade33eb11   \n8   0xa478c2975ab1ea89e8196811f51a7b7ade33eb11   \n9   0xc02aaa39b223fe8d0a0e5c4f27ead9083c756cc2   \n10  0x6b175474e89094c44da98b954eedeac495271d0f   \n11  0xa0b86991c6218b36c1d19d4a2e9eb0ce3606eb48   \n12  0x6b175474e89094c44da98b954eedeac495271d0f   \n13  0x6b175474e89094c44da98b954eedeac495271d0f   \n14  0xc02aaa39b223fe8d0a0e5c4f27ead9083c756cc2   \n15  0x6b175474e89094c44da98b954eedeac495271d0f   \n16  0xc02aaa39b223fe8d0a0e5c4f27ead9083c756cc2   \n17  0xa0b86991c6218b36c1d19d4a2e9eb0ce3606eb48   \n18  0xc02aaa39b223fe8d0a0e5c4f27ead9083c756cc2   \n19  0xc02aaa39b223fe8d0a0e5c4f27ead9083c756cc2   \n20  0xc02aaa39b223fe8d0a0e5c4f27ead9083c756cc2   \n21  0xc02aaa39b223fe8d0a0e5c4f27ead9083c756cc2   \n\n                                            to                       value  \\\n0   0xdf8bee861227ffc5eea819c332a1c170ae3dbacb     90409013949210977199603   \n1   0xdf8bee861227ffc5eea819c332a1c170ae3dbacb     82798403238691593953288   \n2   0xdf8bee861227ffc5eea819c332a1c170ae3dbacb     96092504596377425124746   \n3   0xdf8bee861227ffc5eea819c332a1c170ae3dbacb   2900029981390875168951633   \n4   0xdf8bee861227ffc5eea819c332a1c170ae3dbacb     76436763597706555986902   \n5   0xa478c2975ab1ea89e8196811f51a7b7ade33eb11   2900029981390875168951633   \n6   0xa478c2975ab1ea89e8196811f51a7b7ade33eb11      4519641165250735182062   \n7   0xdf8bee861227ffc5eea819c332a1c170ae3dbacb     94349340516285530671934   \n8   0x13db1cb418573f4c3a2ea36486f0e421bc0d2427     94349340516285530671934   \n9   0xa478c2975ab1ea89e8196811f51a7b7ade33eb11    341217044216735817082477   \n10  0xdf8bee861227ffc5eea819c332a1c170ae3dbacb  47622330544853730446361677   \n11  0xdf8bee861227ffc5eea819c332a1c170ae3dbacb               3917983816717   \n12  0xdf8bee861227ffc5eea819c332a1c170ae3dbacb   3862646608579660094744528   \n13  0xa478c2975ab1ea89e8196811f51a7b7ade33eb11  48584947172042515372154570   \n14  0xdf8bee861227ffc5eea819c332a1c170ae3dbacb    342252890746324624810982   \n15  0x1e0447b19bb6ecfdae1e4ae1694b0c3659614e4e   2900029981390875168951635   \n16  0x1e0447b19bb6ecfdae1e4ae1694b0c3659614e4e     76436763597706555986904   \n17  0x397ff1542f962076d0bfe58ea045ffa2d347aca0               3917983816717   \n18  0xdf8bee861227ffc5eea819c332a1c170ae3dbacb      5757513819156454200929   \n19  0xbb2b8038a1640196fbe3e38816f3e67cba72d940     90681240991058610131201   \n20  0xb4e16d0168e52d35cacd2c6185b44281ec28c9dc     83047798448407668735147   \n21  0x0d4a11d5eeaac28ec3f61d100daf4d40471f1852     96381782110166557400120   \n\n   tokenSymbol  tokenDecimal  \n0         WETH            18  \n1         WETH            18  \n2         WETH            18  \n3          DAI            18  \n4         WETH            18  \n5          DAI            18  \n6         WETH            18  \n7       UNI-V2            18  \n8       UNI-V2            18  \n9         WETH            18  \n10         DAI            18  \n11        USDC             6  \n12         DAI            18  \n13         DAI            18  \n14        WETH            18  \n15         DAI            18  \n16        WETH            18  \n17        USDC             6  \n18        WETH            18  \n19        WETH            18  \n20        WETH            18  \n21        WETH            18  ",
      "text/html": "<div>\n<style scoped>\n    .dataframe tbody tr th:only-of-type {\n        vertical-align: middle;\n    }\n\n    .dataframe tbody tr th {\n        vertical-align: top;\n    }\n\n    .dataframe thead th {\n        text-align: right;\n    }\n</style>\n<table border=\"1\" class=\"dataframe\">\n  <thead>\n    <tr style=\"text-align: right;\">\n      <th></th>\n      <th>from</th>\n      <th>contractAddress</th>\n      <th>to</th>\n      <th>value</th>\n      <th>tokenSymbol</th>\n      <th>tokenDecimal</th>\n    </tr>\n  </thead>\n  <tbody>\n    <tr>\n      <th>0</th>\n      <td>0xbb2b8038a1640196fbe3e38816f3e67cba72d940</td>\n      <td>0xc02aaa39b223fe8d0a0e5c4f27ead9083c756cc2</td>\n      <td>0xdf8bee861227ffc5eea819c332a1c170ae3dbacb</td>\n      <td>90409013949210977199603</td>\n      <td>WETH</td>\n      <td>18</td>\n    </tr>\n    <tr>\n      <th>1</th>\n      <td>0xb4e16d0168e52d35cacd2c6185b44281ec28c9dc</td>\n      <td>0xc02aaa39b223fe8d0a0e5c4f27ead9083c756cc2</td>\n      <td>0xdf8bee861227ffc5eea819c332a1c170ae3dbacb</td>\n      <td>82798403238691593953288</td>\n      <td>WETH</td>\n      <td>18</td>\n    </tr>\n    <tr>\n      <th>2</th>\n      <td>0x0d4a11d5eeaac28ec3f61d100daf4d40471f1852</td>\n      <td>0xc02aaa39b223fe8d0a0e5c4f27ead9083c756cc2</td>\n      <td>0xdf8bee861227ffc5eea819c332a1c170ae3dbacb</td>\n      <td>96092504596377425124746</td>\n      <td>WETH</td>\n      <td>18</td>\n    </tr>\n    <tr>\n      <th>3</th>\n      <td>0x1e0447b19bb6ecfdae1e4ae1694b0c3659614e4e</td>\n      <td>0x6b175474e89094c44da98b954eedeac495271d0f</td>\n      <td>0xdf8bee861227ffc5eea819c332a1c170ae3dbacb</td>\n      <td>2900029981390875168951633</td>\n      <td>DAI</td>\n      <td>18</td>\n    </tr>\n    <tr>\n      <th>4</th>\n      <td>0x1e0447b19bb6ecfdae1e4ae1694b0c3659614e4e</td>\n      <td>0xc02aaa39b223fe8d0a0e5c4f27ead9083c756cc2</td>\n      <td>0xdf8bee861227ffc5eea819c332a1c170ae3dbacb</td>\n      <td>76436763597706555986902</td>\n      <td>WETH</td>\n      <td>18</td>\n    </tr>\n    <tr>\n      <th>5</th>\n      <td>0xdf8bee861227ffc5eea819c332a1c170ae3dbacb</td>\n      <td>0x6b175474e89094c44da98b954eedeac495271d0f</td>\n      <td>0xa478c2975ab1ea89e8196811f51a7b7ade33eb11</td>\n      <td>2900029981390875168951633</td>\n      <td>DAI</td>\n      <td>18</td>\n    </tr>\n    <tr>\n      <th>6</th>\n      <td>0xdf8bee861227ffc5eea819c332a1c170ae3dbacb</td>\n      <td>0xc02aaa39b223fe8d0a0e5c4f27ead9083c756cc2</td>\n      <td>0xa478c2975ab1ea89e8196811f51a7b7ade33eb11</td>\n      <td>4519641165250735182062</td>\n      <td>WETH</td>\n      <td>18</td>\n    </tr>\n    <tr>\n      <th>7</th>\n      <td>0x0000000000000000000000000000000000000000</td>\n      <td>0xa478c2975ab1ea89e8196811f51a7b7ade33eb11</td>\n      <td>0xdf8bee861227ffc5eea819c332a1c170ae3dbacb</td>\n      <td>94349340516285530671934</td>\n      <td>UNI-V2</td>\n      <td>18</td>\n    </tr>\n    <tr>\n      <th>8</th>\n      <td>0xdf8bee861227ffc5eea819c332a1c170ae3dbacb</td>\n      <td>0xa478c2975ab1ea89e8196811f51a7b7ade33eb11</td>\n      <td>0x13db1cb418573f4c3a2ea36486f0e421bc0d2427</td>\n      <td>94349340516285530671934</td>\n      <td>UNI-V2</td>\n      <td>18</td>\n    </tr>\n    <tr>\n      <th>9</th>\n      <td>0xdf8bee861227ffc5eea819c332a1c170ae3dbacb</td>\n      <td>0xc02aaa39b223fe8d0a0e5c4f27ead9083c756cc2</td>\n      <td>0xa478c2975ab1ea89e8196811f51a7b7ade33eb11</td>\n      <td>341217044216735817082477</td>\n      <td>WETH</td>\n      <td>18</td>\n    </tr>\n    <tr>\n      <th>10</th>\n      <td>0xa478c2975ab1ea89e8196811f51a7b7ade33eb11</td>\n      <td>0x6b175474e89094c44da98b954eedeac495271d0f</td>\n      <td>0xdf8bee861227ffc5eea819c332a1c170ae3dbacb</td>\n      <td>47622330544853730446361677</td>\n      <td>DAI</td>\n      <td>18</td>\n    </tr>\n    <tr>\n      <th>11</th>\n      <td>0xae465fd39b519602ee28f062037f7b9c41fdc8cf</td>\n      <td>0xa0b86991c6218b36c1d19d4a2e9eb0ce3606eb48</td>\n      <td>0xdf8bee861227ffc5eea819c332a1c170ae3dbacb</td>\n      <td>3917983816717</td>\n      <td>USDC</td>\n      <td>6</td>\n    </tr>\n    <tr>\n      <th>12</th>\n      <td>0x6046c3ab74e6ce761d218b9117d5c63200f4b406</td>\n      <td>0x6b175474e89094c44da98b954eedeac495271d0f</td>\n      <td>0xdf8bee861227ffc5eea819c332a1c170ae3dbacb</td>\n      <td>3862646608579660094744528</td>\n      <td>DAI</td>\n      <td>18</td>\n    </tr>\n    <tr>\n      <th>13</th>\n      <td>0xdf8bee861227ffc5eea819c332a1c170ae3dbacb</td>\n      <td>0x6b175474e89094c44da98b954eedeac495271d0f</td>\n      <td>0xa478c2975ab1ea89e8196811f51a7b7ade33eb11</td>\n      <td>48584947172042515372154570</td>\n      <td>DAI</td>\n      <td>18</td>\n    </tr>\n    <tr>\n      <th>14</th>\n      <td>0xa478c2975ab1ea89e8196811f51a7b7ade33eb11</td>\n      <td>0xc02aaa39b223fe8d0a0e5c4f27ead9083c756cc2</td>\n      <td>0xdf8bee861227ffc5eea819c332a1c170ae3dbacb</td>\n      <td>342252890746324624810982</td>\n      <td>WETH</td>\n      <td>18</td>\n    </tr>\n    <tr>\n      <th>15</th>\n      <td>0xdf8bee861227ffc5eea819c332a1c170ae3dbacb</td>\n      <td>0x6b175474e89094c44da98b954eedeac495271d0f</td>\n      <td>0x1e0447b19bb6ecfdae1e4ae1694b0c3659614e4e</td>\n      <td>2900029981390875168951635</td>\n      <td>DAI</td>\n      <td>18</td>\n    </tr>\n    <tr>\n      <th>16</th>\n      <td>0xdf8bee861227ffc5eea819c332a1c170ae3dbacb</td>\n      <td>0xc02aaa39b223fe8d0a0e5c4f27ead9083c756cc2</td>\n      <td>0x1e0447b19bb6ecfdae1e4ae1694b0c3659614e4e</td>\n      <td>76436763597706555986904</td>\n      <td>WETH</td>\n      <td>18</td>\n    </tr>\n    <tr>\n      <th>17</th>\n      <td>0xdf8bee861227ffc5eea819c332a1c170ae3dbacb</td>\n      <td>0xa0b86991c6218b36c1d19d4a2e9eb0ce3606eb48</td>\n      <td>0x397ff1542f962076d0bfe58ea045ffa2d347aca0</td>\n      <td>3917983816717</td>\n      <td>USDC</td>\n      <td>6</td>\n    </tr>\n    <tr>\n      <th>18</th>\n      <td>0x397ff1542f962076d0bfe58ea045ffa2d347aca0</td>\n      <td>0xc02aaa39b223fe8d0a0e5c4f27ead9083c756cc2</td>\n      <td>0xdf8bee861227ffc5eea819c332a1c170ae3dbacb</td>\n      <td>5757513819156454200929</td>\n      <td>WETH</td>\n      <td>18</td>\n    </tr>\n    <tr>\n      <th>19</th>\n      <td>0xdf8bee861227ffc5eea819c332a1c170ae3dbacb</td>\n      <td>0xc02aaa39b223fe8d0a0e5c4f27ead9083c756cc2</td>\n      <td>0xbb2b8038a1640196fbe3e38816f3e67cba72d940</td>\n      <td>90681240991058610131201</td>\n      <td>WETH</td>\n      <td>18</td>\n    </tr>\n    <tr>\n      <th>20</th>\n      <td>0xdf8bee861227ffc5eea819c332a1c170ae3dbacb</td>\n      <td>0xc02aaa39b223fe8d0a0e5c4f27ead9083c756cc2</td>\n      <td>0xb4e16d0168e52d35cacd2c6185b44281ec28c9dc</td>\n      <td>83047798448407668735147</td>\n      <td>WETH</td>\n      <td>18</td>\n    </tr>\n    <tr>\n      <th>21</th>\n      <td>0xdf8bee861227ffc5eea819c332a1c170ae3dbacb</td>\n      <td>0xc02aaa39b223fe8d0a0e5c4f27ead9083c756cc2</td>\n      <td>0x0d4a11d5eeaac28ec3f61d100daf4d40471f1852</td>\n      <td>96381782110166557400120</td>\n      <td>WETH</td>\n      <td>18</td>\n    </tr>\n  </tbody>\n</table>\n</div>"
     },
     "execution_count": 49,
     "metadata": {},
     "output_type": "execute_result"
    }
   ],
   "source": [
    "# Removing columns that aren't relevant to the analysis\n",
    "columns_to_drop = [\"blockNumber\", \"timeStamp\", \"hash\", \"nonce\", \"blockHash\", \"tokenName\", \"transactionIndex\", \"gas\", \"gasPrice\", \"gasUsed\", \"cumulativeGasUsed\", \"input\", \"confirmations\"]\n",
    "\n",
    "token_transfers_df = token_transfers_df.drop(columns=columns_to_drop, axis=1)\n",
    "token_transfers_df"
   ],
   "metadata": {
    "collapsed": false,
    "ExecuteTime": {
     "end_time": "2023-08-11T10:59:40.933998200Z",
     "start_time": "2023-08-11T10:59:40.916783500Z"
    }
   }
  },
  {
   "cell_type": "code",
   "execution_count": 50,
   "outputs": [
    {
     "data": {
      "text/plain": "                                          from  \\\n0   0xbb2b8038a1640196fbe3e38816f3e67cba72d940   \n1   0xb4e16d0168e52d35cacd2c6185b44281ec28c9dc   \n2   0x0d4a11d5eeaac28ec3f61d100daf4d40471f1852   \n3   0x1e0447b19bb6ecfdae1e4ae1694b0c3659614e4e   \n4   0x1e0447b19bb6ecfdae1e4ae1694b0c3659614e4e   \n5   0xdf8bee861227ffc5eea819c332a1c170ae3dbacb   \n6   0xdf8bee861227ffc5eea819c332a1c170ae3dbacb   \n7   0x0000000000000000000000000000000000000000   \n8   0xdf8bee861227ffc5eea819c332a1c170ae3dbacb   \n9   0xdf8bee861227ffc5eea819c332a1c170ae3dbacb   \n10  0xa478c2975ab1ea89e8196811f51a7b7ade33eb11   \n11  0xae465fd39b519602ee28f062037f7b9c41fdc8cf   \n12  0x6046c3ab74e6ce761d218b9117d5c63200f4b406   \n13  0xdf8bee861227ffc5eea819c332a1c170ae3dbacb   \n14  0xa478c2975ab1ea89e8196811f51a7b7ade33eb11   \n15  0xdf8bee861227ffc5eea819c332a1c170ae3dbacb   \n16  0xdf8bee861227ffc5eea819c332a1c170ae3dbacb   \n17  0xdf8bee861227ffc5eea819c332a1c170ae3dbacb   \n18  0x397ff1542f962076d0bfe58ea045ffa2d347aca0   \n19  0xdf8bee861227ffc5eea819c332a1c170ae3dbacb   \n20  0xdf8bee861227ffc5eea819c332a1c170ae3dbacb   \n21  0xdf8bee861227ffc5eea819c332a1c170ae3dbacb   \n\n                               contractAddress  \\\n0   0xc02aaa39b223fe8d0a0e5c4f27ead9083c756cc2   \n1   0xc02aaa39b223fe8d0a0e5c4f27ead9083c756cc2   \n2   0xc02aaa39b223fe8d0a0e5c4f27ead9083c756cc2   \n3   0x6b175474e89094c44da98b954eedeac495271d0f   \n4   0xc02aaa39b223fe8d0a0e5c4f27ead9083c756cc2   \n5   0x6b175474e89094c44da98b954eedeac495271d0f   \n6   0xc02aaa39b223fe8d0a0e5c4f27ead9083c756cc2   \n7   0xa478c2975ab1ea89e8196811f51a7b7ade33eb11   \n8   0xa478c2975ab1ea89e8196811f51a7b7ade33eb11   \n9   0xc02aaa39b223fe8d0a0e5c4f27ead9083c756cc2   \n10  0x6b175474e89094c44da98b954eedeac495271d0f   \n11  0xa0b86991c6218b36c1d19d4a2e9eb0ce3606eb48   \n12  0x6b175474e89094c44da98b954eedeac495271d0f   \n13  0x6b175474e89094c44da98b954eedeac495271d0f   \n14  0xc02aaa39b223fe8d0a0e5c4f27ead9083c756cc2   \n15  0x6b175474e89094c44da98b954eedeac495271d0f   \n16  0xc02aaa39b223fe8d0a0e5c4f27ead9083c756cc2   \n17  0xa0b86991c6218b36c1d19d4a2e9eb0ce3606eb48   \n18  0xc02aaa39b223fe8d0a0e5c4f27ead9083c756cc2   \n19  0xc02aaa39b223fe8d0a0e5c4f27ead9083c756cc2   \n20  0xc02aaa39b223fe8d0a0e5c4f27ead9083c756cc2   \n21  0xc02aaa39b223fe8d0a0e5c4f27ead9083c756cc2   \n\n                                            to  smallestDenominationQuantity  \\\n0   0xdf8bee861227ffc5eea819c332a1c170ae3dbacb                  9.040901e+22   \n1   0xdf8bee861227ffc5eea819c332a1c170ae3dbacb                  8.279840e+22   \n2   0xdf8bee861227ffc5eea819c332a1c170ae3dbacb                  9.609250e+22   \n3   0xdf8bee861227ffc5eea819c332a1c170ae3dbacb                  2.900030e+24   \n4   0xdf8bee861227ffc5eea819c332a1c170ae3dbacb                  7.643676e+22   \n5   0xa478c2975ab1ea89e8196811f51a7b7ade33eb11                  2.900030e+24   \n6   0xa478c2975ab1ea89e8196811f51a7b7ade33eb11                  4.519641e+21   \n7   0xdf8bee861227ffc5eea819c332a1c170ae3dbacb                  9.434934e+22   \n8   0x13db1cb418573f4c3a2ea36486f0e421bc0d2427                  9.434934e+22   \n9   0xa478c2975ab1ea89e8196811f51a7b7ade33eb11                  3.412170e+23   \n10  0xdf8bee861227ffc5eea819c332a1c170ae3dbacb                  4.762233e+25   \n11  0xdf8bee861227ffc5eea819c332a1c170ae3dbacb                  3.917984e+12   \n12  0xdf8bee861227ffc5eea819c332a1c170ae3dbacb                  3.862647e+24   \n13  0xa478c2975ab1ea89e8196811f51a7b7ade33eb11                  4.858495e+25   \n14  0xdf8bee861227ffc5eea819c332a1c170ae3dbacb                  3.422529e+23   \n15  0x1e0447b19bb6ecfdae1e4ae1694b0c3659614e4e                  2.900030e+24   \n16  0x1e0447b19bb6ecfdae1e4ae1694b0c3659614e4e                  7.643676e+22   \n17  0x397ff1542f962076d0bfe58ea045ffa2d347aca0                  3.917984e+12   \n18  0xdf8bee861227ffc5eea819c332a1c170ae3dbacb                  5.757514e+21   \n19  0xbb2b8038a1640196fbe3e38816f3e67cba72d940                  9.068124e+22   \n20  0xb4e16d0168e52d35cacd2c6185b44281ec28c9dc                  8.304780e+22   \n21  0x0d4a11d5eeaac28ec3f61d100daf4d40471f1852                  9.638178e+22   \n\n    tokenQuantity tokenSymbol  \n0    9.040901e+04        WETH  \n1    8.279840e+04        WETH  \n2    9.609250e+04        WETH  \n3    2.900030e+06         DAI  \n4    7.643676e+04        WETH  \n5    2.900030e+06         DAI  \n6    4.519641e+03        WETH  \n7    9.434934e+04      UNI-V2  \n8    9.434934e+04      UNI-V2  \n9    3.412170e+05        WETH  \n10   4.762233e+07         DAI  \n11   3.917984e+06        USDC  \n12   3.862647e+06         DAI  \n13   4.858495e+07         DAI  \n14   3.422529e+05        WETH  \n15   2.900030e+06         DAI  \n16   7.643676e+04        WETH  \n17   3.917984e+06        USDC  \n18   5.757514e+03        WETH  \n19   9.068124e+04        WETH  \n20   8.304780e+04        WETH  \n21   9.638178e+04        WETH  ",
      "text/html": "<div>\n<style scoped>\n    .dataframe tbody tr th:only-of-type {\n        vertical-align: middle;\n    }\n\n    .dataframe tbody tr th {\n        vertical-align: top;\n    }\n\n    .dataframe thead th {\n        text-align: right;\n    }\n</style>\n<table border=\"1\" class=\"dataframe\">\n  <thead>\n    <tr style=\"text-align: right;\">\n      <th></th>\n      <th>from</th>\n      <th>contractAddress</th>\n      <th>to</th>\n      <th>smallestDenominationQuantity</th>\n      <th>tokenQuantity</th>\n      <th>tokenSymbol</th>\n    </tr>\n  </thead>\n  <tbody>\n    <tr>\n      <th>0</th>\n      <td>0xbb2b8038a1640196fbe3e38816f3e67cba72d940</td>\n      <td>0xc02aaa39b223fe8d0a0e5c4f27ead9083c756cc2</td>\n      <td>0xdf8bee861227ffc5eea819c332a1c170ae3dbacb</td>\n      <td>9.040901e+22</td>\n      <td>9.040901e+04</td>\n      <td>WETH</td>\n    </tr>\n    <tr>\n      <th>1</th>\n      <td>0xb4e16d0168e52d35cacd2c6185b44281ec28c9dc</td>\n      <td>0xc02aaa39b223fe8d0a0e5c4f27ead9083c756cc2</td>\n      <td>0xdf8bee861227ffc5eea819c332a1c170ae3dbacb</td>\n      <td>8.279840e+22</td>\n      <td>8.279840e+04</td>\n      <td>WETH</td>\n    </tr>\n    <tr>\n      <th>2</th>\n      <td>0x0d4a11d5eeaac28ec3f61d100daf4d40471f1852</td>\n      <td>0xc02aaa39b223fe8d0a0e5c4f27ead9083c756cc2</td>\n      <td>0xdf8bee861227ffc5eea819c332a1c170ae3dbacb</td>\n      <td>9.609250e+22</td>\n      <td>9.609250e+04</td>\n      <td>WETH</td>\n    </tr>\n    <tr>\n      <th>3</th>\n      <td>0x1e0447b19bb6ecfdae1e4ae1694b0c3659614e4e</td>\n      <td>0x6b175474e89094c44da98b954eedeac495271d0f</td>\n      <td>0xdf8bee861227ffc5eea819c332a1c170ae3dbacb</td>\n      <td>2.900030e+24</td>\n      <td>2.900030e+06</td>\n      <td>DAI</td>\n    </tr>\n    <tr>\n      <th>4</th>\n      <td>0x1e0447b19bb6ecfdae1e4ae1694b0c3659614e4e</td>\n      <td>0xc02aaa39b223fe8d0a0e5c4f27ead9083c756cc2</td>\n      <td>0xdf8bee861227ffc5eea819c332a1c170ae3dbacb</td>\n      <td>7.643676e+22</td>\n      <td>7.643676e+04</td>\n      <td>WETH</td>\n    </tr>\n    <tr>\n      <th>5</th>\n      <td>0xdf8bee861227ffc5eea819c332a1c170ae3dbacb</td>\n      <td>0x6b175474e89094c44da98b954eedeac495271d0f</td>\n      <td>0xa478c2975ab1ea89e8196811f51a7b7ade33eb11</td>\n      <td>2.900030e+24</td>\n      <td>2.900030e+06</td>\n      <td>DAI</td>\n    </tr>\n    <tr>\n      <th>6</th>\n      <td>0xdf8bee861227ffc5eea819c332a1c170ae3dbacb</td>\n      <td>0xc02aaa39b223fe8d0a0e5c4f27ead9083c756cc2</td>\n      <td>0xa478c2975ab1ea89e8196811f51a7b7ade33eb11</td>\n      <td>4.519641e+21</td>\n      <td>4.519641e+03</td>\n      <td>WETH</td>\n    </tr>\n    <tr>\n      <th>7</th>\n      <td>0x0000000000000000000000000000000000000000</td>\n      <td>0xa478c2975ab1ea89e8196811f51a7b7ade33eb11</td>\n      <td>0xdf8bee861227ffc5eea819c332a1c170ae3dbacb</td>\n      <td>9.434934e+22</td>\n      <td>9.434934e+04</td>\n      <td>UNI-V2</td>\n    </tr>\n    <tr>\n      <th>8</th>\n      <td>0xdf8bee861227ffc5eea819c332a1c170ae3dbacb</td>\n      <td>0xa478c2975ab1ea89e8196811f51a7b7ade33eb11</td>\n      <td>0x13db1cb418573f4c3a2ea36486f0e421bc0d2427</td>\n      <td>9.434934e+22</td>\n      <td>9.434934e+04</td>\n      <td>UNI-V2</td>\n    </tr>\n    <tr>\n      <th>9</th>\n      <td>0xdf8bee861227ffc5eea819c332a1c170ae3dbacb</td>\n      <td>0xc02aaa39b223fe8d0a0e5c4f27ead9083c756cc2</td>\n      <td>0xa478c2975ab1ea89e8196811f51a7b7ade33eb11</td>\n      <td>3.412170e+23</td>\n      <td>3.412170e+05</td>\n      <td>WETH</td>\n    </tr>\n    <tr>\n      <th>10</th>\n      <td>0xa478c2975ab1ea89e8196811f51a7b7ade33eb11</td>\n      <td>0x6b175474e89094c44da98b954eedeac495271d0f</td>\n      <td>0xdf8bee861227ffc5eea819c332a1c170ae3dbacb</td>\n      <td>4.762233e+25</td>\n      <td>4.762233e+07</td>\n      <td>DAI</td>\n    </tr>\n    <tr>\n      <th>11</th>\n      <td>0xae465fd39b519602ee28f062037f7b9c41fdc8cf</td>\n      <td>0xa0b86991c6218b36c1d19d4a2e9eb0ce3606eb48</td>\n      <td>0xdf8bee861227ffc5eea819c332a1c170ae3dbacb</td>\n      <td>3.917984e+12</td>\n      <td>3.917984e+06</td>\n      <td>USDC</td>\n    </tr>\n    <tr>\n      <th>12</th>\n      <td>0x6046c3ab74e6ce761d218b9117d5c63200f4b406</td>\n      <td>0x6b175474e89094c44da98b954eedeac495271d0f</td>\n      <td>0xdf8bee861227ffc5eea819c332a1c170ae3dbacb</td>\n      <td>3.862647e+24</td>\n      <td>3.862647e+06</td>\n      <td>DAI</td>\n    </tr>\n    <tr>\n      <th>13</th>\n      <td>0xdf8bee861227ffc5eea819c332a1c170ae3dbacb</td>\n      <td>0x6b175474e89094c44da98b954eedeac495271d0f</td>\n      <td>0xa478c2975ab1ea89e8196811f51a7b7ade33eb11</td>\n      <td>4.858495e+25</td>\n      <td>4.858495e+07</td>\n      <td>DAI</td>\n    </tr>\n    <tr>\n      <th>14</th>\n      <td>0xa478c2975ab1ea89e8196811f51a7b7ade33eb11</td>\n      <td>0xc02aaa39b223fe8d0a0e5c4f27ead9083c756cc2</td>\n      <td>0xdf8bee861227ffc5eea819c332a1c170ae3dbacb</td>\n      <td>3.422529e+23</td>\n      <td>3.422529e+05</td>\n      <td>WETH</td>\n    </tr>\n    <tr>\n      <th>15</th>\n      <td>0xdf8bee861227ffc5eea819c332a1c170ae3dbacb</td>\n      <td>0x6b175474e89094c44da98b954eedeac495271d0f</td>\n      <td>0x1e0447b19bb6ecfdae1e4ae1694b0c3659614e4e</td>\n      <td>2.900030e+24</td>\n      <td>2.900030e+06</td>\n      <td>DAI</td>\n    </tr>\n    <tr>\n      <th>16</th>\n      <td>0xdf8bee861227ffc5eea819c332a1c170ae3dbacb</td>\n      <td>0xc02aaa39b223fe8d0a0e5c4f27ead9083c756cc2</td>\n      <td>0x1e0447b19bb6ecfdae1e4ae1694b0c3659614e4e</td>\n      <td>7.643676e+22</td>\n      <td>7.643676e+04</td>\n      <td>WETH</td>\n    </tr>\n    <tr>\n      <th>17</th>\n      <td>0xdf8bee861227ffc5eea819c332a1c170ae3dbacb</td>\n      <td>0xa0b86991c6218b36c1d19d4a2e9eb0ce3606eb48</td>\n      <td>0x397ff1542f962076d0bfe58ea045ffa2d347aca0</td>\n      <td>3.917984e+12</td>\n      <td>3.917984e+06</td>\n      <td>USDC</td>\n    </tr>\n    <tr>\n      <th>18</th>\n      <td>0x397ff1542f962076d0bfe58ea045ffa2d347aca0</td>\n      <td>0xc02aaa39b223fe8d0a0e5c4f27ead9083c756cc2</td>\n      <td>0xdf8bee861227ffc5eea819c332a1c170ae3dbacb</td>\n      <td>5.757514e+21</td>\n      <td>5.757514e+03</td>\n      <td>WETH</td>\n    </tr>\n    <tr>\n      <th>19</th>\n      <td>0xdf8bee861227ffc5eea819c332a1c170ae3dbacb</td>\n      <td>0xc02aaa39b223fe8d0a0e5c4f27ead9083c756cc2</td>\n      <td>0xbb2b8038a1640196fbe3e38816f3e67cba72d940</td>\n      <td>9.068124e+22</td>\n      <td>9.068124e+04</td>\n      <td>WETH</td>\n    </tr>\n    <tr>\n      <th>20</th>\n      <td>0xdf8bee861227ffc5eea819c332a1c170ae3dbacb</td>\n      <td>0xc02aaa39b223fe8d0a0e5c4f27ead9083c756cc2</td>\n      <td>0xb4e16d0168e52d35cacd2c6185b44281ec28c9dc</td>\n      <td>8.304780e+22</td>\n      <td>8.304780e+04</td>\n      <td>WETH</td>\n    </tr>\n    <tr>\n      <th>21</th>\n      <td>0xdf8bee861227ffc5eea819c332a1c170ae3dbacb</td>\n      <td>0xc02aaa39b223fe8d0a0e5c4f27ead9083c756cc2</td>\n      <td>0x0d4a11d5eeaac28ec3f61d100daf4d40471f1852</td>\n      <td>9.638178e+22</td>\n      <td>9.638178e+04</td>\n      <td>WETH</td>\n    </tr>\n  </tbody>\n</table>\n</div>"
     },
     "execution_count": 50,
     "metadata": {},
     "output_type": "execute_result"
    }
   ],
   "source": [
    "# Adding a column to show the value of the transfer in Wei and in the standard token\n",
    "token_transfers_df = token_transfers_df.rename(columns={\"value\": \"smallestDenominationQuantity\"})\n",
    "\n",
    "# Converting columns to floats (numbers are too large for ints according to OverflowError)\n",
    "token_transfers_df[\"smallestDenominationQuantity\"] = token_transfers_df[\"smallestDenominationQuantity\"].astype(float)\n",
    "token_transfers_df[\"tokenDecimal\"] = token_transfers_df[\"tokenDecimal\"].astype(float)\n",
    "\n",
    "# Creating new column\n",
    "token_transfers_df[\"tokenQuantity\"] = token_transfers_df[\"smallestDenominationQuantity\"] / (10 ** token_transfers_df[\"tokenDecimal\"])\n",
    "\n",
    "# Moving the tokenQuantity next to the smallestDenomQuantity\n",
    "new_column_position = 4\n",
    "column_names = list(token_transfers_df.columns)\n",
    "column_names.insert(new_column_position, column_names.pop(column_names.index(\"tokenQuantity\")))\n",
    "token_transfers_df = token_transfers_df[column_names]\n",
    "\n",
    "# Removing tokenDecimal as it is no longer useful\n",
    "token_transfers_df = token_transfers_df.drop(columns=\"tokenDecimal\")\n",
    "\n",
    "token_transfers_df"
   ],
   "metadata": {
    "collapsed": false,
    "ExecuteTime": {
     "end_time": "2023-08-11T10:59:41.939361200Z",
     "start_time": "2023-08-11T10:59:41.917976800Z"
    }
   }
  },
  {
   "cell_type": "code",
   "execution_count": null,
   "outputs": [],
   "source": [
    "# Creating a dictionary to translate hex addresses into known tokens, DApps, and contracts\n"
   ],
   "metadata": {
    "collapsed": false
   }
  },
  {
   "cell_type": "markdown",
   "source": [
    "## Damage Model Formulation (Warp Finance)"
   ],
   "metadata": {
    "collapsed": false
   }
  },
  {
   "cell_type": "code",
   "execution_count": null,
   "outputs": [],
   "source": [],
   "metadata": {
    "collapsed": false
   }
  },
  {
   "cell_type": "markdown",
   "source": [
    "## Damage Model Validation (Warp Finance)"
   ],
   "metadata": {
    "collapsed": false
   }
  },
  {
   "cell_type": "code",
   "execution_count": null,
   "outputs": [],
   "source": [],
   "metadata": {
    "collapsed": false
   }
  },
  {
   "cell_type": "markdown",
   "source": [
    "## Damage Model Formulation (Fair Reserve)"
   ],
   "metadata": {
    "collapsed": false
   }
  },
  {
   "cell_type": "code",
   "execution_count": null,
   "outputs": [],
   "source": [],
   "metadata": {
    "collapsed": false
   }
  },
  {
   "cell_type": "markdown",
   "source": [
    "## Mitigation Test"
   ],
   "metadata": {
    "collapsed": false
   }
  },
  {
   "cell_type": "code",
   "execution_count": null,
   "outputs": [],
   "source": [],
   "metadata": {
    "collapsed": false
   }
  },
  {
   "cell_type": "markdown",
   "source": [
    "## Internal Parameter Adjustment"
   ],
   "metadata": {
    "collapsed": false
   }
  },
  {
   "cell_type": "code",
   "execution_count": null,
   "outputs": [],
   "source": [],
   "metadata": {
    "collapsed": false
   }
  },
  {
   "cell_type": "markdown",
   "source": [
    "## External Parameter Adjustment"
   ],
   "metadata": {
    "collapsed": false
   }
  },
  {
   "cell_type": "code",
   "execution_count": null,
   "outputs": [],
   "source": [],
   "metadata": {
    "collapsed": false
   }
  }
 ],
 "metadata": {
  "kernelspec": {
   "display_name": "Python 3",
   "language": "python",
   "name": "python3"
  },
  "language_info": {
   "codemirror_mode": {
    "name": "ipython",
    "version": 2
   },
   "file_extension": ".py",
   "mimetype": "text/x-python",
   "name": "python",
   "nbconvert_exporter": "python",
   "pygments_lexer": "ipython2",
   "version": "2.7.6"
  }
 },
 "nbformat": 4,
 "nbformat_minor": 0
}
