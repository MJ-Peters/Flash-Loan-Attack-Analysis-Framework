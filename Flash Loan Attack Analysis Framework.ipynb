{
 "cells": [
  {
   "cell_type": "markdown",
   "source": [
    "# The Flash Loan Attack Analysis (FAA) Framework"
   ],
   "metadata": {
    "collapsed": false
   }
  },
  {
   "cell_type": "markdown",
   "source": [
    "## Importing Blockchain Data"
   ],
   "metadata": {
    "collapsed": false
   }
  },
  {
   "cell_type": "code",
   "execution_count": 5,
   "outputs": [],
   "source": [
    "import pandas as pd\n",
    "from datetime import datetime"
   ],
   "metadata": {
    "collapsed": false,
    "ExecuteTime": {
     "end_time": "2023-08-13T12:33:39.609284100Z",
     "start_time": "2023-08-13T12:33:38.807778900Z"
    }
   }
  },
  {
   "cell_type": "markdown",
   "source": [
    "### Overall Transaction"
   ],
   "metadata": {
    "collapsed": false
   }
  },
  {
   "cell_type": "code",
   "execution_count": 6,
   "outputs": [
    {
     "data": {
      "text/plain": "   blockNumber   timeStamp                                               hash  \\\n0     11473330  1608243881  0x8bb8dc5c7c830bac85fa48acad2505e9300a91c3ff23...   \n\n   nonce                                          blockHash  transactionIndex  \\\n0      4  0xace8f027885d93d734e046661df5e51d96d21d78d42c...                65   \n\n                                         from  \\\n0  0xebc6bd6ac2c9ad4adf4ba57e9f709b8b9cf03c40   \n\n                                           to  value      gas     gasPrice  \\\n0  0xdf8bee861227ffc5eea819c332a1c170ae3dbacb      0  3656990  89000000000   \n\n   isError  txreceipt_status       input  contractAddress  cumulativeGasUsed  \\\n0        0                 1  0xb8e7c2fa              NaN            6231822   \n\n   gasUsed  confirmations    methodId  functionName  \n0  2339018        6412857  0xb8e7c2fa           NaN  ",
      "text/html": "<div>\n<style scoped>\n    .dataframe tbody tr th:only-of-type {\n        vertical-align: middle;\n    }\n\n    .dataframe tbody tr th {\n        vertical-align: top;\n    }\n\n    .dataframe thead th {\n        text-align: right;\n    }\n</style>\n<table border=\"1\" class=\"dataframe\">\n  <thead>\n    <tr style=\"text-align: right;\">\n      <th></th>\n      <th>blockNumber</th>\n      <th>timeStamp</th>\n      <th>hash</th>\n      <th>nonce</th>\n      <th>blockHash</th>\n      <th>transactionIndex</th>\n      <th>from</th>\n      <th>to</th>\n      <th>value</th>\n      <th>gas</th>\n      <th>gasPrice</th>\n      <th>isError</th>\n      <th>txreceipt_status</th>\n      <th>input</th>\n      <th>contractAddress</th>\n      <th>cumulativeGasUsed</th>\n      <th>gasUsed</th>\n      <th>confirmations</th>\n      <th>methodId</th>\n      <th>functionName</th>\n    </tr>\n  </thead>\n  <tbody>\n    <tr>\n      <th>0</th>\n      <td>11473330</td>\n      <td>1608243881</td>\n      <td>0x8bb8dc5c7c830bac85fa48acad2505e9300a91c3ff23...</td>\n      <td>4</td>\n      <td>0xace8f027885d93d734e046661df5e51d96d21d78d42c...</td>\n      <td>65</td>\n      <td>0xebc6bd6ac2c9ad4adf4ba57e9f709b8b9cf03c40</td>\n      <td>0xdf8bee861227ffc5eea819c332a1c170ae3dbacb</td>\n      <td>0</td>\n      <td>3656990</td>\n      <td>89000000000</td>\n      <td>0</td>\n      <td>1</td>\n      <td>0xb8e7c2fa</td>\n      <td>NaN</td>\n      <td>6231822</td>\n      <td>2339018</td>\n      <td>6412857</td>\n      <td>0xb8e7c2fa</td>\n      <td>NaN</td>\n    </tr>\n  </tbody>\n</table>\n</div>"
     },
     "execution_count": 6,
     "metadata": {},
     "output_type": "execute_result"
    }
   ],
   "source": [
    "transaction_df = pd.read_csv(\"txlist_data.csv\")\n",
    "\n",
    "transaction_df"
   ],
   "metadata": {
    "collapsed": false,
    "ExecuteTime": {
     "end_time": "2023-08-13T12:33:41.067086500Z",
     "start_time": "2023-08-13T12:33:40.960714800Z"
    }
   }
  },
  {
   "cell_type": "code",
   "execution_count": 7,
   "outputs": [
    {
     "name": "stdout",
     "output_type": "stream",
     "text": [
      "The date of the warp finance flash loan attack was the 17th of December 2020\n",
      "The timestamp of 1608243881 converts to datetime: 2020-12-17 22:24:41 UTC (GMT)\n"
     ]
    }
   ],
   "source": [
    "# We know from inspecting the etherscan website that this is the correct transaction, but we will still check the timestamp matches the date of the warp finance attack\n",
    "print(\"The date of the warp finance flash loan attack was the 17th of December 2020\")\n",
    "timestamp = transaction_df[\"timeStamp\"][0]\n",
    "datetime_obj = datetime.fromtimestamp(timestamp)\n",
    "print(f\"The timestamp of {timestamp} converts to datetime: {datetime_obj} UTC (GMT)\")"
   ],
   "metadata": {
    "collapsed": false,
    "ExecuteTime": {
     "end_time": "2023-08-13T12:33:41.926230500Z",
     "start_time": "2023-08-13T12:33:41.910575900Z"
    }
   }
  },
  {
   "cell_type": "markdown",
   "source": [
    "### Internal Transactions"
   ],
   "metadata": {
    "collapsed": false
   }
  },
  {
   "cell_type": "code",
   "execution_count": 8,
   "outputs": [
    {
     "data": {
      "text/plain": "   blockNumber   timeStamp                                               hash  \\\n0     11473330  1608243881  0x8bb8dc5c7c830bac85fa48acad2505e9300a91c3ff23...   \n\n                                         from  \\\n0  0xc02aaa39b223fe8d0a0e5c4f27ead9083c756cc2   \n\n                                           to                   value  \\\n0  0xdf8bee861227ffc5eea819c332a1c170ae3dbacb  1462819418141686758539   \n\n   contractAddress  input  type   gas  gasUsed           traceId  isError  \\\n0              NaN    NaN  call  2300       41  2_1_2_1_2_1_31_0        0   \n\n   errCode  \n0      NaN  ",
      "text/html": "<div>\n<style scoped>\n    .dataframe tbody tr th:only-of-type {\n        vertical-align: middle;\n    }\n\n    .dataframe tbody tr th {\n        vertical-align: top;\n    }\n\n    .dataframe thead th {\n        text-align: right;\n    }\n</style>\n<table border=\"1\" class=\"dataframe\">\n  <thead>\n    <tr style=\"text-align: right;\">\n      <th></th>\n      <th>blockNumber</th>\n      <th>timeStamp</th>\n      <th>hash</th>\n      <th>from</th>\n      <th>to</th>\n      <th>value</th>\n      <th>contractAddress</th>\n      <th>input</th>\n      <th>type</th>\n      <th>gas</th>\n      <th>gasUsed</th>\n      <th>traceId</th>\n      <th>isError</th>\n      <th>errCode</th>\n    </tr>\n  </thead>\n  <tbody>\n    <tr>\n      <th>0</th>\n      <td>11473330</td>\n      <td>1608243881</td>\n      <td>0x8bb8dc5c7c830bac85fa48acad2505e9300a91c3ff23...</td>\n      <td>0xc02aaa39b223fe8d0a0e5c4f27ead9083c756cc2</td>\n      <td>0xdf8bee861227ffc5eea819c332a1c170ae3dbacb</td>\n      <td>1462819418141686758539</td>\n      <td>NaN</td>\n      <td>NaN</td>\n      <td>call</td>\n      <td>2300</td>\n      <td>41</td>\n      <td>2_1_2_1_2_1_31_0</td>\n      <td>0</td>\n      <td>NaN</td>\n    </tr>\n  </tbody>\n</table>\n</div>"
     },
     "execution_count": 8,
     "metadata": {},
     "output_type": "execute_result"
    }
   ],
   "source": [
    "internal_transactions_df = pd.read_csv(\"txlistinternal_data.csv\")\n",
    "\n",
    "internal_transactions_df"
   ],
   "metadata": {
    "collapsed": false,
    "ExecuteTime": {
     "end_time": "2023-08-13T12:33:43.458380200Z",
     "start_time": "2023-08-13T12:33:43.419778600Z"
    }
   }
  },
  {
   "cell_type": "markdown",
   "source": [
    "### Token Transfers"
   ],
   "metadata": {
    "collapsed": false
   }
  },
  {
   "cell_type": "code",
   "execution_count": 32,
   "outputs": [
    {
     "data": {
      "text/plain": "   blockNumber   timeStamp                                               hash  \\\n0     11473330  1608243881  0x8bb8dc5c7c830bac85fa48acad2505e9300a91c3ff23...   \n1     11473330  1608243881  0x8bb8dc5c7c830bac85fa48acad2505e9300a91c3ff23...   \n2     11473330  1608243881  0x8bb8dc5c7c830bac85fa48acad2505e9300a91c3ff23...   \n3     11473330  1608243881  0x8bb8dc5c7c830bac85fa48acad2505e9300a91c3ff23...   \n4     11473330  1608243881  0x8bb8dc5c7c830bac85fa48acad2505e9300a91c3ff23...   \n\n   nonce                                          blockHash  \\\n0      4  0xace8f027885d93d734e046661df5e51d96d21d78d42c...   \n1      4  0xace8f027885d93d734e046661df5e51d96d21d78d42c...   \n2      4  0xace8f027885d93d734e046661df5e51d96d21d78d42c...   \n3      4  0xace8f027885d93d734e046661df5e51d96d21d78d42c...   \n4      4  0xace8f027885d93d734e046661df5e51d96d21d78d42c...   \n\n                                         from  \\\n0  0xbb2b8038a1640196fbe3e38816f3e67cba72d940   \n1  0xb4e16d0168e52d35cacd2c6185b44281ec28c9dc   \n2  0x0d4a11d5eeaac28ec3f61d100daf4d40471f1852   \n3  0x1e0447b19bb6ecfdae1e4ae1694b0c3659614e4e   \n4  0x1e0447b19bb6ecfdae1e4ae1694b0c3659614e4e   \n\n                              contractAddress  \\\n0  0xc02aaa39b223fe8d0a0e5c4f27ead9083c756cc2   \n1  0xc02aaa39b223fe8d0a0e5c4f27ead9083c756cc2   \n2  0xc02aaa39b223fe8d0a0e5c4f27ead9083c756cc2   \n3  0x6b175474e89094c44da98b954eedeac495271d0f   \n4  0xc02aaa39b223fe8d0a0e5c4f27ead9083c756cc2   \n\n                                           to                      value  \\\n0  0xdf8bee861227ffc5eea819c332a1c170ae3dbacb    90409013949210977199603   \n1  0xdf8bee861227ffc5eea819c332a1c170ae3dbacb    82798403238691593953288   \n2  0xdf8bee861227ffc5eea819c332a1c170ae3dbacb    96092504596377425124746   \n3  0xdf8bee861227ffc5eea819c332a1c170ae3dbacb  2900029981390875168951633   \n4  0xdf8bee861227ffc5eea819c332a1c170ae3dbacb    76436763597706555986902   \n\n        tokenName tokenSymbol  tokenDecimal  transactionIndex      gas  \\\n0   Wrapped Ether        WETH            18                65  3656990   \n1   Wrapped Ether        WETH            18                65  3656990   \n2   Wrapped Ether        WETH            18                65  3656990   \n3  Dai Stablecoin         DAI            18                65  3656990   \n4   Wrapped Ether        WETH            18                65  3656990   \n\n      gasPrice  gasUsed  cumulativeGasUsed       input  confirmations  \n0  89000000000  2339018            6231822  deprecated        6412857  \n1  89000000000  2339018            6231822  deprecated        6412857  \n2  89000000000  2339018            6231822  deprecated        6412857  \n3  89000000000  2339018            6231822  deprecated        6412857  \n4  89000000000  2339018            6231822  deprecated        6412857  ",
      "text/html": "<div>\n<style scoped>\n    .dataframe tbody tr th:only-of-type {\n        vertical-align: middle;\n    }\n\n    .dataframe tbody tr th {\n        vertical-align: top;\n    }\n\n    .dataframe thead th {\n        text-align: right;\n    }\n</style>\n<table border=\"1\" class=\"dataframe\">\n  <thead>\n    <tr style=\"text-align: right;\">\n      <th></th>\n      <th>blockNumber</th>\n      <th>timeStamp</th>\n      <th>hash</th>\n      <th>nonce</th>\n      <th>blockHash</th>\n      <th>from</th>\n      <th>contractAddress</th>\n      <th>to</th>\n      <th>value</th>\n      <th>tokenName</th>\n      <th>tokenSymbol</th>\n      <th>tokenDecimal</th>\n      <th>transactionIndex</th>\n      <th>gas</th>\n      <th>gasPrice</th>\n      <th>gasUsed</th>\n      <th>cumulativeGasUsed</th>\n      <th>input</th>\n      <th>confirmations</th>\n    </tr>\n  </thead>\n  <tbody>\n    <tr>\n      <th>0</th>\n      <td>11473330</td>\n      <td>1608243881</td>\n      <td>0x8bb8dc5c7c830bac85fa48acad2505e9300a91c3ff23...</td>\n      <td>4</td>\n      <td>0xace8f027885d93d734e046661df5e51d96d21d78d42c...</td>\n      <td>0xbb2b8038a1640196fbe3e38816f3e67cba72d940</td>\n      <td>0xc02aaa39b223fe8d0a0e5c4f27ead9083c756cc2</td>\n      <td>0xdf8bee861227ffc5eea819c332a1c170ae3dbacb</td>\n      <td>90409013949210977199603</td>\n      <td>Wrapped Ether</td>\n      <td>WETH</td>\n      <td>18</td>\n      <td>65</td>\n      <td>3656990</td>\n      <td>89000000000</td>\n      <td>2339018</td>\n      <td>6231822</td>\n      <td>deprecated</td>\n      <td>6412857</td>\n    </tr>\n    <tr>\n      <th>1</th>\n      <td>11473330</td>\n      <td>1608243881</td>\n      <td>0x8bb8dc5c7c830bac85fa48acad2505e9300a91c3ff23...</td>\n      <td>4</td>\n      <td>0xace8f027885d93d734e046661df5e51d96d21d78d42c...</td>\n      <td>0xb4e16d0168e52d35cacd2c6185b44281ec28c9dc</td>\n      <td>0xc02aaa39b223fe8d0a0e5c4f27ead9083c756cc2</td>\n      <td>0xdf8bee861227ffc5eea819c332a1c170ae3dbacb</td>\n      <td>82798403238691593953288</td>\n      <td>Wrapped Ether</td>\n      <td>WETH</td>\n      <td>18</td>\n      <td>65</td>\n      <td>3656990</td>\n      <td>89000000000</td>\n      <td>2339018</td>\n      <td>6231822</td>\n      <td>deprecated</td>\n      <td>6412857</td>\n    </tr>\n    <tr>\n      <th>2</th>\n      <td>11473330</td>\n      <td>1608243881</td>\n      <td>0x8bb8dc5c7c830bac85fa48acad2505e9300a91c3ff23...</td>\n      <td>4</td>\n      <td>0xace8f027885d93d734e046661df5e51d96d21d78d42c...</td>\n      <td>0x0d4a11d5eeaac28ec3f61d100daf4d40471f1852</td>\n      <td>0xc02aaa39b223fe8d0a0e5c4f27ead9083c756cc2</td>\n      <td>0xdf8bee861227ffc5eea819c332a1c170ae3dbacb</td>\n      <td>96092504596377425124746</td>\n      <td>Wrapped Ether</td>\n      <td>WETH</td>\n      <td>18</td>\n      <td>65</td>\n      <td>3656990</td>\n      <td>89000000000</td>\n      <td>2339018</td>\n      <td>6231822</td>\n      <td>deprecated</td>\n      <td>6412857</td>\n    </tr>\n    <tr>\n      <th>3</th>\n      <td>11473330</td>\n      <td>1608243881</td>\n      <td>0x8bb8dc5c7c830bac85fa48acad2505e9300a91c3ff23...</td>\n      <td>4</td>\n      <td>0xace8f027885d93d734e046661df5e51d96d21d78d42c...</td>\n      <td>0x1e0447b19bb6ecfdae1e4ae1694b0c3659614e4e</td>\n      <td>0x6b175474e89094c44da98b954eedeac495271d0f</td>\n      <td>0xdf8bee861227ffc5eea819c332a1c170ae3dbacb</td>\n      <td>2900029981390875168951633</td>\n      <td>Dai Stablecoin</td>\n      <td>DAI</td>\n      <td>18</td>\n      <td>65</td>\n      <td>3656990</td>\n      <td>89000000000</td>\n      <td>2339018</td>\n      <td>6231822</td>\n      <td>deprecated</td>\n      <td>6412857</td>\n    </tr>\n    <tr>\n      <th>4</th>\n      <td>11473330</td>\n      <td>1608243881</td>\n      <td>0x8bb8dc5c7c830bac85fa48acad2505e9300a91c3ff23...</td>\n      <td>4</td>\n      <td>0xace8f027885d93d734e046661df5e51d96d21d78d42c...</td>\n      <td>0x1e0447b19bb6ecfdae1e4ae1694b0c3659614e4e</td>\n      <td>0xc02aaa39b223fe8d0a0e5c4f27ead9083c756cc2</td>\n      <td>0xdf8bee861227ffc5eea819c332a1c170ae3dbacb</td>\n      <td>76436763597706555986902</td>\n      <td>Wrapped Ether</td>\n      <td>WETH</td>\n      <td>18</td>\n      <td>65</td>\n      <td>3656990</td>\n      <td>89000000000</td>\n      <td>2339018</td>\n      <td>6231822</td>\n      <td>deprecated</td>\n      <td>6412857</td>\n    </tr>\n  </tbody>\n</table>\n</div>"
     },
     "execution_count": 32,
     "metadata": {},
     "output_type": "execute_result"
    }
   ],
   "source": [
    "token_transfers_df = pd.read_csv(\"tokentx_data.csv\")\n",
    "\n",
    "token_transfers_df.head()"
   ],
   "metadata": {
    "collapsed": false,
    "ExecuteTime": {
     "end_time": "2023-08-13T12:44:21.771189700Z",
     "start_time": "2023-08-13T12:44:21.728137300Z"
    }
   }
  },
  {
   "cell_type": "code",
   "execution_count": 33,
   "outputs": [
    {
     "data": {
      "text/plain": "                                         from  \\\n0  0xbb2b8038a1640196fbe3e38816f3e67cba72d940   \n1  0xb4e16d0168e52d35cacd2c6185b44281ec28c9dc   \n2  0x0d4a11d5eeaac28ec3f61d100daf4d40471f1852   \n3  0x1e0447b19bb6ecfdae1e4ae1694b0c3659614e4e   \n4  0x1e0447b19bb6ecfdae1e4ae1694b0c3659614e4e   \n\n                              contractAddress  \\\n0  0xc02aaa39b223fe8d0a0e5c4f27ead9083c756cc2   \n1  0xc02aaa39b223fe8d0a0e5c4f27ead9083c756cc2   \n2  0xc02aaa39b223fe8d0a0e5c4f27ead9083c756cc2   \n3  0x6b175474e89094c44da98b954eedeac495271d0f   \n4  0xc02aaa39b223fe8d0a0e5c4f27ead9083c756cc2   \n\n                                           to                      value  \\\n0  0xdf8bee861227ffc5eea819c332a1c170ae3dbacb    90409013949210977199603   \n1  0xdf8bee861227ffc5eea819c332a1c170ae3dbacb    82798403238691593953288   \n2  0xdf8bee861227ffc5eea819c332a1c170ae3dbacb    96092504596377425124746   \n3  0xdf8bee861227ffc5eea819c332a1c170ae3dbacb  2900029981390875168951633   \n4  0xdf8bee861227ffc5eea819c332a1c170ae3dbacb    76436763597706555986902   \n\n  tokenSymbol  tokenDecimal  \n0        WETH            18  \n1        WETH            18  \n2        WETH            18  \n3         DAI            18  \n4        WETH            18  ",
      "text/html": "<div>\n<style scoped>\n    .dataframe tbody tr th:only-of-type {\n        vertical-align: middle;\n    }\n\n    .dataframe tbody tr th {\n        vertical-align: top;\n    }\n\n    .dataframe thead th {\n        text-align: right;\n    }\n</style>\n<table border=\"1\" class=\"dataframe\">\n  <thead>\n    <tr style=\"text-align: right;\">\n      <th></th>\n      <th>from</th>\n      <th>contractAddress</th>\n      <th>to</th>\n      <th>value</th>\n      <th>tokenSymbol</th>\n      <th>tokenDecimal</th>\n    </tr>\n  </thead>\n  <tbody>\n    <tr>\n      <th>0</th>\n      <td>0xbb2b8038a1640196fbe3e38816f3e67cba72d940</td>\n      <td>0xc02aaa39b223fe8d0a0e5c4f27ead9083c756cc2</td>\n      <td>0xdf8bee861227ffc5eea819c332a1c170ae3dbacb</td>\n      <td>90409013949210977199603</td>\n      <td>WETH</td>\n      <td>18</td>\n    </tr>\n    <tr>\n      <th>1</th>\n      <td>0xb4e16d0168e52d35cacd2c6185b44281ec28c9dc</td>\n      <td>0xc02aaa39b223fe8d0a0e5c4f27ead9083c756cc2</td>\n      <td>0xdf8bee861227ffc5eea819c332a1c170ae3dbacb</td>\n      <td>82798403238691593953288</td>\n      <td>WETH</td>\n      <td>18</td>\n    </tr>\n    <tr>\n      <th>2</th>\n      <td>0x0d4a11d5eeaac28ec3f61d100daf4d40471f1852</td>\n      <td>0xc02aaa39b223fe8d0a0e5c4f27ead9083c756cc2</td>\n      <td>0xdf8bee861227ffc5eea819c332a1c170ae3dbacb</td>\n      <td>96092504596377425124746</td>\n      <td>WETH</td>\n      <td>18</td>\n    </tr>\n    <tr>\n      <th>3</th>\n      <td>0x1e0447b19bb6ecfdae1e4ae1694b0c3659614e4e</td>\n      <td>0x6b175474e89094c44da98b954eedeac495271d0f</td>\n      <td>0xdf8bee861227ffc5eea819c332a1c170ae3dbacb</td>\n      <td>2900029981390875168951633</td>\n      <td>DAI</td>\n      <td>18</td>\n    </tr>\n    <tr>\n      <th>4</th>\n      <td>0x1e0447b19bb6ecfdae1e4ae1694b0c3659614e4e</td>\n      <td>0xc02aaa39b223fe8d0a0e5c4f27ead9083c756cc2</td>\n      <td>0xdf8bee861227ffc5eea819c332a1c170ae3dbacb</td>\n      <td>76436763597706555986902</td>\n      <td>WETH</td>\n      <td>18</td>\n    </tr>\n  </tbody>\n</table>\n</div>"
     },
     "execution_count": 33,
     "metadata": {},
     "output_type": "execute_result"
    }
   ],
   "source": [
    "# Removing columns that aren't relevant to the analysis\n",
    "columns_to_drop = [\"blockNumber\", \"timeStamp\", \"hash\", \"nonce\", \"blockHash\", \"tokenName\", \"transactionIndex\", \"gas\", \"gasPrice\", \"gasUsed\", \"cumulativeGasUsed\", \"input\", \"confirmations\"]\n",
    "\n",
    "token_transfers_df = token_transfers_df.drop(columns=columns_to_drop, axis=1)\n",
    "token_transfers_df.head()"
   ],
   "metadata": {
    "collapsed": false,
    "ExecuteTime": {
     "end_time": "2023-08-13T12:44:25.488371500Z",
     "start_time": "2023-08-13T12:44:25.454687900Z"
    }
   }
  },
  {
   "cell_type": "code",
   "execution_count": 34,
   "outputs": [
    {
     "data": {
      "text/plain": "                                         from  \\\n0  0xbb2b8038a1640196fbe3e38816f3e67cba72d940   \n1  0xb4e16d0168e52d35cacd2c6185b44281ec28c9dc   \n2  0x0d4a11d5eeaac28ec3f61d100daf4d40471f1852   \n3  0x1e0447b19bb6ecfdae1e4ae1694b0c3659614e4e   \n4  0x1e0447b19bb6ecfdae1e4ae1694b0c3659614e4e   \n\n                              contractAddress  \\\n0  0xc02aaa39b223fe8d0a0e5c4f27ead9083c756cc2   \n1  0xc02aaa39b223fe8d0a0e5c4f27ead9083c756cc2   \n2  0xc02aaa39b223fe8d0a0e5c4f27ead9083c756cc2   \n3  0x6b175474e89094c44da98b954eedeac495271d0f   \n4  0xc02aaa39b223fe8d0a0e5c4f27ead9083c756cc2   \n\n                                           to  smallestDenominationQuantity  \\\n0  0xdf8bee861227ffc5eea819c332a1c170ae3dbacb                  9.040901e+22   \n1  0xdf8bee861227ffc5eea819c332a1c170ae3dbacb                  8.279840e+22   \n2  0xdf8bee861227ffc5eea819c332a1c170ae3dbacb                  9.609250e+22   \n3  0xdf8bee861227ffc5eea819c332a1c170ae3dbacb                  2.900030e+24   \n4  0xdf8bee861227ffc5eea819c332a1c170ae3dbacb                  7.643676e+22   \n\n   tokenQuantity tokenSymbol  \n0   9.040901e+04        WETH  \n1   8.279840e+04        WETH  \n2   9.609250e+04        WETH  \n3   2.900030e+06         DAI  \n4   7.643676e+04        WETH  ",
      "text/html": "<div>\n<style scoped>\n    .dataframe tbody tr th:only-of-type {\n        vertical-align: middle;\n    }\n\n    .dataframe tbody tr th {\n        vertical-align: top;\n    }\n\n    .dataframe thead th {\n        text-align: right;\n    }\n</style>\n<table border=\"1\" class=\"dataframe\">\n  <thead>\n    <tr style=\"text-align: right;\">\n      <th></th>\n      <th>from</th>\n      <th>contractAddress</th>\n      <th>to</th>\n      <th>smallestDenominationQuantity</th>\n      <th>tokenQuantity</th>\n      <th>tokenSymbol</th>\n    </tr>\n  </thead>\n  <tbody>\n    <tr>\n      <th>0</th>\n      <td>0xbb2b8038a1640196fbe3e38816f3e67cba72d940</td>\n      <td>0xc02aaa39b223fe8d0a0e5c4f27ead9083c756cc2</td>\n      <td>0xdf8bee861227ffc5eea819c332a1c170ae3dbacb</td>\n      <td>9.040901e+22</td>\n      <td>9.040901e+04</td>\n      <td>WETH</td>\n    </tr>\n    <tr>\n      <th>1</th>\n      <td>0xb4e16d0168e52d35cacd2c6185b44281ec28c9dc</td>\n      <td>0xc02aaa39b223fe8d0a0e5c4f27ead9083c756cc2</td>\n      <td>0xdf8bee861227ffc5eea819c332a1c170ae3dbacb</td>\n      <td>8.279840e+22</td>\n      <td>8.279840e+04</td>\n      <td>WETH</td>\n    </tr>\n    <tr>\n      <th>2</th>\n      <td>0x0d4a11d5eeaac28ec3f61d100daf4d40471f1852</td>\n      <td>0xc02aaa39b223fe8d0a0e5c4f27ead9083c756cc2</td>\n      <td>0xdf8bee861227ffc5eea819c332a1c170ae3dbacb</td>\n      <td>9.609250e+22</td>\n      <td>9.609250e+04</td>\n      <td>WETH</td>\n    </tr>\n    <tr>\n      <th>3</th>\n      <td>0x1e0447b19bb6ecfdae1e4ae1694b0c3659614e4e</td>\n      <td>0x6b175474e89094c44da98b954eedeac495271d0f</td>\n      <td>0xdf8bee861227ffc5eea819c332a1c170ae3dbacb</td>\n      <td>2.900030e+24</td>\n      <td>2.900030e+06</td>\n      <td>DAI</td>\n    </tr>\n    <tr>\n      <th>4</th>\n      <td>0x1e0447b19bb6ecfdae1e4ae1694b0c3659614e4e</td>\n      <td>0xc02aaa39b223fe8d0a0e5c4f27ead9083c756cc2</td>\n      <td>0xdf8bee861227ffc5eea819c332a1c170ae3dbacb</td>\n      <td>7.643676e+22</td>\n      <td>7.643676e+04</td>\n      <td>WETH</td>\n    </tr>\n  </tbody>\n</table>\n</div>"
     },
     "execution_count": 34,
     "metadata": {},
     "output_type": "execute_result"
    }
   ],
   "source": [
    "# Adding a column to show the value of the transfer in Wei and in the standard token\n",
    "token_transfers_df = token_transfers_df.rename(columns={\"value\": \"smallestDenominationQuantity\"})\n",
    "\n",
    "# Converting columns to floats (numbers are too large for ints according to OverflowError)\n",
    "token_transfers_df[\"smallestDenominationQuantity\"] = token_transfers_df[\"smallestDenominationQuantity\"].astype(float)\n",
    "token_transfers_df[\"tokenDecimal\"] = token_transfers_df[\"tokenDecimal\"].astype(float)\n",
    "\n",
    "# Creating new column\n",
    "token_transfers_df[\"tokenQuantity\"] = token_transfers_df[\"smallestDenominationQuantity\"] / (10 ** token_transfers_df[\"tokenDecimal\"])\n",
    "\n",
    "# Moving the tokenQuantity next to the smallestDenomQuantity\n",
    "new_column_position = 4\n",
    "column_names = list(token_transfers_df.columns)\n",
    "column_names.insert(new_column_position, column_names.pop(column_names.index(\"tokenQuantity\")))\n",
    "token_transfers_df = token_transfers_df[column_names]\n",
    "\n",
    "# Removing tokenDecimal as it is no longer useful\n",
    "token_transfers_df = token_transfers_df.drop(columns=\"tokenDecimal\")\n",
    "\n",
    "token_transfers_df.head()"
   ],
   "metadata": {
    "collapsed": false,
    "ExecuteTime": {
     "end_time": "2023-08-13T12:44:27.152567900Z",
     "start_time": "2023-08-13T12:44:27.126516600Z"
    }
   }
  },
  {
   "cell_type": "code",
   "execution_count": 35,
   "outputs": [
    {
     "data": {
      "text/plain": "                       from         contractAddress                       to  \\\n0   Uniswap V2: WBTC/ETH LP           Wrapped Ether      Attacker's Contract   \n1   Uniswap V2: USDC/ETH LP           Wrapped Ether      Attacker's Contract   \n2   Uniswap V2: USDT/ETH LP           Wrapped Ether      Attacker's Contract   \n3         dYdX: Solo Margin          Dai Stablecoin      Attacker's Contract   \n4         dYdX: Solo Margin           Wrapped Ether      Attacker's Contract   \n5       Attacker's Contract          Dai Stablecoin   Uniswap V2: DAI/ETH LP   \n6       Attacker's Contract           Wrapped Ether   Uniswap V2: DAI/ETH LP   \n7                      Null  Uniswap V2: DAI/ETH LP      Attacker's Contract   \n8       Attacker's Contract  Uniswap V2: DAI/ETH LP            Warp Vault LP   \n9       Attacker's Contract           Wrapped Ether   Uniswap V2: DAI/ETH LP   \n10   Uniswap V2: DAI/ETH LP          Dai Stablecoin      Attacker's Contract   \n11          Warp Vault SC 1                USD Coin      Attacker's Contract   \n12          Warp Vault SC 2          Dai Stablecoin      Attacker's Contract   \n13      Attacker's Contract          Dai Stablecoin   Uniswap V2: DAI/ETH LP   \n14   Uniswap V2: DAI/ETH LP           Wrapped Ether      Attacker's Contract   \n15      Attacker's Contract          Dai Stablecoin        dYdX: Solo Margin   \n16      Attacker's Contract           Wrapped Ether        dYdX: Solo Margin   \n17      Attacker's Contract                USD Coin   SushiSwap: USDC/ETH LP   \n18   SushiSwap: USDC/ETH LP           Wrapped Ether      Attacker's Contract   \n19      Attacker's Contract           Wrapped Ether  Uniswap V2: WBTC/ETH LP   \n20      Attacker's Contract           Wrapped Ether  Uniswap V2: USDC/ETH LP   \n21      Attacker's Contract           Wrapped Ether  Uniswap V2: USDT/ETH LP   \n\n    smallestDenominationQuantity  tokenQuantity tokenSymbol  \n0                   9.040901e+22   9.040901e+04        WETH  \n1                   8.279840e+22   8.279840e+04        WETH  \n2                   9.609250e+22   9.609250e+04        WETH  \n3                   2.900030e+24   2.900030e+06         DAI  \n4                   7.643676e+22   7.643676e+04        WETH  \n5                   2.900030e+24   2.900030e+06         DAI  \n6                   4.519641e+21   4.519641e+03        WETH  \n7                   9.434934e+22   9.434934e+04      UNI-V2  \n8                   9.434934e+22   9.434934e+04      UNI-V2  \n9                   3.412170e+23   3.412170e+05        WETH  \n10                  4.762233e+25   4.762233e+07         DAI  \n11                  3.917984e+12   3.917984e+06        USDC  \n12                  3.862647e+24   3.862647e+06         DAI  \n13                  4.858495e+25   4.858495e+07         DAI  \n14                  3.422529e+23   3.422529e+05        WETH  \n15                  2.900030e+24   2.900030e+06         DAI  \n16                  7.643676e+22   7.643676e+04        WETH  \n17                  3.917984e+12   3.917984e+06        USDC  \n18                  5.757514e+21   5.757514e+03        WETH  \n19                  9.068124e+22   9.068124e+04        WETH  \n20                  8.304780e+22   8.304780e+04        WETH  \n21                  9.638178e+22   9.638178e+04        WETH  ",
      "text/html": "<div>\n<style scoped>\n    .dataframe tbody tr th:only-of-type {\n        vertical-align: middle;\n    }\n\n    .dataframe tbody tr th {\n        vertical-align: top;\n    }\n\n    .dataframe thead th {\n        text-align: right;\n    }\n</style>\n<table border=\"1\" class=\"dataframe\">\n  <thead>\n    <tr style=\"text-align: right;\">\n      <th></th>\n      <th>from</th>\n      <th>contractAddress</th>\n      <th>to</th>\n      <th>smallestDenominationQuantity</th>\n      <th>tokenQuantity</th>\n      <th>tokenSymbol</th>\n    </tr>\n  </thead>\n  <tbody>\n    <tr>\n      <th>0</th>\n      <td>Uniswap V2: WBTC/ETH LP</td>\n      <td>Wrapped Ether</td>\n      <td>Attacker's Contract</td>\n      <td>9.040901e+22</td>\n      <td>9.040901e+04</td>\n      <td>WETH</td>\n    </tr>\n    <tr>\n      <th>1</th>\n      <td>Uniswap V2: USDC/ETH LP</td>\n      <td>Wrapped Ether</td>\n      <td>Attacker's Contract</td>\n      <td>8.279840e+22</td>\n      <td>8.279840e+04</td>\n      <td>WETH</td>\n    </tr>\n    <tr>\n      <th>2</th>\n      <td>Uniswap V2: USDT/ETH LP</td>\n      <td>Wrapped Ether</td>\n      <td>Attacker's Contract</td>\n      <td>9.609250e+22</td>\n      <td>9.609250e+04</td>\n      <td>WETH</td>\n    </tr>\n    <tr>\n      <th>3</th>\n      <td>dYdX: Solo Margin</td>\n      <td>Dai Stablecoin</td>\n      <td>Attacker's Contract</td>\n      <td>2.900030e+24</td>\n      <td>2.900030e+06</td>\n      <td>DAI</td>\n    </tr>\n    <tr>\n      <th>4</th>\n      <td>dYdX: Solo Margin</td>\n      <td>Wrapped Ether</td>\n      <td>Attacker's Contract</td>\n      <td>7.643676e+22</td>\n      <td>7.643676e+04</td>\n      <td>WETH</td>\n    </tr>\n    <tr>\n      <th>5</th>\n      <td>Attacker's Contract</td>\n      <td>Dai Stablecoin</td>\n      <td>Uniswap V2: DAI/ETH LP</td>\n      <td>2.900030e+24</td>\n      <td>2.900030e+06</td>\n      <td>DAI</td>\n    </tr>\n    <tr>\n      <th>6</th>\n      <td>Attacker's Contract</td>\n      <td>Wrapped Ether</td>\n      <td>Uniswap V2: DAI/ETH LP</td>\n      <td>4.519641e+21</td>\n      <td>4.519641e+03</td>\n      <td>WETH</td>\n    </tr>\n    <tr>\n      <th>7</th>\n      <td>Null</td>\n      <td>Uniswap V2: DAI/ETH LP</td>\n      <td>Attacker's Contract</td>\n      <td>9.434934e+22</td>\n      <td>9.434934e+04</td>\n      <td>UNI-V2</td>\n    </tr>\n    <tr>\n      <th>8</th>\n      <td>Attacker's Contract</td>\n      <td>Uniswap V2: DAI/ETH LP</td>\n      <td>Warp Vault LP</td>\n      <td>9.434934e+22</td>\n      <td>9.434934e+04</td>\n      <td>UNI-V2</td>\n    </tr>\n    <tr>\n      <th>9</th>\n      <td>Attacker's Contract</td>\n      <td>Wrapped Ether</td>\n      <td>Uniswap V2: DAI/ETH LP</td>\n      <td>3.412170e+23</td>\n      <td>3.412170e+05</td>\n      <td>WETH</td>\n    </tr>\n    <tr>\n      <th>10</th>\n      <td>Uniswap V2: DAI/ETH LP</td>\n      <td>Dai Stablecoin</td>\n      <td>Attacker's Contract</td>\n      <td>4.762233e+25</td>\n      <td>4.762233e+07</td>\n      <td>DAI</td>\n    </tr>\n    <tr>\n      <th>11</th>\n      <td>Warp Vault SC 1</td>\n      <td>USD Coin</td>\n      <td>Attacker's Contract</td>\n      <td>3.917984e+12</td>\n      <td>3.917984e+06</td>\n      <td>USDC</td>\n    </tr>\n    <tr>\n      <th>12</th>\n      <td>Warp Vault SC 2</td>\n      <td>Dai Stablecoin</td>\n      <td>Attacker's Contract</td>\n      <td>3.862647e+24</td>\n      <td>3.862647e+06</td>\n      <td>DAI</td>\n    </tr>\n    <tr>\n      <th>13</th>\n      <td>Attacker's Contract</td>\n      <td>Dai Stablecoin</td>\n      <td>Uniswap V2: DAI/ETH LP</td>\n      <td>4.858495e+25</td>\n      <td>4.858495e+07</td>\n      <td>DAI</td>\n    </tr>\n    <tr>\n      <th>14</th>\n      <td>Uniswap V2: DAI/ETH LP</td>\n      <td>Wrapped Ether</td>\n      <td>Attacker's Contract</td>\n      <td>3.422529e+23</td>\n      <td>3.422529e+05</td>\n      <td>WETH</td>\n    </tr>\n    <tr>\n      <th>15</th>\n      <td>Attacker's Contract</td>\n      <td>Dai Stablecoin</td>\n      <td>dYdX: Solo Margin</td>\n      <td>2.900030e+24</td>\n      <td>2.900030e+06</td>\n      <td>DAI</td>\n    </tr>\n    <tr>\n      <th>16</th>\n      <td>Attacker's Contract</td>\n      <td>Wrapped Ether</td>\n      <td>dYdX: Solo Margin</td>\n      <td>7.643676e+22</td>\n      <td>7.643676e+04</td>\n      <td>WETH</td>\n    </tr>\n    <tr>\n      <th>17</th>\n      <td>Attacker's Contract</td>\n      <td>USD Coin</td>\n      <td>SushiSwap: USDC/ETH LP</td>\n      <td>3.917984e+12</td>\n      <td>3.917984e+06</td>\n      <td>USDC</td>\n    </tr>\n    <tr>\n      <th>18</th>\n      <td>SushiSwap: USDC/ETH LP</td>\n      <td>Wrapped Ether</td>\n      <td>Attacker's Contract</td>\n      <td>5.757514e+21</td>\n      <td>5.757514e+03</td>\n      <td>WETH</td>\n    </tr>\n    <tr>\n      <th>19</th>\n      <td>Attacker's Contract</td>\n      <td>Wrapped Ether</td>\n      <td>Uniswap V2: WBTC/ETH LP</td>\n      <td>9.068124e+22</td>\n      <td>9.068124e+04</td>\n      <td>WETH</td>\n    </tr>\n    <tr>\n      <th>20</th>\n      <td>Attacker's Contract</td>\n      <td>Wrapped Ether</td>\n      <td>Uniswap V2: USDC/ETH LP</td>\n      <td>8.304780e+22</td>\n      <td>8.304780e+04</td>\n      <td>WETH</td>\n    </tr>\n    <tr>\n      <th>21</th>\n      <td>Attacker's Contract</td>\n      <td>Wrapped Ether</td>\n      <td>Uniswap V2: USDT/ETH LP</td>\n      <td>9.638178e+22</td>\n      <td>9.638178e+04</td>\n      <td>WETH</td>\n    </tr>\n  </tbody>\n</table>\n</div>"
     },
     "execution_count": 35,
     "metadata": {},
     "output_type": "execute_result"
    }
   ],
   "source": [
    "# Creating a dictionary to translate hex addresses into known tokens, DApps, and contracts\n",
    "address_dictionary = {\n",
    "    \"0xeBc6bD6aC2C9AD4adf4BA57E9F709b8B9CF03C40\": \"Attacker\",\n",
    "    \"0xdF8BEE861227FFC5EEA819C332A1C170Ae3dbACb\": \"Attacker's Contract\",\n",
    "    \"0xBb2b8038a1640196FbE3e38816F3e67Cba72D940\": \"Uniswap V2: WBTC/ETH LP\",\n",
    "    \"0xB4e16d0168e52d35CaCD2c6185b44281Ec28C9Dc\": \"Uniswap V2: USDC/ETH LP\",\n",
    "    \"0x0d4a11d5EEaaC28EC3F61d100daF4d40471f1852\": \"Uniswap V2: USDT/ETH LP\",\n",
    "    \"0xA478c2975Ab1Ea89e8196811F51A7B7Ade33eB11\": \"Uniswap V2: DAI/ETH LP\",\n",
    "    \"0x1E0447b19BB6EcFdAe1e4AE1694b0C3659614e4e\": \"dYdX: Solo Margin\",\n",
    "    \"0x0000000000000000000000000000000000000000\": \"Null\",\n",
    "    \"0x13db1CB418573f4c3A2ea36486F0E421bC0D2427\": \"Warp Vault LP\",\n",
    "    \"0xae465FD39B519602eE28F062037F7B9c41FDc8cF\": \"Warp Vault SC 1\",\n",
    "    \"0x6046c3Ab74e6cE761d218B9117d5c63200f4b406\": \"Warp Vault SC 2\",\n",
    "    \"0x397FF1542f962076d0BFE58eA045FfA2d347ACa0\": \"SushiSwap: USDC/ETH LP\",\n",
    "    \"0xC02aaA39b223FE8D0A0e5C4F27eAD9083C756Cc2\": \"Wrapped Ether\",\n",
    "    \"0x6B175474E89094C44Da98b954EedeAC495271d0F\": \"Dai Stablecoin\",\n",
    "    \"0xA0b86991c6218b36c1d19D4a2e9Eb0cE3606eB48\": \"USD Coin\"\n",
    "}\n",
    "\n",
    "# Converting dictionary keys to lowercase\n",
    "address_dictionary = {key.lower(): value for key, value in address_dictionary.items()}\n",
    "\n",
    "# Replacing addresses with corresponding public names from the dictionary\n",
    "token_transfers_df = token_transfers_df.replace(address_dictionary)\n",
    "\n",
    "token_transfers_df"
   ],
   "metadata": {
    "collapsed": false,
    "ExecuteTime": {
     "end_time": "2023-08-13T12:44:28.745674200Z",
     "start_time": "2023-08-13T12:44:28.709465100Z"
    }
   }
  },
  {
   "cell_type": "markdown",
   "source": [
    "## Damage Model Formulation (Warp Finance)"
   ],
   "metadata": {
    "collapsed": false
   }
  },
  {
   "cell_type": "code",
   "execution_count": null,
   "outputs": [],
   "source": [],
   "metadata": {
    "collapsed": false
   }
  },
  {
   "cell_type": "markdown",
   "source": [
    "## Damage Model Validation (Warp Finance)"
   ],
   "metadata": {
    "collapsed": false
   }
  },
  {
   "cell_type": "code",
   "execution_count": null,
   "outputs": [],
   "source": [],
   "metadata": {
    "collapsed": false
   }
  },
  {
   "cell_type": "markdown",
   "source": [
    "## Damage Model Formulation (Fair Reserve)"
   ],
   "metadata": {
    "collapsed": false
   }
  },
  {
   "cell_type": "code",
   "execution_count": null,
   "outputs": [],
   "source": [],
   "metadata": {
    "collapsed": false
   }
  },
  {
   "cell_type": "markdown",
   "source": [
    "## Mitigation Test"
   ],
   "metadata": {
    "collapsed": false
   }
  },
  {
   "cell_type": "code",
   "execution_count": null,
   "outputs": [],
   "source": [],
   "metadata": {
    "collapsed": false
   }
  },
  {
   "cell_type": "markdown",
   "source": [
    "## Internal Parameter Adjustment"
   ],
   "metadata": {
    "collapsed": false
   }
  },
  {
   "cell_type": "code",
   "execution_count": null,
   "outputs": [],
   "source": [],
   "metadata": {
    "collapsed": false
   }
  },
  {
   "cell_type": "markdown",
   "source": [
    "## External Parameter Adjustment"
   ],
   "metadata": {
    "collapsed": false
   }
  },
  {
   "cell_type": "code",
   "execution_count": null,
   "outputs": [],
   "source": [],
   "metadata": {
    "collapsed": false
   }
  }
 ],
 "metadata": {
  "kernelspec": {
   "display_name": "Python 3",
   "language": "python",
   "name": "python3"
  },
  "language_info": {
   "codemirror_mode": {
    "name": "ipython",
    "version": 2
   },
   "file_extension": ".py",
   "mimetype": "text/x-python",
   "name": "python",
   "nbconvert_exporter": "python",
   "pygments_lexer": "ipython2",
   "version": "2.7.6"
  }
 },
 "nbformat": 4,
 "nbformat_minor": 0
}
