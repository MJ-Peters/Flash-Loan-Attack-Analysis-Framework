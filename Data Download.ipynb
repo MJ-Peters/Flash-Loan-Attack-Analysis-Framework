{
 "cells": [
  {
   "cell_type": "code",
   "execution_count": null,
   "metadata": {
    "collapsed": true
   },
   "outputs": [],
   "source": [
    "import pymysql\n",
    "from web3 import Web3"
   ]
  },
  {
   "cell_type": "code",
   "execution_count": null,
   "outputs": [],
   "source": [
    "# Alchemy API endpoint\n",
    "alchemy_url = \"https://eth-mainnet.alchemyapi.io/v2/your_alchemy_api_key\"  # Update with your Alchemy API endpoint\n",
    "\n",
    "# Database connection settings\n",
    "db_host = \"localhost\"  # Update with your database host\n",
    "db_user = \"root\"  # Update with your database username\n",
    "db_password = \"E4s7b0urn3ru9by#!\"  # Update with your database password\n",
    "db_name = \"ethereum block 11,473,329\"  # Update with your database name"
   ],
   "metadata": {
    "collapsed": false
   }
  },
  {
   "cell_type": "code",
   "execution_count": null,
   "outputs": [],
   "source": [
    "# Ethereum block number to fetch\n",
    "block_number = 11473329  # Ethereum blockchain, block number 11,473,329\n",
    "\n",
    "# Connect to the Alchemy API\n",
    "w3 = Web3(Web3.HTTPProvider(alchemy_url))\n",
    "\n",
    "# Connect to the database\n",
    "db = pymysql.connect(host=db_host, user=db_user, password=db_password, db=db_name)\n",
    "cursor = db.cursor()\n",
    "\n",
    "try:\n",
    "    # Fetch the block data from Alchemy\n",
    "    block = w3.eth.get_block(block_number)\n",
    "\n",
    "    # Extract all relevant data from the block\n",
    "    block_data = {}\n",
    "    for key in block:\n",
    "        value = getattr(block, key)\n",
    "        if isinstance(value, bytes):\n",
    "            value = value.hex()\n",
    "        elif key in ['transactions', 'uncles']:\n",
    "            value = ','.join(value)\n",
    "        block_data[key] = value\n",
    "\n",
    "    # Prepare the column names and placeholders for the query\n",
    "    columns = ', '.join(block_data.keys())\n",
    "    placeholders = ', '.join(['%s'] * len(block_data))\n",
    "\n",
    "    # Prepare the values for the query\n",
    "    values = tuple(block_data.values())\n",
    "\n",
    "    # Insert the block data into the database\n",
    "    query = f\"INSERT INTO blocks ({columns}) VALUES ({placeholders})\"\n",
    "    cursor.execute(query, values)\n",
    "\n",
    "\n",
    "    # Commit the transaction\n",
    "    db.commit()\n",
    "\n",
    "# Close the database connection\n",
    "finally:\n",
    "    cursor.close()\n",
    "    db.close()"
   ],
   "metadata": {
    "collapsed": false
   }
  },
  {
   "cell_type": "code",
   "execution_count": null,
   "outputs": [],
   "source": [],
   "metadata": {
    "collapsed": false
   }
  }
 ],
 "metadata": {
  "kernelspec": {
   "display_name": "Python 3",
   "language": "python",
   "name": "python3"
  },
  "language_info": {
   "codemirror_mode": {
    "name": "ipython",
    "version": 2
   },
   "file_extension": ".py",
   "mimetype": "text/x-python",
   "name": "python",
   "nbconvert_exporter": "python",
   "pygments_lexer": "ipython2",
   "version": "2.7.6"
  }
 },
 "nbformat": 4,
 "nbformat_minor": 0
}
