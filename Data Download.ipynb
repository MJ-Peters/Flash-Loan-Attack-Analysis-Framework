{
 "cells": [
  {
   "cell_type": "code",
   "execution_count": 4,
   "metadata": {
    "collapsed": true,
    "ExecuteTime": {
     "end_time": "2023-08-07T14:15:04.991993Z",
     "start_time": "2023-08-07T14:15:04.983661200Z"
    }
   },
   "outputs": [],
   "source": [
    "import csv\n",
    "from web3 import Web3"
   ]
  },
  {
   "cell_type": "code",
   "execution_count": 5,
   "outputs": [],
   "source": [
    "# Alchemy API endpoint\n",
    "alchemy_url = \"https://eth-mainnet.g.alchemy.com/v2/D3TvA93qUD44YZgQu1ouV9upn3m-uIYP\"  # Update with your Alchemy API endpoint\n",
    "\n",
    "# Connect to the Alchemy API\n",
    "w3 = Web3(Web3.HTTPProvider(alchemy_url))"
   ],
   "metadata": {
    "collapsed": false,
    "ExecuteTime": {
     "end_time": "2023-08-07T14:15:05.491071100Z",
     "start_time": "2023-08-07T14:15:05.482096500Z"
    }
   }
  },
  {
   "cell_type": "code",
   "execution_count": 10,
   "outputs": [
    {
     "name": "stdout",
     "output_type": "stream",
     "text": [
      "Transaction data saved to block_11473329_transactions.csv\n"
     ]
    }
   ],
   "source": [
    "# Ethereum block number to fetch\n",
    "block_number = 11473329  # Ethereum blockchain, block number 11,473,329\n",
    "\n",
    "# Fetch the block data from Alchemy\n",
    "block = w3.eth.get_block(block_number)\n",
    "\n",
    "# Define the CSV file name\n",
    "csv_file_name = f\"block_{block_number}_transactions.csv\"\n",
    "\n",
    "# Write the transaction data to a CSV file\n",
    "with open(csv_file_name, mode=\"w\", newline=\"\", encoding=\"utf-8\") as csv_file:\n",
    "    fieldnames = [\n",
    "        \"transaction_hash\",\n",
    "        \"from_address\",\n",
    "        \"to_address\",\n",
    "        \"value_wei\",\n",
    "        \"gas\",\n",
    "        \"gas_price_wei\",\n",
    "        \"input_data\",\n",
    "        # Add more fields here\n",
    "    ]\n",
    "    writer = csv.DictWriter(csv_file, fieldnames=fieldnames)\n",
    "\n",
    "    # Write the header\n",
    "    writer.writeheader()\n",
    "\n",
    "    # Extract and write transaction data\n",
    "    for tx_hash in block.transactions:\n",
    "        tx = w3.eth.get_transaction(tx_hash)\n",
    "        tx_data = {\n",
    "            \"transaction_hash\": tx.hash.hex(),\n",
    "            \"from_address\": tx[\"from\"],\n",
    "            \"to_address\": tx[\"to\"],\n",
    "            \"value_wei\": tx[\"value\"],\n",
    "            \"gas\": tx[\"gas\"],\n",
    "            \"gas_price_wei\": tx[\"gasPrice\"],\n",
    "            \"input_data\": tx[\"input\"],\n",
    "            # Add more data fields here\n",
    "        }\n",
    "        writer.writerow(tx_data)\n",
    "\n",
    "print(f\"Transaction data saved to {csv_file_name}\")"
   ],
   "metadata": {
    "collapsed": false,
    "ExecuteTime": {
     "end_time": "2023-08-07T14:18:52.188229Z",
     "start_time": "2023-08-07T14:18:07.349762100Z"
    }
   }
  },
  {
   "cell_type": "code",
   "execution_count": null,
   "outputs": [],
   "source": [],
   "metadata": {
    "collapsed": false
   }
  }
 ],
 "metadata": {
  "kernelspec": {
   "display_name": "Python 3",
   "language": "python",
   "name": "python3"
  },
  "language_info": {
   "codemirror_mode": {
    "name": "ipython",
    "version": 2
   },
   "file_extension": ".py",
   "mimetype": "text/x-python",
   "name": "python",
   "nbconvert_exporter": "python",
   "pygments_lexer": "ipython2",
   "version": "2.7.6"
  }
 },
 "nbformat": 4,
 "nbformat_minor": 0
}
