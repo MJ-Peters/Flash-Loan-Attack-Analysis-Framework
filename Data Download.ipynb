{
 "cells": [
  {
   "cell_type": "code",
   "execution_count": 4,
   "metadata": {
    "collapsed": true,
    "ExecuteTime": {
     "end_time": "2023-08-08T11:34:01.753488400Z",
     "start_time": "2023-08-08T11:34:01.743418Z"
    }
   },
   "outputs": [],
   "source": [
    "import csv\n",
    "from web3 import Web3"
   ]
  },
  {
   "cell_type": "code",
   "execution_count": 5,
   "outputs": [],
   "source": [
    "# Alchemy API endpoint\n",
    "alchemy_url = \"https://eth-mainnet.g.alchemy.com/v2/D3TvA93qUD44YZgQu1ouV9upn3m-uIYP\"\n",
    "\n",
    "# Connect to the Alchemy API\n",
    "w3 = Web3(Web3.HTTPProvider(alchemy_url))"
   ],
   "metadata": {
    "collapsed": false,
    "ExecuteTime": {
     "end_time": "2023-08-08T11:34:02.324709100Z",
     "start_time": "2023-08-08T11:34:02.318653400Z"
    }
   }
  },
  {
   "cell_type": "code",
   "execution_count": 15,
   "outputs": [
    {
     "name": "stdout",
     "output_type": "stream",
     "text": [
      "Transaction data saved to block_11473329_transactions.csv\n"
     ]
    }
   ],
   "source": [
    "# Ethereum block number to fetch\n",
    "block_number = 11473329  # Ethereum blockchain, block number 11,473,329\n",
    "\n",
    "# Fetch the block data from Alchemy\n",
    "block = w3.eth.get_block(block_number)\n",
    "\n",
    "# Define the CSV file name\n",
    "csv_file_name = f\"block_{block_number}_transactions.csv\"\n",
    "\n",
    "# Write the transaction data to a CSV file\n",
    "with open(csv_file_name, mode=\"w\", newline=\"\", encoding=\"utf-8\") as csv_file:\n",
    "    fieldnames = [\n",
    "        \"transaction_index\",  # Position of the transaction within the block\n",
    "        \"transaction_hash\",  # Unique identifier for the transaction\n",
    "        \"status\",  # Indicates whether the transaction succeeded (1) or failed (0)\n",
    "        \"from_address\",  # Ethereum address of the sender\n",
    "        \"to_address\",  # Ethereum address of the recipient\n",
    "        \"transaction_type\",  # Indicates the type of transaction (value transfer or smart contract interaction)\n",
    "        #\"token_transfers\",  # Information about token transfers in the transaction\n",
    "        \"value_wei\",  # The value of the transaction (10^18 Wei = 1 ETH)\n",
    "        \"contract_address\",  # Address of the newly created contract (if applicable)\n",
    "        \"input_data\",  # Potentially useful information for smart contract functions and parameters used\n",
    "    ]\n",
    "\n",
    "    writer = csv.DictWriter(csv_file, fieldnames=fieldnames)\n",
    "\n",
    "    # Write the header\n",
    "    writer.writeheader()\n",
    "\n",
    "    # Extract and write transaction data\n",
    "    for tx_hash in block.transactions:\n",
    "        tx = w3.eth.get_transaction(tx_hash)\n",
    "        tx_index = block.transactions.index(tx_hash)  # Corrected position retrieval\n",
    "\n",
    "        # Determine the transaction status based on the receipt\n",
    "        receipt = w3.eth.get_transaction_receipt(tx_hash)\n",
    "        status = \"1\" if receipt and receipt.status == 1 else \"0\"\n",
    "\n",
    "        tx_data = {\n",
    "            \"transaction_index\": tx_index,\n",
    "            \"transaction_hash\": tx.hash.hex(),\n",
    "            \"status\": status,\n",
    "            \"from_address\": tx[\"from\"],\n",
    "            \"to_address\": tx[\"to\"],\n",
    "            \"transaction_type\": \"Value Transfer\" if str(tx[\"input\"]) == \"b''\" else \"Smart Contract Interaction\",\n",
    "            # \"token_transfers\": \"\",  # Placeholder for token transfer information\n",
    "            \"value_wei\": tx[\"value\"],\n",
    "            \"contract_address\": tx[\"to\"] if str(tx[\"input\"]) != \"b''\" else \"N/A\",\n",
    "            \"input_data\": tx[\"input\"],\n",
    "        }\n",
    "\n",
    "        writer.writerow(tx_data)\n",
    "\n",
    "print(f\"Transaction data saved to {csv_file_name}\")"
   ],
   "metadata": {
    "collapsed": false,
    "ExecuteTime": {
     "end_time": "2023-08-08T12:15:35.813426100Z",
     "start_time": "2023-08-08T12:14:00.319020200Z"
    }
   }
  },
  {
   "cell_type": "code",
   "execution_count": null,
   "outputs": [],
   "source": [],
   "metadata": {
    "collapsed": false
   }
  }
 ],
 "metadata": {
  "kernelspec": {
   "display_name": "Python 3",
   "language": "python",
   "name": "python3"
  },
  "language_info": {
   "codemirror_mode": {
    "name": "ipython",
    "version": 2
   },
   "file_extension": ".py",
   "mimetype": "text/x-python",
   "name": "python",
   "nbconvert_exporter": "python",
   "pygments_lexer": "ipython2",
   "version": "2.7.6"
  }
 },
 "nbformat": 4,
 "nbformat_minor": 0
}
