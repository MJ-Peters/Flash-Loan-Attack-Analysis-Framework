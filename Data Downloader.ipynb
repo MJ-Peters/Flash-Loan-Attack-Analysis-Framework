{
 "cells": [
  {
   "cell_type": "markdown",
   "source": [
    "## Download Transaction Data"
   ],
   "metadata": {
    "collapsed": false
   }
  },
  {
   "cell_type": "markdown",
   "source": [
    "### Overall Transaction"
   ],
   "metadata": {
    "collapsed": false
   }
  },
  {
   "cell_type": "code",
   "execution_count": 1,
   "outputs": [
    {
     "name": "stdout",
     "output_type": "stream",
     "text": [
      "Transaction data saved to txlist_data.csv\n"
     ]
    }
   ],
   "source": [
    "import requests\n",
    "import csv\n",
    "\n",
    "# Defining parameters for the API url\n",
    "action = \"txlist\"  # list of transactions that the address is involved in\n",
    "contract_address = \"0xdF8BEE861227FFC5EEA819C332A1C170Ae3dbACb\"  # Flash loan attack contract address\n",
    "startblock = \"11473329\"  # Just in case startblock isn't inclusive\n",
    "endblock = \"11473331\"  # Just in case endblock isn't inclusive\n",
    "etherscan_key = \"N47DFYEVCHHBAY1HPD8FMTDFP3AGF8G5X7\"  # API key to access blockchain data\n",
    "\n",
    "etherscan_url = f\"https://api.etherscan.io/api?module=account&action={action}&address={contract_address}&startblock={startblock}&endblock={endblock}&sort=asc&apikey={etherscan_key}\"\n",
    "\n",
    "# Fetching the data from etherscan\n",
    "response = requests.post(etherscan_url)\n",
    "data = response.json()\n",
    "\n",
    "# Defining CSV file name\n",
    "csv_file_name = f\"{action}_data.csv\"\n",
    "\n",
    "# Writing the response data to a CSV file\n",
    "with open(csv_file_name, mode=\"w\", newline=\"\", encoding=\"utf-8\") as csv_file:\n",
    "    fieldnames = [\n",
    "        \"blockNumber\",\n",
    "        \"timeStamp\",\n",
    "        \"hash\",\n",
    "        \"nonce\",\n",
    "        \"blockHash\",\n",
    "        \"transactionIndex\",\n",
    "        \"from\",\n",
    "        \"to\",\n",
    "        \"value\",\n",
    "        \"gas\",\n",
    "        \"gasPrice\",\n",
    "        \"isError\",\n",
    "        \"txreceipt_status\",\n",
    "        \"input\",\n",
    "        \"contractAddress\",\n",
    "        \"cumulativeGasUsed\",\n",
    "        \"gasUsed\",\n",
    "        \"confirmations\",\n",
    "        \"methodId\",\n",
    "        \"functionName\"\n",
    "    ]\n",
    "    writer = csv.DictWriter(csv_file, fieldnames=fieldnames)\n",
    "    writer.writeheader()\n",
    "\n",
    "    # Writing the response data to the CSV file\n",
    "    for item in data[\"result\"]:\n",
    "        writer.writerow(item)\n",
    "\n",
    "print(f\"Transaction data saved to {csv_file_name}\")"
   ],
   "metadata": {
    "collapsed": false,
    "ExecuteTime": {
     "end_time": "2023-08-18T10:17:15.119068900Z",
     "start_time": "2023-08-18T10:17:14.357401900Z"
    }
   }
  },
  {
   "cell_type": "markdown",
   "source": [
    "### Token Transfers Within Transaction"
   ],
   "metadata": {
    "collapsed": false
   }
  },
  {
   "cell_type": "code",
   "execution_count": 2,
   "outputs": [
    {
     "name": "stdout",
     "output_type": "stream",
     "text": [
      "Token transfers data saved to tokentx_data.csv\n"
     ]
    }
   ],
   "source": [
    "# Defining parameters for the API url\n",
    "action = \"tokentx\"  # token transfers\n",
    "contract_address = \"0xdF8BEE861227FFC5EEA819C332A1C170Ae3dbACb\"  # Flash loan attack contract address\n",
    "startblock = \"11473329\"  # Just in case startblock isn't inclusive\n",
    "endblock = \"11473331\"  # Just in case endblock isn't inclusive\n",
    "etherscan_key = \"N47DFYEVCHHBAY1HPD8FMTDFP3AGF8G5X7\"  # API key to access blockchain data\n",
    "\n",
    "etherscan_url = f\"https://api.etherscan.io/api?module=account&action={action}&address={contract_address}&startblock={startblock}&endblock={endblock}&sort=asc&apikey={etherscan_key}\"\n",
    "\n",
    "# Fetching the data from etherscan\n",
    "response = requests.get(etherscan_url)\n",
    "data = response.json()\n",
    "\n",
    "# Defining CSV file name\n",
    "csv_file_name = f\"{action}_data.csv\"\n",
    "\n",
    "# Extracting relevant fields from the JSON data\n",
    "results = data.get(\"result\", [])\n",
    "\n",
    "# Writing the extracted data to a CSV file\n",
    "with open(csv_file_name, mode=\"w\", newline=\"\", encoding=\"utf-8\") as csv_file:\n",
    "    fieldnames = [\n",
    "        \"blockNumber\",\n",
    "        \"timeStamp\",\n",
    "        \"hash\",\n",
    "        \"nonce\",\n",
    "        \"blockHash\",\n",
    "        \"from\",\n",
    "        \"contractAddress\",\n",
    "        \"to\",\n",
    "        \"value\",\n",
    "        \"tokenName\",\n",
    "        \"tokenSymbol\",\n",
    "        \"tokenDecimal\",  # number of digits in smallest unit, i.e. Wei is 1*10^18\n",
    "        \"transactionIndex\",\n",
    "        \"gas\",\n",
    "        \"gasPrice\",\n",
    "        \"gasUsed\",\n",
    "        \"cumulativeGasUsed\",\n",
    "        \"input\",\n",
    "        \"confirmations\"\n",
    "    ]\n",
    "    writer = csv.DictWriter(csv_file, fieldnames=fieldnames)\n",
    "    writer.writeheader()\n",
    "\n",
    "    # Writing the extracted data to the CSV file\n",
    "    writer.writerows(results)\n",
    "\n",
    "print(f\"Token transfers data saved to {csv_file_name}\")"
   ],
   "metadata": {
    "collapsed": false,
    "ExecuteTime": {
     "end_time": "2023-08-13T17:59:36.959545700Z",
     "start_time": "2023-08-13T17:59:36.227791Z"
    }
   }
  },
  {
   "cell_type": "markdown",
   "source": [
    "### Internal Transaction"
   ],
   "metadata": {
    "collapsed": false
   }
  },
  {
   "cell_type": "code",
   "execution_count": 3,
   "outputs": [
    {
     "name": "stdout",
     "output_type": "stream",
     "text": [
      "Internal transactions data saved to txlistinternal_data.csv\n"
     ]
    }
   ],
   "source": [
    "# This transaction shows the transferal of 1462.82 ether from the wrapped ether address to the contract address\n",
    "# I.e. this is what the attacker walked away with\n",
    "\n",
    "# Defining parameters for the API url\n",
    "action = \"txlistinternal\"  # Internal transfers list\n",
    "contract_address = \"0xdF8BEE861227FFC5EEA819C332A1C170Ae3dbACb\"  # Flash loan attack contract address\n",
    "startblock = \"11473329\"  # Just in case startblock isn't inclusive\n",
    "endblock = \"11473331\"  # Just in case endblock isn't inclusive\n",
    "etherscan_key = \"N47DFYEVCHHBAY1HPD8FMTDFP3AGF8G5X7\"  # API key to access blockchain data\n",
    "\n",
    "etherscan_url = f\"https://api.etherscan.io/api?module=account&action={action}&address={contract_address}&startblock={startblock}&endblock={endblock}&sort=asc&apikey={etherscan_key}\"\n",
    "\n",
    "# Fetching the data from etherscan\n",
    "response = requests.post(etherscan_url)\n",
    "data = response.json()\n",
    "\n",
    "# Defining CSV file name\n",
    "csv_file_name = f\"{action}_data.csv\"\n",
    "\n",
    "# Writing the response data to a CSV file\n",
    "with open(csv_file_name, mode=\"w\", newline=\"\", encoding=\"utf-8\") as csv_file:\n",
    "    fieldnames = [\n",
    "        \"blockNumber\",\n",
    "        \"timeStamp\",\n",
    "        \"hash\",\n",
    "        \"from\",\n",
    "        \"to\",\n",
    "        \"value\",\n",
    "        \"contractAddress\",\n",
    "        \"input\",\n",
    "        \"type\",\n",
    "        \"gas\",\n",
    "        \"gasUsed\",\n",
    "        \"traceId\",\n",
    "        \"isError\",\n",
    "        \"errCode\"\n",
    "    ]\n",
    "    writer = csv.DictWriter(csv_file, fieldnames=fieldnames)\n",
    "    writer.writeheader()\n",
    "\n",
    "    # Writing the response data to the CSV file\n",
    "    for item in data[\"result\"]:\n",
    "        writer.writerow(item)\n",
    "\n",
    "print(f\"Internal transactions data saved to {csv_file_name}\")"
   ],
   "metadata": {
    "collapsed": false,
    "ExecuteTime": {
     "end_time": "2023-08-13T17:59:38.882464100Z",
     "start_time": "2023-08-13T17:59:38.295956600Z"
    }
   }
  },
  {
   "cell_type": "code",
   "execution_count": null,
   "outputs": [],
   "source": [],
   "metadata": {
    "collapsed": false
   }
  }
 ],
 "metadata": {
  "kernelspec": {
   "display_name": "Python 3",
   "language": "python",
   "name": "python3"
  },
  "language_info": {
   "codemirror_mode": {
    "name": "ipython",
    "version": 2
   },
   "file_extension": ".py",
   "mimetype": "text/x-python",
   "name": "python",
   "nbconvert_exporter": "python",
   "pygments_lexer": "ipython2",
   "version": "2.7.6"
  }
 },
 "nbformat": 4,
 "nbformat_minor": 0
}
